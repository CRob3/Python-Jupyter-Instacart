{
 "cells": [
  {
   "cell_type": "markdown",
   "id": "1684bd63",
   "metadata": {},
   "source": [
    "# Exercise 4.9 Data Vis Part 2"
   ]
  },
  {
   "cell_type": "markdown",
   "id": "13304577",
   "metadata": {},
   "source": [
    "## 1. [Import Libraries](#library)"
   ]
  },
  {
   "cell_type": "markdown",
   "id": "c595bed3",
   "metadata": {},
   "source": [
    "## 2. [Import Dataframes](#dataframe)"
   ]
  },
  {
   "cell_type": "markdown",
   "id": "18a937de",
   "metadata": {},
   "source": [
    "## 3. [Create Plots](#charts)"
   ]
  },
  {
   "cell_type": "markdown",
   "id": "89d40e4f",
   "metadata": {},
   "source": [
    "## 4. [Question 3](#q3)"
   ]
  },
  {
   "cell_type": "markdown",
   "id": "53bede43",
   "metadata": {},
   "source": [
    "## 5. [Question 4](#q4)"
   ]
  },
  {
   "cell_type": "markdown",
   "id": "4bc1eac0",
   "metadata": {},
   "source": [
    "## 6. [Question 5](#q5)"
   ]
  },
  {
   "cell_type": "markdown",
   "id": "1089a14d",
   "metadata": {},
   "source": [
    "## 7. [Question 6](#q6)"
   ]
  },
  {
   "cell_type": "markdown",
   "id": "348b83d2",
   "metadata": {},
   "source": [
    "## 8. [Question 7](#q7)"
   ]
  },
  {
   "cell_type": "markdown",
   "id": "9551e382",
   "metadata": {},
   "source": [
    "## Import Libraries\n",
    "<a id ='library'></a>"
   ]
  },
  {
   "cell_type": "code",
   "execution_count": 1,
   "id": "f240b73b",
   "metadata": {},
   "outputs": [],
   "source": [
    "import pandas as pd\n",
    "import numpy as np\n",
    "import os\n",
    "import matplotlib.pyplot as plt\n",
    "import seaborn as sns\n",
    "import scipy"
   ]
  },
  {
   "cell_type": "markdown",
   "id": "31cacc78",
   "metadata": {},
   "source": [
    "## Import dataframe\n",
    "<a id = 'dataframe'></a>"
   ]
  },
  {
   "cell_type": "code",
   "execution_count": 2,
   "id": "9d31a1b0",
   "metadata": {},
   "outputs": [],
   "source": [
    "path = r\"C:\\Users\\corri\\Documents\\New Career\\Achievment 4\\Instacart Basket Analysis\""
   ]
  },
  {
   "cell_type": "code",
   "execution_count": 3,
   "id": "a7b5b5a3",
   "metadata": {},
   "outputs": [],
   "source": [
    "data = pd.read_pickle(os.path.join(path, 'Data', 'Prepared Data', 'total_info.pkl'))"
   ]
  },
  {
   "cell_type": "code",
   "execution_count": 4,
   "id": "92585747",
   "metadata": {},
   "outputs": [
    {
     "name": "stdout",
     "output_type": "stream",
     "text": [
      "<class 'pandas.core.frame.DataFrame'>\n",
      "Int64Index: 32433030 entries, 0 to 32433029\n",
      "Data columns (total 30 columns):\n",
      " #   Column                  Dtype   \n",
      "---  ------                  -----   \n",
      " 0   order_id                int64   \n",
      " 1   user_id                 int64   \n",
      " 2   order_number            int64   \n",
      " 3   orders_day_of_week      int64   \n",
      " 4   order_hour_of_day       int64   \n",
      " 5   days_since_prior_order  float64 \n",
      " 6   product_id              int64   \n",
      " 7   add_to_cart_order       int64   \n",
      " 8   reordered               int64   \n",
      " 9   product_name            object  \n",
      " 10  aisle_id                int64   \n",
      " 11  department_id           int64   \n",
      " 12  prices                  float64 \n",
      " 13  price_ranges            object  \n",
      " 14  shopping_days           object  \n",
      " 15  busy_hours              object  \n",
      " 16  max_order               int64   \n",
      " 17  loyalty_flag            object  \n",
      " 18  avg_spent               float64 \n",
      " 19  spenders                object  \n",
      " 20  med_frequency           float64 \n",
      " 21  frequent                object  \n",
      " 22  Gender                  object  \n",
      " 23  State                   object  \n",
      " 24  Age                     int64   \n",
      " 25  date_joined             object  \n",
      " 26  children                int64   \n",
      " 27  fam_status              object  \n",
      " 28  income                  int64   \n",
      " 29  _merge                  category\n",
      "dtypes: category(1), float64(4), int64(14), object(11)\n",
      "memory usage: 7.3+ GB\n"
     ]
    }
   ],
   "source": [
    "data.info()"
   ]
  },
  {
   "cell_type": "code",
   "execution_count": 5,
   "id": "9d1b5db7",
   "metadata": {},
   "outputs": [
    {
     "data": {
      "text/plain": [
       "(32433030, 30)"
      ]
     },
     "execution_count": 5,
     "metadata": {},
     "output_type": "execute_result"
    }
   ],
   "source": [
    "data.shape"
   ]
  },
  {
   "cell_type": "code",
   "execution_count": 4,
   "id": "0a2d1a9f",
   "metadata": {},
   "outputs": [],
   "source": [
    "data = data.drop(columns = ['_merge'])"
   ]
  },
  {
   "cell_type": "code",
   "execution_count": 7,
   "id": "e9757ae3",
   "metadata": {},
   "outputs": [
    {
     "data": {
      "text/html": [
       "<div>\n",
       "<style scoped>\n",
       "    .dataframe tbody tr th:only-of-type {\n",
       "        vertical-align: middle;\n",
       "    }\n",
       "\n",
       "    .dataframe tbody tr th {\n",
       "        vertical-align: top;\n",
       "    }\n",
       "\n",
       "    .dataframe thead th {\n",
       "        text-align: right;\n",
       "    }\n",
       "</style>\n",
       "<table border=\"1\" class=\"dataframe\">\n",
       "  <thead>\n",
       "    <tr style=\"text-align: right;\">\n",
       "      <th></th>\n",
       "      <th>order_id</th>\n",
       "      <th>user_id</th>\n",
       "      <th>order_number</th>\n",
       "      <th>orders_day_of_week</th>\n",
       "      <th>order_hour_of_day</th>\n",
       "      <th>days_since_prior_order</th>\n",
       "      <th>product_id</th>\n",
       "      <th>add_to_cart_order</th>\n",
       "      <th>reordered</th>\n",
       "      <th>product_name</th>\n",
       "      <th>...</th>\n",
       "      <th>spenders</th>\n",
       "      <th>med_frequency</th>\n",
       "      <th>frequent</th>\n",
       "      <th>Gender</th>\n",
       "      <th>State</th>\n",
       "      <th>Age</th>\n",
       "      <th>date_joined</th>\n",
       "      <th>children</th>\n",
       "      <th>fam_status</th>\n",
       "      <th>income</th>\n",
       "    </tr>\n",
       "  </thead>\n",
       "  <tbody>\n",
       "    <tr>\n",
       "      <th>0</th>\n",
       "      <td>2539329</td>\n",
       "      <td>1</td>\n",
       "      <td>1</td>\n",
       "      <td>2</td>\n",
       "      <td>8</td>\n",
       "      <td>NaN</td>\n",
       "      <td>196</td>\n",
       "      <td>1</td>\n",
       "      <td>0</td>\n",
       "      <td>Soda</td>\n",
       "      <td>...</td>\n",
       "      <td>Low Spender</td>\n",
       "      <td>20.5</td>\n",
       "      <td>Non-Frequent Customer</td>\n",
       "      <td>Female</td>\n",
       "      <td>Alabama</td>\n",
       "      <td>31</td>\n",
       "      <td>2/17/2019</td>\n",
       "      <td>3</td>\n",
       "      <td>married</td>\n",
       "      <td>40423</td>\n",
       "    </tr>\n",
       "    <tr>\n",
       "      <th>1</th>\n",
       "      <td>2398795</td>\n",
       "      <td>1</td>\n",
       "      <td>2</td>\n",
       "      <td>3</td>\n",
       "      <td>7</td>\n",
       "      <td>15.0</td>\n",
       "      <td>196</td>\n",
       "      <td>1</td>\n",
       "      <td>1</td>\n",
       "      <td>Soda</td>\n",
       "      <td>...</td>\n",
       "      <td>Low Spender</td>\n",
       "      <td>20.5</td>\n",
       "      <td>Non-Frequent Customer</td>\n",
       "      <td>Female</td>\n",
       "      <td>Alabama</td>\n",
       "      <td>31</td>\n",
       "      <td>2/17/2019</td>\n",
       "      <td>3</td>\n",
       "      <td>married</td>\n",
       "      <td>40423</td>\n",
       "    </tr>\n",
       "    <tr>\n",
       "      <th>2</th>\n",
       "      <td>473747</td>\n",
       "      <td>1</td>\n",
       "      <td>3</td>\n",
       "      <td>3</td>\n",
       "      <td>12</td>\n",
       "      <td>21.0</td>\n",
       "      <td>196</td>\n",
       "      <td>1</td>\n",
       "      <td>1</td>\n",
       "      <td>Soda</td>\n",
       "      <td>...</td>\n",
       "      <td>Low Spender</td>\n",
       "      <td>20.5</td>\n",
       "      <td>Non-Frequent Customer</td>\n",
       "      <td>Female</td>\n",
       "      <td>Alabama</td>\n",
       "      <td>31</td>\n",
       "      <td>2/17/2019</td>\n",
       "      <td>3</td>\n",
       "      <td>married</td>\n",
       "      <td>40423</td>\n",
       "    </tr>\n",
       "    <tr>\n",
       "      <th>3</th>\n",
       "      <td>2254736</td>\n",
       "      <td>1</td>\n",
       "      <td>4</td>\n",
       "      <td>4</td>\n",
       "      <td>7</td>\n",
       "      <td>29.0</td>\n",
       "      <td>196</td>\n",
       "      <td>1</td>\n",
       "      <td>1</td>\n",
       "      <td>Soda</td>\n",
       "      <td>...</td>\n",
       "      <td>Low Spender</td>\n",
       "      <td>20.5</td>\n",
       "      <td>Non-Frequent Customer</td>\n",
       "      <td>Female</td>\n",
       "      <td>Alabama</td>\n",
       "      <td>31</td>\n",
       "      <td>2/17/2019</td>\n",
       "      <td>3</td>\n",
       "      <td>married</td>\n",
       "      <td>40423</td>\n",
       "    </tr>\n",
       "    <tr>\n",
       "      <th>4</th>\n",
       "      <td>431534</td>\n",
       "      <td>1</td>\n",
       "      <td>5</td>\n",
       "      <td>4</td>\n",
       "      <td>15</td>\n",
       "      <td>28.0</td>\n",
       "      <td>196</td>\n",
       "      <td>1</td>\n",
       "      <td>1</td>\n",
       "      <td>Soda</td>\n",
       "      <td>...</td>\n",
       "      <td>Low Spender</td>\n",
       "      <td>20.5</td>\n",
       "      <td>Non-Frequent Customer</td>\n",
       "      <td>Female</td>\n",
       "      <td>Alabama</td>\n",
       "      <td>31</td>\n",
       "      <td>2/17/2019</td>\n",
       "      <td>3</td>\n",
       "      <td>married</td>\n",
       "      <td>40423</td>\n",
       "    </tr>\n",
       "  </tbody>\n",
       "</table>\n",
       "<p>5 rows × 29 columns</p>\n",
       "</div>"
      ],
      "text/plain": [
       "   order_id  user_id  order_number  orders_day_of_week  order_hour_of_day  \\\n",
       "0   2539329        1             1                   2                  8   \n",
       "1   2398795        1             2                   3                  7   \n",
       "2    473747        1             3                   3                 12   \n",
       "3   2254736        1             4                   4                  7   \n",
       "4    431534        1             5                   4                 15   \n",
       "\n",
       "   days_since_prior_order  product_id  add_to_cart_order  reordered  \\\n",
       "0                     NaN         196                  1          0   \n",
       "1                    15.0         196                  1          1   \n",
       "2                    21.0         196                  1          1   \n",
       "3                    29.0         196                  1          1   \n",
       "4                    28.0         196                  1          1   \n",
       "\n",
       "  product_name  ...     spenders  med_frequency               frequent  \\\n",
       "0         Soda  ...  Low Spender           20.5  Non-Frequent Customer   \n",
       "1         Soda  ...  Low Spender           20.5  Non-Frequent Customer   \n",
       "2         Soda  ...  Low Spender           20.5  Non-Frequent Customer   \n",
       "3         Soda  ...  Low Spender           20.5  Non-Frequent Customer   \n",
       "4         Soda  ...  Low Spender           20.5  Non-Frequent Customer   \n",
       "\n",
       "   Gender    State Age  date_joined children  fam_status income  \n",
       "0  Female  Alabama  31    2/17/2019        3     married  40423  \n",
       "1  Female  Alabama  31    2/17/2019        3     married  40423  \n",
       "2  Female  Alabama  31    2/17/2019        3     married  40423  \n",
       "3  Female  Alabama  31    2/17/2019        3     married  40423  \n",
       "4  Female  Alabama  31    2/17/2019        3     married  40423  \n",
       "\n",
       "[5 rows x 29 columns]"
      ]
     },
     "execution_count": 7,
     "metadata": {},
     "output_type": "execute_result"
    }
   ],
   "source": [
    "data.head()"
   ]
  },
  {
   "cell_type": "code",
   "execution_count": 8,
   "id": "e5dab1b9",
   "metadata": {},
   "outputs": [
    {
     "data": {
      "text/html": [
       "<div>\n",
       "<style scoped>\n",
       "    .dataframe tbody tr th:only-of-type {\n",
       "        vertical-align: middle;\n",
       "    }\n",
       "\n",
       "    .dataframe tbody tr th {\n",
       "        vertical-align: top;\n",
       "    }\n",
       "\n",
       "    .dataframe thead th {\n",
       "        text-align: right;\n",
       "    }\n",
       "</style>\n",
       "<table border=\"1\" class=\"dataframe\">\n",
       "  <thead>\n",
       "    <tr style=\"text-align: right;\">\n",
       "      <th></th>\n",
       "      <th>order_id</th>\n",
       "      <th>user_id</th>\n",
       "      <th>order_number</th>\n",
       "      <th>orders_day_of_week</th>\n",
       "      <th>order_hour_of_day</th>\n",
       "      <th>days_since_prior_order</th>\n",
       "      <th>product_id</th>\n",
       "      <th>add_to_cart_order</th>\n",
       "      <th>reordered</th>\n",
       "      <th>aisle_id</th>\n",
       "      <th>department_id</th>\n",
       "      <th>prices</th>\n",
       "      <th>max_order</th>\n",
       "      <th>avg_spent</th>\n",
       "      <th>med_frequency</th>\n",
       "      <th>Age</th>\n",
       "      <th>children</th>\n",
       "      <th>income</th>\n",
       "    </tr>\n",
       "  </thead>\n",
       "  <tbody>\n",
       "    <tr>\n",
       "      <th>count</th>\n",
       "      <td>3.243303e+07</td>\n",
       "      <td>3.243303e+07</td>\n",
       "      <td>3.243303e+07</td>\n",
       "      <td>3.243303e+07</td>\n",
       "      <td>3.243303e+07</td>\n",
       "      <td>3.035505e+07</td>\n",
       "      <td>3.243303e+07</td>\n",
       "      <td>3.243303e+07</td>\n",
       "      <td>3.243303e+07</td>\n",
       "      <td>3.243303e+07</td>\n",
       "      <td>3.243303e+07</td>\n",
       "      <td>3.242790e+07</td>\n",
       "      <td>3.243303e+07</td>\n",
       "      <td>3.243303e+07</td>\n",
       "      <td>3.243303e+07</td>\n",
       "      <td>3.243303e+07</td>\n",
       "      <td>3.243303e+07</td>\n",
       "      <td>3.243303e+07</td>\n",
       "    </tr>\n",
       "    <tr>\n",
       "      <th>mean</th>\n",
       "      <td>1.710748e+06</td>\n",
       "      <td>1.029375e+05</td>\n",
       "      <td>1.714200e+01</td>\n",
       "      <td>2.738815e+00</td>\n",
       "      <td>1.342500e+01</td>\n",
       "      <td>1.110414e+01</td>\n",
       "      <td>2.557749e+04</td>\n",
       "      <td>8.351107e+00</td>\n",
       "      <td>5.896915e-01</td>\n",
       "      <td>7.121488e+01</td>\n",
       "      <td>9.922101e+00</td>\n",
       "      <td>7.795737e+00</td>\n",
       "      <td>3.305231e+01</td>\n",
       "      <td>1.198133e+01</td>\n",
       "      <td>1.039781e+01</td>\n",
       "      <td>4.946523e+01</td>\n",
       "      <td>1.501877e+00</td>\n",
       "      <td>9.943537e+04</td>\n",
       "    </tr>\n",
       "    <tr>\n",
       "      <th>std</th>\n",
       "      <td>9.872998e+05</td>\n",
       "      <td>5.946650e+04</td>\n",
       "      <td>1.753495e+01</td>\n",
       "      <td>2.090050e+00</td>\n",
       "      <td>4.246349e+00</td>\n",
       "      <td>8.778945e+00</td>\n",
       "      <td>1.409625e+04</td>\n",
       "      <td>7.126631e+00</td>\n",
       "      <td>4.918897e-01</td>\n",
       "      <td>3.820386e+01</td>\n",
       "      <td>6.281257e+00</td>\n",
       "      <td>4.243219e+00</td>\n",
       "      <td>2.515455e+01</td>\n",
       "      <td>8.319275e+01</td>\n",
       "      <td>7.131247e+00</td>\n",
       "      <td>1.848555e+01</td>\n",
       "      <td>1.118870e+00</td>\n",
       "      <td>4.305491e+04</td>\n",
       "    </tr>\n",
       "    <tr>\n",
       "      <th>min</th>\n",
       "      <td>2.000000e+00</td>\n",
       "      <td>1.000000e+00</td>\n",
       "      <td>1.000000e+00</td>\n",
       "      <td>0.000000e+00</td>\n",
       "      <td>0.000000e+00</td>\n",
       "      <td>0.000000e+00</td>\n",
       "      <td>1.000000e+00</td>\n",
       "      <td>1.000000e+00</td>\n",
       "      <td>0.000000e+00</td>\n",
       "      <td>1.000000e+00</td>\n",
       "      <td>1.000000e+00</td>\n",
       "      <td>1.000000e+00</td>\n",
       "      <td>3.000000e+00</td>\n",
       "      <td>1.000000e+00</td>\n",
       "      <td>0.000000e+00</td>\n",
       "      <td>1.800000e+01</td>\n",
       "      <td>0.000000e+00</td>\n",
       "      <td>2.590300e+04</td>\n",
       "    </tr>\n",
       "    <tr>\n",
       "      <th>25%</th>\n",
       "      <td>8.559442e+05</td>\n",
       "      <td>5.142000e+04</td>\n",
       "      <td>5.000000e+00</td>\n",
       "      <td>1.000000e+00</td>\n",
       "      <td>1.000000e+01</td>\n",
       "      <td>5.000000e+00</td>\n",
       "      <td>1.353500e+04</td>\n",
       "      <td>3.000000e+00</td>\n",
       "      <td>0.000000e+00</td>\n",
       "      <td>3.100000e+01</td>\n",
       "      <td>4.000000e+00</td>\n",
       "      <td>4.200000e+00</td>\n",
       "      <td>1.300000e+01</td>\n",
       "      <td>7.391935e+00</td>\n",
       "      <td>6.000000e+00</td>\n",
       "      <td>3.300000e+01</td>\n",
       "      <td>1.000000e+00</td>\n",
       "      <td>6.699800e+04</td>\n",
       "    </tr>\n",
       "    <tr>\n",
       "      <th>50%</th>\n",
       "      <td>1.711049e+06</td>\n",
       "      <td>1.026130e+05</td>\n",
       "      <td>1.100000e+01</td>\n",
       "      <td>3.000000e+00</td>\n",
       "      <td>1.300000e+01</td>\n",
       "      <td>8.000000e+00</td>\n",
       "      <td>2.525600e+04</td>\n",
       "      <td>6.000000e+00</td>\n",
       "      <td>1.000000e+00</td>\n",
       "      <td>8.300000e+01</td>\n",
       "      <td>9.000000e+00</td>\n",
       "      <td>7.400000e+00</td>\n",
       "      <td>2.600000e+01</td>\n",
       "      <td>7.829483e+00</td>\n",
       "      <td>8.000000e+00</td>\n",
       "      <td>4.900000e+01</td>\n",
       "      <td>2.000000e+00</td>\n",
       "      <td>9.661200e+04</td>\n",
       "    </tr>\n",
       "    <tr>\n",
       "      <th>75%</th>\n",
       "      <td>2.565511e+06</td>\n",
       "      <td>1.543910e+05</td>\n",
       "      <td>2.400000e+01</td>\n",
       "      <td>5.000000e+00</td>\n",
       "      <td>1.600000e+01</td>\n",
       "      <td>1.500000e+01</td>\n",
       "      <td>3.793500e+04</td>\n",
       "      <td>1.100000e+01</td>\n",
       "      <td>1.000000e+00</td>\n",
       "      <td>1.070000e+02</td>\n",
       "      <td>1.600000e+01</td>\n",
       "      <td>1.130000e+01</td>\n",
       "      <td>4.700000e+01</td>\n",
       "      <td>8.258696e+00</td>\n",
       "      <td>1.300000e+01</td>\n",
       "      <td>6.500000e+01</td>\n",
       "      <td>3.000000e+00</td>\n",
       "      <td>1.279080e+05</td>\n",
       "    </tr>\n",
       "    <tr>\n",
       "      <th>max</th>\n",
       "      <td>3.421083e+06</td>\n",
       "      <td>2.062090e+05</td>\n",
       "      <td>9.900000e+01</td>\n",
       "      <td>6.000000e+00</td>\n",
       "      <td>2.300000e+01</td>\n",
       "      <td>3.000000e+01</td>\n",
       "      <td>4.968800e+04</td>\n",
       "      <td>1.450000e+02</td>\n",
       "      <td>1.000000e+00</td>\n",
       "      <td>1.340000e+02</td>\n",
       "      <td>2.100000e+01</td>\n",
       "      <td>2.500000e+01</td>\n",
       "      <td>9.900000e+01</td>\n",
       "      <td>2.500542e+04</td>\n",
       "      <td>3.000000e+01</td>\n",
       "      <td>8.100000e+01</td>\n",
       "      <td>3.000000e+00</td>\n",
       "      <td>5.939010e+05</td>\n",
       "    </tr>\n",
       "  </tbody>\n",
       "</table>\n",
       "</div>"
      ],
      "text/plain": [
       "           order_id       user_id  order_number  orders_day_of_week  \\\n",
       "count  3.243303e+07  3.243303e+07  3.243303e+07        3.243303e+07   \n",
       "mean   1.710748e+06  1.029375e+05  1.714200e+01        2.738815e+00   \n",
       "std    9.872998e+05  5.946650e+04  1.753495e+01        2.090050e+00   \n",
       "min    2.000000e+00  1.000000e+00  1.000000e+00        0.000000e+00   \n",
       "25%    8.559442e+05  5.142000e+04  5.000000e+00        1.000000e+00   \n",
       "50%    1.711049e+06  1.026130e+05  1.100000e+01        3.000000e+00   \n",
       "75%    2.565511e+06  1.543910e+05  2.400000e+01        5.000000e+00   \n",
       "max    3.421083e+06  2.062090e+05  9.900000e+01        6.000000e+00   \n",
       "\n",
       "       order_hour_of_day  days_since_prior_order    product_id  \\\n",
       "count       3.243303e+07            3.035505e+07  3.243303e+07   \n",
       "mean        1.342500e+01            1.110414e+01  2.557749e+04   \n",
       "std         4.246349e+00            8.778945e+00  1.409625e+04   \n",
       "min         0.000000e+00            0.000000e+00  1.000000e+00   \n",
       "25%         1.000000e+01            5.000000e+00  1.353500e+04   \n",
       "50%         1.300000e+01            8.000000e+00  2.525600e+04   \n",
       "75%         1.600000e+01            1.500000e+01  3.793500e+04   \n",
       "max         2.300000e+01            3.000000e+01  4.968800e+04   \n",
       "\n",
       "       add_to_cart_order     reordered      aisle_id  department_id  \\\n",
       "count       3.243303e+07  3.243303e+07  3.243303e+07   3.243303e+07   \n",
       "mean        8.351107e+00  5.896915e-01  7.121488e+01   9.922101e+00   \n",
       "std         7.126631e+00  4.918897e-01  3.820386e+01   6.281257e+00   \n",
       "min         1.000000e+00  0.000000e+00  1.000000e+00   1.000000e+00   \n",
       "25%         3.000000e+00  0.000000e+00  3.100000e+01   4.000000e+00   \n",
       "50%         6.000000e+00  1.000000e+00  8.300000e+01   9.000000e+00   \n",
       "75%         1.100000e+01  1.000000e+00  1.070000e+02   1.600000e+01   \n",
       "max         1.450000e+02  1.000000e+00  1.340000e+02   2.100000e+01   \n",
       "\n",
       "             prices     max_order     avg_spent  med_frequency           Age  \\\n",
       "count  3.242790e+07  3.243303e+07  3.243303e+07   3.243303e+07  3.243303e+07   \n",
       "mean   7.795737e+00  3.305231e+01  1.198133e+01   1.039781e+01  4.946523e+01   \n",
       "std    4.243219e+00  2.515455e+01  8.319275e+01   7.131247e+00  1.848555e+01   \n",
       "min    1.000000e+00  3.000000e+00  1.000000e+00   0.000000e+00  1.800000e+01   \n",
       "25%    4.200000e+00  1.300000e+01  7.391935e+00   6.000000e+00  3.300000e+01   \n",
       "50%    7.400000e+00  2.600000e+01  7.829483e+00   8.000000e+00  4.900000e+01   \n",
       "75%    1.130000e+01  4.700000e+01  8.258696e+00   1.300000e+01  6.500000e+01   \n",
       "max    2.500000e+01  9.900000e+01  2.500542e+04   3.000000e+01  8.100000e+01   \n",
       "\n",
       "           children        income  \n",
       "count  3.243303e+07  3.243303e+07  \n",
       "mean   1.501877e+00  9.943537e+04  \n",
       "std    1.118870e+00  4.305491e+04  \n",
       "min    0.000000e+00  2.590300e+04  \n",
       "25%    1.000000e+00  6.699800e+04  \n",
       "50%    2.000000e+00  9.661200e+04  \n",
       "75%    3.000000e+00  1.279080e+05  \n",
       "max    3.000000e+00  5.939010e+05  "
      ]
     },
     "execution_count": 8,
     "metadata": {},
     "output_type": "execute_result"
    }
   ],
   "source": [
    "data.describe()"
   ]
  },
  {
   "cell_type": "markdown",
   "id": "467281a6",
   "metadata": {},
   "source": [
    "## Create Plots\n",
    "<a id ='charts'></a>"
   ]
  },
  {
   "cell_type": "code",
   "execution_count": 5,
   "id": "56cf7d0e",
   "metadata": {},
   "outputs": [
    {
     "data": {
      "image/png": "[encoded data removed]",
      "text/plain": [
       "<Figure size 432x288 with 1 Axes>"
      ]
     },
     "metadata": {
      "needs_background": "light"
     },
     "output_type": "display_data"
    }
   ],
   "source": [
    "#Bar Chart orders_day_of_week\n",
    "bar = data['orders_day_of_week'].value_counts().sort_index().plot.bar(title = 'Orders by Weekday (0 = Saturday)')"
   ]
  },
  {
   "cell_type": "code",
   "execution_count": 6,
   "id": "cbe793fc",
   "metadata": {},
   "outputs": [],
   "source": [
    "# Export bar chart\n",
    "bar.figure.savefig(os.path.join(path, 'Analysis', 'Visualizations', 'bar_orders_dow.png'))"
   ]
  },
  {
   "cell_type": "code",
   "execution_count": 11,
   "id": "1352d5f2",
   "metadata": {},
   "outputs": [
    {
     "data": {
      "image/png": "[encoded data removed]",
      "text/plain": [
       "<Figure size 432x288 with 1 Axes>"
      ]
     },
     "metadata": {
      "needs_background": "light"
     },
     "output_type": "display_data"
    }
   ],
   "source": [
    "#Histogram of prices\n",
    "hist = data['prices'].plot.hist(bins = 70, title = 'Frequency of Item Prices')"
   ]
  },
  {
   "cell_type": "code",
   "execution_count": 12,
   "id": "8dd4950c",
   "metadata": {},
   "outputs": [],
   "source": [
    "# Export histogram\n",
    "hist.figure.savefig(os.path.join(path, 'Analysis', 'Visualizations', 'hist_prices.png'))"
   ]
  },
  {
   "cell_type": "code",
   "execution_count": 15,
   "id": "39204ae2",
   "metadata": {},
   "outputs": [
    {
     "data": {
      "image/png": "[encoded data removed]",
      "text/plain": [
       "<Figure size 432x288 with 1 Axes>"
      ]
     },
     "metadata": {
      "needs_background": "light"
     },
     "output_type": "display_data"
    }
   ],
   "source": [
    "# Scatterplot of prices\n",
    "scatter = sns.scatterplot(x = 'prices', y = 'prices', data = data)"
   ]
  },
  {
   "cell_type": "code",
   "execution_count": 28,
   "id": "a605ad64",
   "metadata": {},
   "outputs": [],
   "source": [
    "# Export scatterplot\n",
    "scatter.figure.savefig(os.path.join(path, 'Analysis', 'Visualizations', 'scatter_prices.png'))"
   ]
  },
  {
   "cell_type": "code",
   "execution_count": 18,
   "id": "ff9a4b0f",
   "metadata": {},
   "outputs": [],
   "source": [
    "# Create sampling data for line chart, 70/30 split\n",
    "np.random.seed(4)"
   ]
  },
  {
   "cell_type": "code",
   "execution_count": 19,
   "id": "221c0155",
   "metadata": {},
   "outputs": [],
   "source": [
    "dev = np.random.rand(len(data)) <= 0.7"
   ]
  },
  {
   "cell_type": "code",
   "execution_count": 20,
   "id": "2c276bd7",
   "metadata": {},
   "outputs": [],
   "source": [
    "big = data[dev]"
   ]
  },
  {
   "cell_type": "code",
   "execution_count": 21,
   "id": "3594a936",
   "metadata": {},
   "outputs": [],
   "source": [
    "small = data[~dev]"
   ]
  },
  {
   "cell_type": "code",
   "execution_count": 22,
   "id": "c1f30c10",
   "metadata": {},
   "outputs": [
    {
     "data": {
      "text/plain": [
       "32433030"
      ]
     },
     "execution_count": 22,
     "metadata": {},
     "output_type": "execute_result"
    }
   ],
   "source": [
    "len(data)"
   ]
  },
  {
   "cell_type": "code",
   "execution_count": 23,
   "id": "a68bd889",
   "metadata": {},
   "outputs": [
    {
     "data": {
      "text/plain": [
       "32433030"
      ]
     },
     "execution_count": 23,
     "metadata": {},
     "output_type": "execute_result"
    }
   ],
   "source": [
    "len(big) + len(small)"
   ]
  },
  {
   "cell_type": "code",
   "execution_count": 24,
   "id": "c2f70069",
   "metadata": {},
   "outputs": [],
   "source": [
    "# Limit the columns to improve speed\n",
    "data_2 = small[['orders_day_of_week', 'prices']]"
   ]
  },
  {
   "cell_type": "code",
   "execution_count": 25,
   "id": "6aaa2ec5",
   "metadata": {},
   "outputs": [
    {
     "data": {
      "text/html": [
       "<div>\n",
       "<style scoped>\n",
       "    .dataframe tbody tr th:only-of-type {\n",
       "        vertical-align: middle;\n",
       "    }\n",
       "\n",
       "    .dataframe tbody tr th {\n",
       "        vertical-align: top;\n",
       "    }\n",
       "\n",
       "    .dataframe thead th {\n",
       "        text-align: right;\n",
       "    }\n",
       "</style>\n",
       "<table border=\"1\" class=\"dataframe\">\n",
       "  <thead>\n",
       "    <tr style=\"text-align: right;\">\n",
       "      <th></th>\n",
       "      <th>orders_day_of_week</th>\n",
       "      <th>prices</th>\n",
       "    </tr>\n",
       "  </thead>\n",
       "  <tbody>\n",
       "    <tr>\n",
       "      <th>0</th>\n",
       "      <td>2</td>\n",
       "      <td>9.0</td>\n",
       "    </tr>\n",
       "    <tr>\n",
       "      <th>2</th>\n",
       "      <td>3</td>\n",
       "      <td>9.0</td>\n",
       "    </tr>\n",
       "    <tr>\n",
       "      <th>3</th>\n",
       "      <td>4</td>\n",
       "      <td>9.0</td>\n",
       "    </tr>\n",
       "    <tr>\n",
       "      <th>6</th>\n",
       "      <td>1</td>\n",
       "      <td>9.0</td>\n",
       "    </tr>\n",
       "    <tr>\n",
       "      <th>10</th>\n",
       "      <td>2</td>\n",
       "      <td>12.5</td>\n",
       "    </tr>\n",
       "  </tbody>\n",
       "</table>\n",
       "</div>"
      ],
      "text/plain": [
       "    orders_day_of_week  prices\n",
       "0                    2     9.0\n",
       "2                    3     9.0\n",
       "3                    4     9.0\n",
       "6                    1     9.0\n",
       "10                   2    12.5"
      ]
     },
     "execution_count": 25,
     "metadata": {},
     "output_type": "execute_result"
    }
   ],
   "source": [
    "data_2.head()"
   ]
  },
  {
   "cell_type": "code",
   "execution_count": 26,
   "id": "26c6c478",
   "metadata": {},
   "outputs": [
    {
     "data": {
      "image/png": "[encoded data removed]",
      "text/plain": [
       "<Figure size 432x288 with 1 Axes>"
      ]
     },
     "metadata": {
      "needs_background": "light"
     },
     "output_type": "display_data"
    }
   ],
   "source": [
    "# Create line chart from the smaller data sample\n",
    "line = sns.lineplot(data = data_2, x = 'orders_day_of_week', y = 'prices')"
   ]
  },
  {
   "cell_type": "code",
   "execution_count": 27,
   "id": "8d88a60b",
   "metadata": {},
   "outputs": [],
   "source": [
    "# Export line graph\n",
    "line.figure.savefig(os.path.join(path, 'Analysis', 'Visualizations', 'line_dow_prices.png'))"
   ]
  },
  {
   "cell_type": "markdown",
   "id": "23bab36a",
   "metadata": {},
   "source": [
    "## Question 3\n",
    "<a id ='q3'></a>"
   ]
  },
  {
   "cell_type": "code",
   "execution_count": 13,
   "id": "ec41e760",
   "metadata": {},
   "outputs": [
    {
     "data": {
      "image/png": "[encoded data removed]",
      "text/plain": [
       "<Figure size 432x288 with 1 Axes>"
      ]
     },
     "metadata": {
      "needs_background": "light"
     },
     "output_type": "display_data"
    }
   ],
   "source": [
    "# Histogram of order_hour_of_day\n",
    "hist_ohd = data['order_hour_of_day'].plot.hist(bins = 24, title = 'Orders Over 24 Hours')"
   ]
  },
  {
   "cell_type": "code",
   "execution_count": 14,
   "id": "2833dc6e",
   "metadata": {},
   "outputs": [],
   "source": [
    "#Export chart\n",
    "hist_ohd.figure.savefig(os.path.join(path, 'Analysis', 'Visualizations', 'hist_ohd.png'))"
   ]
  },
  {
   "cell_type": "markdown",
   "id": "54642fec",
   "metadata": {},
   "source": [
    "### This chart shows us the frequency of orders during each hour of the day.  Clearly the most orders are done between 10 am and 4 pm."
   ]
  },
  {
   "cell_type": "markdown",
   "id": "f683bbf7",
   "metadata": {},
   "source": [
    "## Question 4\n",
    "<a id ='q4'></a>"
   ]
  },
  {
   "cell_type": "code",
   "execution_count": 36,
   "id": "bf9f5542",
   "metadata": {},
   "outputs": [
    {
     "data": {
      "image/png": "[encoded data removed]",
      "text/plain": [
       "<Figure size 432x288 with 1 Axes>"
      ]
     },
     "metadata": {
      "needs_background": "light"
     },
     "output_type": "display_data"
    }
   ],
   "source": [
    "# Bar graph of loyalty column\n",
    "bar_loyal = data['loyalty_flag'].value_counts().plot.bar()"
   ]
  },
  {
   "cell_type": "code",
   "execution_count": 37,
   "id": "4c8feec1",
   "metadata": {},
   "outputs": [],
   "source": [
    "# Export graph\n",
    "bar_loyal.figure.savefig(os.path.join(path, 'Analysis', 'Visualizations', 'bar_loyal.png'))"
   ]
  },
  {
   "cell_type": "markdown",
   "id": "f32a8c15",
   "metadata": {},
   "source": [
    "## Question 5\n",
    "<a id='q5'></a>"
   ]
  },
  {
   "cell_type": "code",
   "execution_count": 38,
   "id": "5e874aec",
   "metadata": {},
   "outputs": [],
   "source": [
    "# Create 70/30 split data subset of prices and order_hour_of_day\n",
    "data_3 = small[['order_hour_of_day', 'prices']]"
   ]
  },
  {
   "cell_type": "code",
   "execution_count": 39,
   "id": "5f25c5fb",
   "metadata": {},
   "outputs": [
    {
     "data": {
      "image/png": "[encoded data removed]",
      "text/plain": [
       "<Figure size 432x288 with 1 Axes>"
      ]
     },
     "metadata": {
      "needs_background": "light"
     },
     "output_type": "display_data"
    }
   ],
   "source": [
    "# Create line graph of order_hour_of_day and prices to look for differences\n",
    "line_prices = sns.lineplot(data = data_3, x = 'order_hour_of_day', y = 'prices')"
   ]
  },
  {
   "cell_type": "code",
   "execution_count": 40,
   "id": "8f7e7a67",
   "metadata": {},
   "outputs": [],
   "source": [
    "# Export graph\n",
    "line_prices.figure.savefig(os.path.join(path, 'Analysis', 'Visualizations', 'line_prices_ohd.png'))"
   ]
  },
  {
   "cell_type": "markdown",
   "id": "8054ded1",
   "metadata": {},
   "source": [
    "## Question 6\n",
    "<a id='q6'></a>"
   ]
  },
  {
   "cell_type": "code",
   "execution_count": 41,
   "id": "6c3f8850",
   "metadata": {},
   "outputs": [],
   "source": [
    "# Create a 70/30 split subset of data for Age and children for line graph\n",
    "data_4 = small[['Age', 'children']]"
   ]
  },
  {
   "cell_type": "code",
   "execution_count": 42,
   "id": "a2ad9b18",
   "metadata": {},
   "outputs": [
    {
     "data": {
      "image/png": "[encoded data removed]",
      "text/plain": [
       "<Figure size 432x288 with 1 Axes>"
      ]
     },
     "metadata": {
      "needs_background": "light"
     },
     "output_type": "display_data"
    }
   ],
   "source": [
    "line_age_children = sns.lineplot(data = data_4, x = 'Age', y = 'children')"
   ]
  },
  {
   "cell_type": "code",
   "execution_count": 43,
   "id": "02e28716",
   "metadata": {},
   "outputs": [],
   "source": [
    "# Export graph\n",
    "line_age_children.figure.savefig(os.path.join(path, 'Analysis', 'Visualizations', 'line_age_children.png'))"
   ]
  },
  {
   "cell_type": "markdown",
   "id": "c7b66ff7",
   "metadata": {},
   "source": [
    "### This graph is all over the place.  It suggests to me that the data should be examined more closely for accuracy and/or meaning.  Perhaps some people interpreted dependents not only as children but as other family members reliant on them (otherwise why would an 80 year old have 1.4 children?)"
   ]
  },
  {
   "cell_type": "code",
   "execution_count": 44,
   "id": "60fb47b6",
   "metadata": {},
   "outputs": [
    {
     "data": {
      "text/plain": [
       "<AxesSubplot:xlabel='Age', ylabel='children'>"
      ]
     },
     "execution_count": 44,
     "metadata": {},
     "output_type": "execute_result"
    },
    {
     "data": {
      "image/png": "[encoded data removed]",
      "text/plain": [
       "<Figure size 432x288 with 1 Axes>"
      ]
     },
     "metadata": {
      "needs_background": "light"
     },
     "output_type": "display_data"
    }
   ],
   "source": [
    "sns.scatterplot(x = 'Age', y = 'children', data = data)"
   ]
  },
  {
   "cell_type": "markdown",
   "id": "4f29ee91",
   "metadata": {},
   "source": [
    "## Question 7\n",
    "<a id ='q7'></a>"
   ]
  },
  {
   "cell_type": "code",
   "execution_count": 45,
   "id": "b7863662",
   "metadata": {},
   "outputs": [
    {
     "data": {
      "image/png": "[encoded data removed]",
      "text/plain": [
       "<Figure size 432x288 with 1 Axes>"
      ]
     },
     "metadata": {
      "needs_background": "light"
     },
     "output_type": "display_data"
    }
   ],
   "source": [
    "# Create a scatterplot of age and income\n",
    "scatter_age = sns.scatterplot(x = 'Age', y = 'income', data = data)"
   ]
  },
  {
   "cell_type": "code",
   "execution_count": 46,
   "id": "34d8a9b9",
   "metadata": {},
   "outputs": [],
   "source": [
    "# Export graph\n",
    "scatter_age.figure.savefig(os.path.join(path, 'Analysis', 'Visualizations', 'scatter_age_income.png'))"
   ]
  },
  {
   "cell_type": "markdown",
   "id": "8573ab8f",
   "metadata": {},
   "source": [
    "### Overall this graph shows that people under 40 don't have the highest bracket incomes (over 400,000 per year) but otherwise the incomes don't appear to be connected to age."
   ]
  },
  {
   "cell_type": "code",
   "execution_count": null,
   "id": "c49fc5b4",
   "metadata": {},
   "outputs": [],
   "source": []
  }
 ],
 "metadata": {
  "kernelspec": {
   "display_name": "Python 3 (ipykernel)",
   "language": "python",
   "name": "python3"
  },
  "language_info": {
   "codemirror_mode": {
    "name": "ipython",
    "version": 3
   },
   "file_extension": ".py",
   "mimetype": "text/x-python",
   "name": "python",
   "nbconvert_exporter": "python",
   "pygments_lexer": "ipython3",
   "version": "3.9.12"
  }
 },
 "nbformat": 4,
 "nbformat_minor": 5
}
