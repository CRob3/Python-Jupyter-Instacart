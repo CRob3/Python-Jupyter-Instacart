{
 "cells": [
  {
   "cell_type": "markdown",
   "id": "e0ec8ad3",
   "metadata": {},
   "source": [
    "## Exercise 4.10"
   ]
  },
  {
   "cell_type": "markdown",
   "id": "f8245125",
   "metadata": {},
   "source": [
    "## Table of Contents"
   ]
  },
  {
   "cell_type": "markdown",
   "id": "78e83587",
   "metadata": {},
   "source": [
    "### 1.[Import Libraries](#library)"
   ]
  },
  {
   "cell_type": "markdown",
   "id": "7c08880b",
   "metadata": {},
   "source": [
    "### 2. [Import Dataframe](#dataframe)"
   ]
  },
  {
   "cell_type": "markdown",
   "id": "63f723b0",
   "metadata": {},
   "source": [
    "### 3. [Question 3](#q3)"
   ]
  },
  {
   "cell_type": "markdown",
   "id": "aba6a78a",
   "metadata": {},
   "source": [
    "### 4.  [Question 4](#q4)"
   ]
  },
  {
   "cell_type": "markdown",
   "id": "918d57dd",
   "metadata": {},
   "source": [
    "### 5. [Question 5](#q5)"
   ]
  },
  {
   "cell_type": "markdown",
   "id": "a5137af6",
   "metadata": {},
   "source": [
    "### 6. [Question 7](#q7)"
   ]
  },
  {
   "cell_type": "markdown",
   "id": "8d958da7",
   "metadata": {},
   "source": [
    "### 7. [Question 8](#q8)"
   ]
  },
  {
   "cell_type": "markdown",
   "id": "7482f815",
   "metadata": {},
   "source": [
    "### 8. [More Data for Project Brief](#more_data)"
   ]
  },
  {
   "cell_type": "markdown",
   "id": "3b55cf47",
   "metadata": {},
   "source": [
    "### 9. [Create Customer Number Information](#customer_data)"
   ]
  },
  {
   "cell_type": "markdown",
   "id": "4d77b76b",
   "metadata": {},
   "source": [
    "## Import Libraries\n",
    "<a id ='library'></a>"
   ]
  },
  {
   "cell_type": "code",
   "execution_count": 1,
   "id": "ccd66227",
   "metadata": {},
   "outputs": [],
   "source": [
    "import pandas as pd\n",
    "import numpy as np\n",
    "import os\n",
    "import matplotlib.pyplot as plt\n",
    "import seaborn as sns\n",
    "import scipy"
   ]
  },
  {
   "cell_type": "markdown",
   "id": "9dde985b",
   "metadata": {},
   "source": [
    "## Import Dataframe\n",
    "<a id ='dataframe'></a>"
   ]
  },
  {
   "cell_type": "code",
   "execution_count": 6,
   "id": "d022f632",
   "metadata": {},
   "outputs": [],
   "source": [
    "path = r\"C:\\Users\\corri\\Documents\\New Career\\Achievment 4\\Instacart Basket Analysis\""
   ]
  },
  {
   "cell_type": "code",
   "execution_count": 3,
   "id": "87fac001",
   "metadata": {},
   "outputs": [],
   "source": [
    "df = pd.read_pickle(os.path.join(path, 'Data', 'Prepared Data', 'total_info.pkl'))"
   ]
  },
  {
   "cell_type": "code",
   "execution_count": 7,
   "id": "e36c4020",
   "metadata": {},
   "outputs": [],
   "source": [
    "# This is the dataframe exported after adding a few more columns and before creating all the graphs\n",
    "df = pd.read_pickle(os.path.join(path, 'Data', 'Prepared Data', 'exer_10.pkl'))"
   ]
  },
  {
   "cell_type": "code",
   "execution_count": 4,
   "id": "9d15087e",
   "metadata": {},
   "outputs": [
    {
     "name": "stdout",
     "output_type": "stream",
     "text": [
      "<class 'pandas.core.frame.DataFrame'>\n",
      "Int64Index: 32433030 entries, 0 to 32433029\n",
      "Data columns (total 30 columns):\n",
      " #   Column                  Dtype   \n",
      "---  ------                  -----   \n",
      " 0   order_id                int64   \n",
      " 1   user_id                 int64   \n",
      " 2   order_number            int64   \n",
      " 3   orders_day_of_week      int64   \n",
      " 4   order_hour_of_day       int64   \n",
      " 5   days_since_prior_order  float64 \n",
      " 6   product_id              int64   \n",
      " 7   add_to_cart_order       int64   \n",
      " 8   reordered               int64   \n",
      " 9   product_name            object  \n",
      " 10  aisle_id                int64   \n",
      " 11  department_id           int64   \n",
      " 12  prices                  float64 \n",
      " 13  price_ranges            object  \n",
      " 14  shopping_days           object  \n",
      " 15  busy_hours              object  \n",
      " 16  max_order               int64   \n",
      " 17  loyalty_flag            object  \n",
      " 18  avg_spent               float64 \n",
      " 19  spenders                object  \n",
      " 20  med_frequency           float64 \n",
      " 21  frequent                object  \n",
      " 22  Gender                  object  \n",
      " 23  State                   object  \n",
      " 24  Age                     int64   \n",
      " 25  date_joined             object  \n",
      " 26  children                int64   \n",
      " 27  fam_status              object  \n",
      " 28  income                  int64   \n",
      " 29  _merge                  category\n",
      "dtypes: category(1), float64(4), int64(14), object(11)\n",
      "memory usage: 7.3+ GB\n"
     ]
    }
   ],
   "source": [
    "df.info()"
   ]
  },
  {
   "cell_type": "code",
   "execution_count": 5,
   "id": "ec485fa6",
   "metadata": {},
   "outputs": [
    {
     "data": {
      "text/html": [
       "<div>\n",
       "<style scoped>\n",
       "    .dataframe tbody tr th:only-of-type {\n",
       "        vertical-align: middle;\n",
       "    }\n",
       "\n",
       "    .dataframe tbody tr th {\n",
       "        vertical-align: top;\n",
       "    }\n",
       "\n",
       "    .dataframe thead th {\n",
       "        text-align: right;\n",
       "    }\n",
       "</style>\n",
       "<table border=\"1\" class=\"dataframe\">\n",
       "  <thead>\n",
       "    <tr style=\"text-align: right;\">\n",
       "      <th></th>\n",
       "      <th>order_id</th>\n",
       "      <th>user_id</th>\n",
       "      <th>order_number</th>\n",
       "      <th>orders_day_of_week</th>\n",
       "      <th>order_hour_of_day</th>\n",
       "      <th>days_since_prior_order</th>\n",
       "      <th>product_id</th>\n",
       "      <th>add_to_cart_order</th>\n",
       "      <th>reordered</th>\n",
       "      <th>product_name</th>\n",
       "      <th>...</th>\n",
       "      <th>med_frequency</th>\n",
       "      <th>frequent</th>\n",
       "      <th>Gender</th>\n",
       "      <th>State</th>\n",
       "      <th>Age</th>\n",
       "      <th>date_joined</th>\n",
       "      <th>children</th>\n",
       "      <th>fam_status</th>\n",
       "      <th>income</th>\n",
       "      <th>_merge</th>\n",
       "    </tr>\n",
       "  </thead>\n",
       "  <tbody>\n",
       "    <tr>\n",
       "      <th>0</th>\n",
       "      <td>2539329</td>\n",
       "      <td>1</td>\n",
       "      <td>1</td>\n",
       "      <td>2</td>\n",
       "      <td>8</td>\n",
       "      <td>NaN</td>\n",
       "      <td>196</td>\n",
       "      <td>1</td>\n",
       "      <td>0</td>\n",
       "      <td>Soda</td>\n",
       "      <td>...</td>\n",
       "      <td>20.5</td>\n",
       "      <td>Non-Frequent Customer</td>\n",
       "      <td>Female</td>\n",
       "      <td>Alabama</td>\n",
       "      <td>31</td>\n",
       "      <td>2/17/2019</td>\n",
       "      <td>3</td>\n",
       "      <td>married</td>\n",
       "      <td>40423</td>\n",
       "      <td>both</td>\n",
       "    </tr>\n",
       "    <tr>\n",
       "      <th>1</th>\n",
       "      <td>2398795</td>\n",
       "      <td>1</td>\n",
       "      <td>2</td>\n",
       "      <td>3</td>\n",
       "      <td>7</td>\n",
       "      <td>15.0</td>\n",
       "      <td>196</td>\n",
       "      <td>1</td>\n",
       "      <td>1</td>\n",
       "      <td>Soda</td>\n",
       "      <td>...</td>\n",
       "      <td>20.5</td>\n",
       "      <td>Non-Frequent Customer</td>\n",
       "      <td>Female</td>\n",
       "      <td>Alabama</td>\n",
       "      <td>31</td>\n",
       "      <td>2/17/2019</td>\n",
       "      <td>3</td>\n",
       "      <td>married</td>\n",
       "      <td>40423</td>\n",
       "      <td>both</td>\n",
       "    </tr>\n",
       "    <tr>\n",
       "      <th>2</th>\n",
       "      <td>473747</td>\n",
       "      <td>1</td>\n",
       "      <td>3</td>\n",
       "      <td>3</td>\n",
       "      <td>12</td>\n",
       "      <td>21.0</td>\n",
       "      <td>196</td>\n",
       "      <td>1</td>\n",
       "      <td>1</td>\n",
       "      <td>Soda</td>\n",
       "      <td>...</td>\n",
       "      <td>20.5</td>\n",
       "      <td>Non-Frequent Customer</td>\n",
       "      <td>Female</td>\n",
       "      <td>Alabama</td>\n",
       "      <td>31</td>\n",
       "      <td>2/17/2019</td>\n",
       "      <td>3</td>\n",
       "      <td>married</td>\n",
       "      <td>40423</td>\n",
       "      <td>both</td>\n",
       "    </tr>\n",
       "    <tr>\n",
       "      <th>3</th>\n",
       "      <td>2254736</td>\n",
       "      <td>1</td>\n",
       "      <td>4</td>\n",
       "      <td>4</td>\n",
       "      <td>7</td>\n",
       "      <td>29.0</td>\n",
       "      <td>196</td>\n",
       "      <td>1</td>\n",
       "      <td>1</td>\n",
       "      <td>Soda</td>\n",
       "      <td>...</td>\n",
       "      <td>20.5</td>\n",
       "      <td>Non-Frequent Customer</td>\n",
       "      <td>Female</td>\n",
       "      <td>Alabama</td>\n",
       "      <td>31</td>\n",
       "      <td>2/17/2019</td>\n",
       "      <td>3</td>\n",
       "      <td>married</td>\n",
       "      <td>40423</td>\n",
       "      <td>both</td>\n",
       "    </tr>\n",
       "    <tr>\n",
       "      <th>4</th>\n",
       "      <td>431534</td>\n",
       "      <td>1</td>\n",
       "      <td>5</td>\n",
       "      <td>4</td>\n",
       "      <td>15</td>\n",
       "      <td>28.0</td>\n",
       "      <td>196</td>\n",
       "      <td>1</td>\n",
       "      <td>1</td>\n",
       "      <td>Soda</td>\n",
       "      <td>...</td>\n",
       "      <td>20.5</td>\n",
       "      <td>Non-Frequent Customer</td>\n",
       "      <td>Female</td>\n",
       "      <td>Alabama</td>\n",
       "      <td>31</td>\n",
       "      <td>2/17/2019</td>\n",
       "      <td>3</td>\n",
       "      <td>married</td>\n",
       "      <td>40423</td>\n",
       "      <td>both</td>\n",
       "    </tr>\n",
       "  </tbody>\n",
       "</table>\n",
       "<p>5 rows × 30 columns</p>\n",
       "</div>"
      ],
      "text/plain": [
       "   order_id  user_id  order_number  orders_day_of_week  order_hour_of_day  \\\n",
       "0   2539329        1             1                   2                  8   \n",
       "1   2398795        1             2                   3                  7   \n",
       "2    473747        1             3                   3                 12   \n",
       "3   2254736        1             4                   4                  7   \n",
       "4    431534        1             5                   4                 15   \n",
       "\n",
       "   days_since_prior_order  product_id  add_to_cart_order  reordered  \\\n",
       "0                     NaN         196                  1          0   \n",
       "1                    15.0         196                  1          1   \n",
       "2                    21.0         196                  1          1   \n",
       "3                    29.0         196                  1          1   \n",
       "4                    28.0         196                  1          1   \n",
       "\n",
       "  product_name  ...  med_frequency               frequent  Gender    State  \\\n",
       "0         Soda  ...           20.5  Non-Frequent Customer  Female  Alabama   \n",
       "1         Soda  ...           20.5  Non-Frequent Customer  Female  Alabama   \n",
       "2         Soda  ...           20.5  Non-Frequent Customer  Female  Alabama   \n",
       "3         Soda  ...           20.5  Non-Frequent Customer  Female  Alabama   \n",
       "4         Soda  ...           20.5  Non-Frequent Customer  Female  Alabama   \n",
       "\n",
       "  Age date_joined  children fam_status  income _merge  \n",
       "0  31   2/17/2019         3    married   40423   both  \n",
       "1  31   2/17/2019         3    married   40423   both  \n",
       "2  31   2/17/2019         3    married   40423   both  \n",
       "3  31   2/17/2019         3    married   40423   both  \n",
       "4  31   2/17/2019         3    married   40423   both  \n",
       "\n",
       "[5 rows x 30 columns]"
      ]
     },
     "execution_count": 5,
     "metadata": {},
     "output_type": "execute_result"
    }
   ],
   "source": [
    "df.head()"
   ]
  },
  {
   "cell_type": "code",
   "execution_count": 4,
   "id": "a4fbb3c4",
   "metadata": {},
   "outputs": [],
   "source": [
    "# Remove unnecessary column\n",
    "df = df.drop(columns = '_merge')"
   ]
  },
  {
   "cell_type": "code",
   "execution_count": 12,
   "id": "6e0214fd",
   "metadata": {},
   "outputs": [
    {
     "data": {
      "text/plain": [
       "(32433030, 30)"
      ]
     },
     "execution_count": 12,
     "metadata": {},
     "output_type": "execute_result"
    }
   ],
   "source": [
    "df.shape"
   ]
  },
  {
   "cell_type": "code",
   "execution_count": 7,
   "id": "d7e796b6",
   "metadata": {},
   "outputs": [
    {
     "data": {
      "text/html": [
       "<div>\n",
       "<style scoped>\n",
       "    .dataframe tbody tr th:only-of-type {\n",
       "        vertical-align: middle;\n",
       "    }\n",
       "\n",
       "    .dataframe tbody tr th {\n",
       "        vertical-align: top;\n",
       "    }\n",
       "\n",
       "    .dataframe thead th {\n",
       "        text-align: right;\n",
       "    }\n",
       "</style>\n",
       "<table border=\"1\" class=\"dataframe\">\n",
       "  <thead>\n",
       "    <tr style=\"text-align: right;\">\n",
       "      <th></th>\n",
       "      <th>order_id</th>\n",
       "      <th>user_id</th>\n",
       "      <th>order_number</th>\n",
       "      <th>orders_day_of_week</th>\n",
       "      <th>order_hour_of_day</th>\n",
       "      <th>days_since_prior_order</th>\n",
       "      <th>product_id</th>\n",
       "      <th>add_to_cart_order</th>\n",
       "      <th>reordered</th>\n",
       "      <th>aisle_id</th>\n",
       "      <th>department_id</th>\n",
       "      <th>prices</th>\n",
       "      <th>max_order</th>\n",
       "      <th>avg_spent</th>\n",
       "      <th>med_frequency</th>\n",
       "      <th>Age</th>\n",
       "      <th>children</th>\n",
       "      <th>income</th>\n",
       "    </tr>\n",
       "  </thead>\n",
       "  <tbody>\n",
       "    <tr>\n",
       "      <th>count</th>\n",
       "      <td>3.243303e+07</td>\n",
       "      <td>3.243303e+07</td>\n",
       "      <td>3.243303e+07</td>\n",
       "      <td>3.243303e+07</td>\n",
       "      <td>3.243303e+07</td>\n",
       "      <td>3.035505e+07</td>\n",
       "      <td>3.243303e+07</td>\n",
       "      <td>3.243303e+07</td>\n",
       "      <td>3.243303e+07</td>\n",
       "      <td>3.243303e+07</td>\n",
       "      <td>3.243303e+07</td>\n",
       "      <td>3.242790e+07</td>\n",
       "      <td>3.243303e+07</td>\n",
       "      <td>3.243303e+07</td>\n",
       "      <td>3.243303e+07</td>\n",
       "      <td>3.243303e+07</td>\n",
       "      <td>3.243303e+07</td>\n",
       "      <td>3.243303e+07</td>\n",
       "    </tr>\n",
       "    <tr>\n",
       "      <th>mean</th>\n",
       "      <td>1.710748e+06</td>\n",
       "      <td>1.029375e+05</td>\n",
       "      <td>1.714200e+01</td>\n",
       "      <td>2.738815e+00</td>\n",
       "      <td>1.342500e+01</td>\n",
       "      <td>1.110414e+01</td>\n",
       "      <td>2.557749e+04</td>\n",
       "      <td>8.351107e+00</td>\n",
       "      <td>5.896915e-01</td>\n",
       "      <td>7.121488e+01</td>\n",
       "      <td>9.922101e+00</td>\n",
       "      <td>7.795737e+00</td>\n",
       "      <td>3.305231e+01</td>\n",
       "      <td>1.198133e+01</td>\n",
       "      <td>1.039781e+01</td>\n",
       "      <td>4.946523e+01</td>\n",
       "      <td>1.501877e+00</td>\n",
       "      <td>9.943537e+04</td>\n",
       "    </tr>\n",
       "    <tr>\n",
       "      <th>std</th>\n",
       "      <td>9.872998e+05</td>\n",
       "      <td>5.946650e+04</td>\n",
       "      <td>1.753495e+01</td>\n",
       "      <td>2.090050e+00</td>\n",
       "      <td>4.246349e+00</td>\n",
       "      <td>8.778945e+00</td>\n",
       "      <td>1.409625e+04</td>\n",
       "      <td>7.126631e+00</td>\n",
       "      <td>4.918897e-01</td>\n",
       "      <td>3.820386e+01</td>\n",
       "      <td>6.281257e+00</td>\n",
       "      <td>4.243219e+00</td>\n",
       "      <td>2.515455e+01</td>\n",
       "      <td>8.319275e+01</td>\n",
       "      <td>7.131247e+00</td>\n",
       "      <td>1.848555e+01</td>\n",
       "      <td>1.118870e+00</td>\n",
       "      <td>4.305491e+04</td>\n",
       "    </tr>\n",
       "    <tr>\n",
       "      <th>min</th>\n",
       "      <td>2.000000e+00</td>\n",
       "      <td>1.000000e+00</td>\n",
       "      <td>1.000000e+00</td>\n",
       "      <td>0.000000e+00</td>\n",
       "      <td>0.000000e+00</td>\n",
       "      <td>0.000000e+00</td>\n",
       "      <td>1.000000e+00</td>\n",
       "      <td>1.000000e+00</td>\n",
       "      <td>0.000000e+00</td>\n",
       "      <td>1.000000e+00</td>\n",
       "      <td>1.000000e+00</td>\n",
       "      <td>1.000000e+00</td>\n",
       "      <td>3.000000e+00</td>\n",
       "      <td>1.000000e+00</td>\n",
       "      <td>0.000000e+00</td>\n",
       "      <td>1.800000e+01</td>\n",
       "      <td>0.000000e+00</td>\n",
       "      <td>2.590300e+04</td>\n",
       "    </tr>\n",
       "    <tr>\n",
       "      <th>25%</th>\n",
       "      <td>8.559442e+05</td>\n",
       "      <td>5.142000e+04</td>\n",
       "      <td>5.000000e+00</td>\n",
       "      <td>1.000000e+00</td>\n",
       "      <td>1.000000e+01</td>\n",
       "      <td>5.000000e+00</td>\n",
       "      <td>1.353500e+04</td>\n",
       "      <td>3.000000e+00</td>\n",
       "      <td>0.000000e+00</td>\n",
       "      <td>3.100000e+01</td>\n",
       "      <td>4.000000e+00</td>\n",
       "      <td>4.200000e+00</td>\n",
       "      <td>1.300000e+01</td>\n",
       "      <td>7.391935e+00</td>\n",
       "      <td>6.000000e+00</td>\n",
       "      <td>3.300000e+01</td>\n",
       "      <td>1.000000e+00</td>\n",
       "      <td>6.699800e+04</td>\n",
       "    </tr>\n",
       "    <tr>\n",
       "      <th>50%</th>\n",
       "      <td>1.711049e+06</td>\n",
       "      <td>1.026130e+05</td>\n",
       "      <td>1.100000e+01</td>\n",
       "      <td>3.000000e+00</td>\n",
       "      <td>1.300000e+01</td>\n",
       "      <td>8.000000e+00</td>\n",
       "      <td>2.525600e+04</td>\n",
       "      <td>6.000000e+00</td>\n",
       "      <td>1.000000e+00</td>\n",
       "      <td>8.300000e+01</td>\n",
       "      <td>9.000000e+00</td>\n",
       "      <td>7.400000e+00</td>\n",
       "      <td>2.600000e+01</td>\n",
       "      <td>7.829483e+00</td>\n",
       "      <td>8.000000e+00</td>\n",
       "      <td>4.900000e+01</td>\n",
       "      <td>2.000000e+00</td>\n",
       "      <td>9.661200e+04</td>\n",
       "    </tr>\n",
       "    <tr>\n",
       "      <th>75%</th>\n",
       "      <td>2.565511e+06</td>\n",
       "      <td>1.543910e+05</td>\n",
       "      <td>2.400000e+01</td>\n",
       "      <td>5.000000e+00</td>\n",
       "      <td>1.600000e+01</td>\n",
       "      <td>1.500000e+01</td>\n",
       "      <td>3.793500e+04</td>\n",
       "      <td>1.100000e+01</td>\n",
       "      <td>1.000000e+00</td>\n",
       "      <td>1.070000e+02</td>\n",
       "      <td>1.600000e+01</td>\n",
       "      <td>1.130000e+01</td>\n",
       "      <td>4.700000e+01</td>\n",
       "      <td>8.258696e+00</td>\n",
       "      <td>1.300000e+01</td>\n",
       "      <td>6.500000e+01</td>\n",
       "      <td>3.000000e+00</td>\n",
       "      <td>1.279080e+05</td>\n",
       "    </tr>\n",
       "    <tr>\n",
       "      <th>max</th>\n",
       "      <td>3.421083e+06</td>\n",
       "      <td>2.062090e+05</td>\n",
       "      <td>9.900000e+01</td>\n",
       "      <td>6.000000e+00</td>\n",
       "      <td>2.300000e+01</td>\n",
       "      <td>3.000000e+01</td>\n",
       "      <td>4.968800e+04</td>\n",
       "      <td>1.450000e+02</td>\n",
       "      <td>1.000000e+00</td>\n",
       "      <td>1.340000e+02</td>\n",
       "      <td>2.100000e+01</td>\n",
       "      <td>2.500000e+01</td>\n",
       "      <td>9.900000e+01</td>\n",
       "      <td>2.500542e+04</td>\n",
       "      <td>3.000000e+01</td>\n",
       "      <td>8.100000e+01</td>\n",
       "      <td>3.000000e+00</td>\n",
       "      <td>5.939010e+05</td>\n",
       "    </tr>\n",
       "  </tbody>\n",
       "</table>\n",
       "</div>"
      ],
      "text/plain": [
       "           order_id       user_id  order_number  orders_day_of_week  \\\n",
       "count  3.243303e+07  3.243303e+07  3.243303e+07        3.243303e+07   \n",
       "mean   1.710748e+06  1.029375e+05  1.714200e+01        2.738815e+00   \n",
       "std    9.872998e+05  5.946650e+04  1.753495e+01        2.090050e+00   \n",
       "min    2.000000e+00  1.000000e+00  1.000000e+00        0.000000e+00   \n",
       "25%    8.559442e+05  5.142000e+04  5.000000e+00        1.000000e+00   \n",
       "50%    1.711049e+06  1.026130e+05  1.100000e+01        3.000000e+00   \n",
       "75%    2.565511e+06  1.543910e+05  2.400000e+01        5.000000e+00   \n",
       "max    3.421083e+06  2.062090e+05  9.900000e+01        6.000000e+00   \n",
       "\n",
       "       order_hour_of_day  days_since_prior_order    product_id  \\\n",
       "count       3.243303e+07            3.035505e+07  3.243303e+07   \n",
       "mean        1.342500e+01            1.110414e+01  2.557749e+04   \n",
       "std         4.246349e+00            8.778945e+00  1.409625e+04   \n",
       "min         0.000000e+00            0.000000e+00  1.000000e+00   \n",
       "25%         1.000000e+01            5.000000e+00  1.353500e+04   \n",
       "50%         1.300000e+01            8.000000e+00  2.525600e+04   \n",
       "75%         1.600000e+01            1.500000e+01  3.793500e+04   \n",
       "max         2.300000e+01            3.000000e+01  4.968800e+04   \n",
       "\n",
       "       add_to_cart_order     reordered      aisle_id  department_id  \\\n",
       "count       3.243303e+07  3.243303e+07  3.243303e+07   3.243303e+07   \n",
       "mean        8.351107e+00  5.896915e-01  7.121488e+01   9.922101e+00   \n",
       "std         7.126631e+00  4.918897e-01  3.820386e+01   6.281257e+00   \n",
       "min         1.000000e+00  0.000000e+00  1.000000e+00   1.000000e+00   \n",
       "25%         3.000000e+00  0.000000e+00  3.100000e+01   4.000000e+00   \n",
       "50%         6.000000e+00  1.000000e+00  8.300000e+01   9.000000e+00   \n",
       "75%         1.100000e+01  1.000000e+00  1.070000e+02   1.600000e+01   \n",
       "max         1.450000e+02  1.000000e+00  1.340000e+02   2.100000e+01   \n",
       "\n",
       "             prices     max_order     avg_spent  med_frequency           Age  \\\n",
       "count  3.242790e+07  3.243303e+07  3.243303e+07   3.243303e+07  3.243303e+07   \n",
       "mean   7.795737e+00  3.305231e+01  1.198133e+01   1.039781e+01  4.946523e+01   \n",
       "std    4.243219e+00  2.515455e+01  8.319275e+01   7.131247e+00  1.848555e+01   \n",
       "min    1.000000e+00  3.000000e+00  1.000000e+00   0.000000e+00  1.800000e+01   \n",
       "25%    4.200000e+00  1.300000e+01  7.391935e+00   6.000000e+00  3.300000e+01   \n",
       "50%    7.400000e+00  2.600000e+01  7.829483e+00   8.000000e+00  4.900000e+01   \n",
       "75%    1.130000e+01  4.700000e+01  8.258696e+00   1.300000e+01  6.500000e+01   \n",
       "max    2.500000e+01  9.900000e+01  2.500542e+04   3.000000e+01  8.100000e+01   \n",
       "\n",
       "           children        income  \n",
       "count  3.243303e+07  3.243303e+07  \n",
       "mean   1.501877e+00  9.943537e+04  \n",
       "std    1.118870e+00  4.305491e+04  \n",
       "min    0.000000e+00  2.590300e+04  \n",
       "25%    1.000000e+00  6.699800e+04  \n",
       "50%    2.000000e+00  9.661200e+04  \n",
       "75%    3.000000e+00  1.279080e+05  \n",
       "max    3.000000e+00  5.939010e+05  "
      ]
     },
     "execution_count": 7,
     "metadata": {},
     "output_type": "execute_result"
    }
   ],
   "source": [
    "df.describe()"
   ]
  },
  {
   "cell_type": "markdown",
   "id": "7fdd288f",
   "metadata": {},
   "source": [
    "#### The previous data contained the customer names (PII) but that information was removed prior to merging to protect the identities of the customers."
   ]
  },
  {
   "cell_type": "markdown",
   "id": "2717a5c2",
   "metadata": {},
   "source": [
    "#### The prices listed here may help competitors so caution should be used when sharing this report"
   ]
  },
  {
   "cell_type": "markdown",
   "id": "a6b0d004",
   "metadata": {},
   "source": [
    "## Question 3\n",
    "<a id='q3'></a>"
   ]
  },
  {
   "cell_type": "code",
   "execution_count": 5,
   "id": "5a6f2beb",
   "metadata": {},
   "outputs": [],
   "source": [
    "# Create a Region column based on the State column\n",
    "result = []\n",
    "for value in df ['State']:\n",
    "    if value in {'Maine', 'New Hampshire','Vermont', 'Massachusetts', 'Rhode Island', 'Connecticut', 'New York', 'Pennsylvania', 'New Jersey'}:\n",
    "        result.append('Northeast')\n",
    "    elif value in {'Wisconsin', 'Michigan', 'Illinois', 'Indiana', 'Ohio', 'North Dakota', 'South Dakota', 'Nebraska', 'Kansas', 'Minnesota', 'Iowa', 'Missouri'}:\n",
    "        result.append('Midwest')\n",
    "    elif value in {'Delaware', 'Maryland', 'District of Columbia', 'Virginia', 'West Virginia', 'North Carolina', 'South Carolina', 'Georgia', 'Florida', 'Kentucky', 'Tennessee', 'Mississippi', 'Alabama', 'Oklahoma', 'Texas', 'Arkansas', 'Louisiana'}:\n",
    "        result.append('South')\n",
    "    elif value in {'Idaho', 'Montana', 'Wyoming', 'Nevada', 'Utah', 'Colorado', 'Arizona', 'New Mexico', 'Alaska', 'Washington', 'Oregon', 'California', 'Hawaii'}:\n",
    "        result.append('West')\n",
    "    else:\n",
    "        result.append(\"Not enough data\")"
   ]
  },
  {
   "cell_type": "code",
   "execution_count": 6,
   "id": "d171f8cd",
   "metadata": {},
   "outputs": [],
   "source": [
    "# Add the new column\n",
    "df['Region'] = result"
   ]
  },
  {
   "cell_type": "code",
   "execution_count": 7,
   "id": "6e4e6b94",
   "metadata": {},
   "outputs": [
    {
     "data": {
      "text/plain": [
       "South        10801195\n",
       "West          8300141\n",
       "Midwest       7603550\n",
       "Northeast     5728144\n",
       "Name: Region, dtype: int64"
      ]
     },
     "execution_count": 7,
     "metadata": {},
     "output_type": "execute_result"
    }
   ],
   "source": [
    "# Check value counts for new column and check for NaN\n",
    "df['Region'].value_counts()"
   ]
  },
  {
   "cell_type": "code",
   "execution_count": 9,
   "id": "53d8c123",
   "metadata": {},
   "outputs": [
    {
     "data": {
      "image/png": "[encoded data removed]",
      "text/plain": [
       "<Figure size 432x288 with 1 Axes>"
      ]
     },
     "metadata": {
      "needs_background": "light"
     },
     "output_type": "display_data"
    }
   ],
   "source": [
    "# Create a quick graph to look for obvious differences in regional spending\n",
    "spend_region = sns.scatterplot(x = 'Region', y = 'avg_spent', data = df)"
   ]
  },
  {
   "cell_type": "code",
   "execution_count": 19,
   "id": "ccad8379",
   "metadata": {},
   "outputs": [
    {
     "data": {
      "text/html": [
       "<div>\n",
       "<style scoped>\n",
       "    .dataframe tbody tr th:only-of-type {\n",
       "        vertical-align: middle;\n",
       "    }\n",
       "\n",
       "    .dataframe tbody tr th {\n",
       "        vertical-align: top;\n",
       "    }\n",
       "\n",
       "    .dataframe thead tr th {\n",
       "        text-align: left;\n",
       "    }\n",
       "\n",
       "    .dataframe thead tr:last-of-type th {\n",
       "        text-align: right;\n",
       "    }\n",
       "</style>\n",
       "<table border=\"1\" class=\"dataframe\">\n",
       "  <thead>\n",
       "    <tr>\n",
       "      <th></th>\n",
       "      <th colspan=\"4\" halign=\"left\">avg_spent</th>\n",
       "    </tr>\n",
       "    <tr>\n",
       "      <th></th>\n",
       "      <th>mean</th>\n",
       "      <th>min</th>\n",
       "      <th>max</th>\n",
       "      <th>median</th>\n",
       "    </tr>\n",
       "    <tr>\n",
       "      <th>Region</th>\n",
       "      <th></th>\n",
       "      <th></th>\n",
       "      <th></th>\n",
       "      <th></th>\n",
       "    </tr>\n",
       "  </thead>\n",
       "  <tbody>\n",
       "    <tr>\n",
       "      <th>Midwest</th>\n",
       "      <td>12.715947</td>\n",
       "      <td>1.0</td>\n",
       "      <td>25005.425000</td>\n",
       "      <td>7.832231</td>\n",
       "    </tr>\n",
       "    <tr>\n",
       "      <th>Northeast</th>\n",
       "      <td>11.556554</td>\n",
       "      <td>1.1</td>\n",
       "      <td>7414.485185</td>\n",
       "      <td>7.819231</td>\n",
       "    </tr>\n",
       "    <tr>\n",
       "      <th>South</th>\n",
       "      <td>12.196474</td>\n",
       "      <td>1.0</td>\n",
       "      <td>15006.940000</td>\n",
       "      <td>7.834688</td>\n",
       "    </tr>\n",
       "    <tr>\n",
       "      <th>West</th>\n",
       "      <td>11.321539</td>\n",
       "      <td>1.0</td>\n",
       "      <td>10209.987755</td>\n",
       "      <td>7.826744</td>\n",
       "    </tr>\n",
       "  </tbody>\n",
       "</table>\n",
       "</div>"
      ],
      "text/plain": [
       "           avg_spent                             \n",
       "                mean  min           max    median\n",
       "Region                                           \n",
       "Midwest    12.715947  1.0  25005.425000  7.832231\n",
       "Northeast  11.556554  1.1   7414.485185  7.819231\n",
       "South      12.196474  1.0  15006.940000  7.834688\n",
       "West       11.321539  1.0  10209.987755  7.826744"
      ]
     },
     "execution_count": 19,
     "metadata": {},
     "output_type": "execute_result"
    }
   ],
   "source": [
    "# Sumamrize some statistics by region for a better understanding of the results\n",
    "df.groupby('Region').agg({'avg_spent':['mean', 'min', 'max', 'median']})"
   ]
  },
  {
   "cell_type": "markdown",
   "id": "a5571605",
   "metadata": {},
   "source": [
    "####  The means are all higher than the medians, indicating that there are some outliers creating a skew to this data.  The medians are all very similar, suggesting no significant difference in the average spending for each region.  A statistical test could be run to comfirm this."
   ]
  },
  {
   "cell_type": "markdown",
   "id": "e70f9aa9",
   "metadata": {},
   "source": [
    "## Question 4\n",
    "<a id='q4'></a>"
   ]
  },
  {
   "cell_type": "code",
   "execution_count": 7,
   "id": "7ee986db",
   "metadata": {},
   "outputs": [
    {
     "data": {
      "text/plain": [
       "count    3.243303e+07\n",
       "mean     3.305231e+01\n",
       "std      2.515455e+01\n",
       "min      3.000000e+00\n",
       "25%      1.300000e+01\n",
       "50%      2.600000e+01\n",
       "75%      4.700000e+01\n",
       "max      9.900000e+01\n",
       "Name: max_order, dtype: float64"
      ]
     },
     "execution_count": 7,
     "metadata": {},
     "output_type": "execute_result"
    }
   ],
   "source": [
    "# Check the stats on the max_order column\n",
    "df['max_order'].describe()"
   ]
  },
  {
   "cell_type": "code",
   "execution_count": 8,
   "id": "7f9758a7",
   "metadata": {},
   "outputs": [],
   "source": [
    "# Create an exclusion flag for any customers with less than 5 orders\n",
    "df.loc[df['max_order'] < 5, 'exclude'] = 'Exclude'"
   ]
  },
  {
   "cell_type": "code",
   "execution_count": 9,
   "id": "1e6338ea",
   "metadata": {},
   "outputs": [],
   "source": [
    "df.loc[df['max_order'] >= 5, 'exclude'] = 'Include'"
   ]
  },
  {
   "cell_type": "code",
   "execution_count": 10,
   "id": "e0f12b2b",
   "metadata": {},
   "outputs": [
    {
     "data": {
      "text/plain": [
       "Include    30991542\n",
       "Exclude     1441488\n",
       "Name: exclude, dtype: int64"
      ]
     },
     "execution_count": 10,
     "metadata": {},
     "output_type": "execute_result"
    }
   ],
   "source": [
    "df['exclude'].value_counts()"
   ]
  },
  {
   "cell_type": "code",
   "execution_count": 11,
   "id": "23cd34f7",
   "metadata": {},
   "outputs": [],
   "source": [
    "# Create a new dataframe without the excluded customers.\n",
    "df_include = df.loc[df['exclude'] == 'Include']"
   ]
  },
  {
   "cell_type": "code",
   "execution_count": 32,
   "id": "284d2246",
   "metadata": {},
   "outputs": [
    {
     "data": {
      "text/plain": [
       "(30991542, 31)"
      ]
     },
     "execution_count": 32,
     "metadata": {},
     "output_type": "execute_result"
    }
   ],
   "source": [
    "# Check that this is the correct selection\n",
    "df_include.shape"
   ]
  },
  {
   "cell_type": "code",
   "execution_count": 33,
   "id": "9ba2d028",
   "metadata": {},
   "outputs": [
    {
     "data": {
      "text/plain": [
       "Include    30991542\n",
       "Name: exclude, dtype: int64"
      ]
     },
     "execution_count": 33,
     "metadata": {},
     "output_type": "execute_result"
    }
   ],
   "source": [
    "df_include['exclude'].value_counts()"
   ]
  },
  {
   "cell_type": "code",
   "execution_count": 12,
   "id": "820d5082",
   "metadata": {},
   "outputs": [],
   "source": [
    "# Remove the unnecessary column\n",
    "df_include = df_include.drop(columns = ['exclude'])"
   ]
  },
  {
   "cell_type": "code",
   "execution_count": 35,
   "id": "9c2f5a0e",
   "metadata": {},
   "outputs": [],
   "source": [
    "# Export the data\n",
    "df_include.to_pickle(os.path.join(path, 'Data', 'Prepared Data', 'include_orders.pkl'))"
   ]
  },
  {
   "cell_type": "markdown",
   "id": "6379d114",
   "metadata": {},
   "source": [
    "## Question 5\n",
    "<a id ='q5'></a>"
   ]
  },
  {
   "cell_type": "code",
   "execution_count": 8,
   "id": "4d92d983",
   "metadata": {},
   "outputs": [
    {
     "data": {
      "text/plain": [
       "count    3.243303e+07\n",
       "mean     4.946523e+01\n",
       "std      1.848555e+01\n",
       "min      1.800000e+01\n",
       "25%      3.300000e+01\n",
       "50%      4.900000e+01\n",
       "75%      6.500000e+01\n",
       "max      8.100000e+01\n",
       "Name: Age, dtype: float64"
      ]
     },
     "execution_count": 8,
     "metadata": {},
     "output_type": "execute_result"
    }
   ],
   "source": [
    "# Marketing and business strategy customer profiling\n",
    "# Profile by age group\n",
    "df['Age'].describe()"
   ]
  },
  {
   "cell_type": "code",
   "execution_count": 7,
   "id": "ca723779",
   "metadata": {},
   "outputs": [],
   "source": [
    "# Create age groups, 99 - 18 / 4 = 20 years in each group starting at 18\n",
    "age_group = []\n",
    "for value in df['Age']:\n",
    "    if value in range (17,38):\n",
    "        age_group.append('18 - 37 years')\n",
    "    elif value in range (37,58):\n",
    "        age_group.append('38 - 57 years')\n",
    "    elif value in range (57,78):\n",
    "        age_group.append('58 - 77 years')\n",
    "    elif value in range (77,99):\n",
    "        age_group.append('78 - 99 years')\n",
    "    else:\n",
    "        age_group.append('Not enough data')"
   ]
  },
  {
   "cell_type": "code",
   "execution_count": 8,
   "id": "a88e4854",
   "metadata": {},
   "outputs": [],
   "source": [
    "df['age_category'] = age_group"
   ]
  },
  {
   "cell_type": "code",
   "execution_count": 17,
   "id": "28836f75",
   "metadata": {},
   "outputs": [
    {
     "data": {
      "text/plain": [
       "38 - 57 years    10200698\n",
       "18 - 37 years    10149565\n",
       "58 - 77 years    10031460\n",
       "78 - 99 years     2051307\n",
       "Name: age_category, dtype: int64"
      ]
     },
     "execution_count": 17,
     "metadata": {},
     "output_type": "execute_result"
    }
   ],
   "source": [
    "df['age_category'].value_counts()"
   ]
  },
  {
   "cell_type": "code",
   "execution_count": 4,
   "id": "b92878b6",
   "metadata": {},
   "outputs": [
    {
     "data": {
      "text/plain": [
       "(array([0, 1, 2, 3]),\n",
       " [Text(0, 0, '18 - 37 years'),\n",
       "  Text(1, 0, '38 - 57 years'),\n",
       "  Text(2, 0, '58 - 77 years'),\n",
       "  Text(3, 0, '78 - 99 years')])"
      ]
     },
     "execution_count": 4,
     "metadata": {},
     "output_type": "execute_result"
    },
    {
     "data": {
      "image/png": "[encoded data removed]",
      "text/plain": [
       "<Figure size 432x288 with 1 Axes>"
      ]
     },
     "metadata": {
      "needs_background": "light"
     },
     "output_type": "display_data"
    }
   ],
   "source": [
    "# Create bar chart of results\n",
    "age_group_bar = df['age_category'].value_counts().sort_index().plot.bar(title = 'Number of Orders From Each Age Category', ylabel = 'Number in 10 million')\n",
    "plt.xticks(rotation = 0, ha = 'center')"
   ]
  },
  {
   "cell_type": "code",
   "execution_count": 5,
   "id": "8c37800e",
   "metadata": {},
   "outputs": [],
   "source": [
    "# Export chart\n",
    "age_group_bar.figure.savefig(os.path.join(path, 'Analysis', 'Visualizations', 'age_group_bar.png'))"
   ]
  },
  {
   "cell_type": "code",
   "execution_count": 45,
   "id": "edf93e65",
   "metadata": {},
   "outputs": [
    {
     "data": {
      "text/plain": [
       "count    3.243303e+07\n",
       "mean     9.943537e+04\n",
       "std      4.305491e+04\n",
       "min      2.590300e+04\n",
       "25%      6.699800e+04\n",
       "50%      9.661200e+04\n",
       "75%      1.279080e+05\n",
       "max      5.939010e+05\n",
       "Name: income, dtype: float64"
      ]
     },
     "execution_count": 45,
     "metadata": {},
     "output_type": "execute_result"
    }
   ],
   "source": [
    "# Check income values to create groups\n",
    "df['income'].describe()"
   ]
  },
  {
   "cell_type": "code",
   "execution_count": 9,
   "id": "855e85b0",
   "metadata": {},
   "outputs": [],
   "source": [
    "# Create income brackets based on American income class system, 2020 data on internet\n",
    "income = []\n",
    "for value in df['income']:\n",
    "    if value in range (24000, 32048):\n",
    "        income.append('Poor')\n",
    "    elif value in range (32047, 53413):\n",
    "        income.append ('Lower Middle Class')\n",
    "    elif value in range (53412, 106827):\n",
    "        income.append ('Middle Class')\n",
    "    elif value in range (106826,373894):\n",
    "        income.append ('Upper Middle Class')\n",
    "    elif value in range (373893, 700000):\n",
    "        income.append ('Rich')\n",
    "    else:\n",
    "        income.append ('Not enough data')"
   ]
  },
  {
   "cell_type": "code",
   "execution_count": 10,
   "id": "b59aa70f",
   "metadata": {},
   "outputs": [],
   "source": [
    "df['Income_bracket'] = income"
   ]
  },
  {
   "cell_type": "code",
   "execution_count": 51,
   "id": "3d6498f9",
   "metadata": {},
   "outputs": [
    {
     "data": {
      "text/plain": [
       "Middle Class          15259704\n",
       "Upper Middle Class    12822318\n",
       "Lower Middle Class     3767789\n",
       "Poor                    524220\n",
       "Rich                     58999\n",
       "Name: Income_bracket, dtype: int64"
      ]
     },
     "execution_count": 51,
     "metadata": {},
     "output_type": "execute_result"
    }
   ],
   "source": [
    "# Check results\n",
    "df['Income_bracket'].value_counts()"
   ]
  },
  {
   "cell_type": "code",
   "execution_count": 7,
   "id": "429353b1",
   "metadata": {},
   "outputs": [
    {
     "data": {
      "image/png": "[encoded data removed]",
      "text/plain": [
       "<Figure size 432x288 with 1 Axes>"
      ]
     },
     "metadata": {
      "needs_background": "light"
     },
     "output_type": "display_data"
    }
   ],
   "source": [
    "# Create bar chart of results\n",
    "income_bar = df['Income_bracket'].value_counts().plot.bar(title = 'Number of Orders From Each Income Bracket')\n",
    "plt.xticks(rotation = 45, ha = 'center')\n",
    "plt.tight_layout()"
   ]
  },
  {
   "cell_type": "code",
   "execution_count": 8,
   "id": "730ace1b",
   "metadata": {},
   "outputs": [],
   "source": [
    "# Export chart\n",
    "income_bar.figure.savefig(os.path.join(path, 'Analysis', 'Visualizations', 'income_bar.png'))"
   ]
  },
  {
   "cell_type": "code",
   "execution_count": 24,
   "id": "91676911",
   "metadata": {},
   "outputs": [
    {
     "data": {
      "text/html": [
       "<div>\n",
       "<style scoped>\n",
       "    .dataframe tbody tr th:only-of-type {\n",
       "        vertical-align: middle;\n",
       "    }\n",
       "\n",
       "    .dataframe tbody tr th {\n",
       "        vertical-align: top;\n",
       "    }\n",
       "\n",
       "    .dataframe thead tr th {\n",
       "        text-align: left;\n",
       "    }\n",
       "\n",
       "    .dataframe thead tr:last-of-type th {\n",
       "        text-align: right;\n",
       "    }\n",
       "</style>\n",
       "<table border=\"1\" class=\"dataframe\">\n",
       "  <thead>\n",
       "    <tr>\n",
       "      <th></th>\n",
       "      <th colspan=\"4\" halign=\"left\">avg_spent</th>\n",
       "    </tr>\n",
       "    <tr>\n",
       "      <th></th>\n",
       "      <th>mean</th>\n",
       "      <th>min</th>\n",
       "      <th>max</th>\n",
       "      <th>median</th>\n",
       "    </tr>\n",
       "    <tr>\n",
       "      <th>Income_bracket</th>\n",
       "      <th></th>\n",
       "      <th></th>\n",
       "      <th></th>\n",
       "      <th></th>\n",
       "    </tr>\n",
       "  </thead>\n",
       "  <tbody>\n",
       "    <tr>\n",
       "      <th>Lower Middle Class</th>\n",
       "      <td>6.875369</td>\n",
       "      <td>1.000000</td>\n",
       "      <td>13.878571</td>\n",
       "      <td>6.814332</td>\n",
       "    </tr>\n",
       "    <tr>\n",
       "      <th>Middle Class</th>\n",
       "      <td>8.710506</td>\n",
       "      <td>1.100000</td>\n",
       "      <td>12506.925000</td>\n",
       "      <td>7.887283</td>\n",
       "    </tr>\n",
       "    <tr>\n",
       "      <th>Poor</th>\n",
       "      <td>6.504934</td>\n",
       "      <td>1.100000</td>\n",
       "      <td>7.466667</td>\n",
       "      <td>6.685714</td>\n",
       "    </tr>\n",
       "    <tr>\n",
       "      <th>Rich</th>\n",
       "      <td>256.096852</td>\n",
       "      <td>25.423455</td>\n",
       "      <td>11772.100000</td>\n",
       "      <td>115.786957</td>\n",
       "    </tr>\n",
       "    <tr>\n",
       "      <th>Upper Middle Class</th>\n",
       "      <td>16.474919</td>\n",
       "      <td>7.000000</td>\n",
       "      <td>25005.425000</td>\n",
       "      <td>7.933696</td>\n",
       "    </tr>\n",
       "  </tbody>\n",
       "</table>\n",
       "</div>"
      ],
      "text/plain": [
       "                     avg_spent                                     \n",
       "                          mean        min           max      median\n",
       "Income_bracket                                                     \n",
       "Lower Middle Class    6.875369   1.000000     13.878571    6.814332\n",
       "Middle Class          8.710506   1.100000  12506.925000    7.887283\n",
       "Poor                  6.504934   1.100000      7.466667    6.685714\n",
       "Rich                256.096852  25.423455  11772.100000  115.786957\n",
       "Upper Middle Class   16.474919   7.000000  25005.425000    7.933696"
      ]
     },
     "execution_count": 24,
     "metadata": {},
     "output_type": "execute_result"
    }
   ],
   "source": [
    "# Examine spending by age group\n",
    "df.groupby('Income_bracket').agg({'avg_spent': ['mean', 'min', 'max', 'median']})"
   ]
  },
  {
   "cell_type": "code",
   "execution_count": 5,
   "id": "6ed892d3",
   "metadata": {},
   "outputs": [],
   "source": [
    "# Discover the most popular departments.  Group departments and count the number of orders from each\n",
    "orders_by_department = df.groupby('department_id')['order_id'].nunique().reset_index(name = 'Count')"
   ]
  },
  {
   "cell_type": "code",
   "execution_count": 33,
   "id": "c2b649ec",
   "metadata": {},
   "outputs": [
    {
     "data": {
      "text/html": [
       "<div>\n",
       "<style scoped>\n",
       "    .dataframe tbody tr th:only-of-type {\n",
       "        vertical-align: middle;\n",
       "    }\n",
       "\n",
       "    .dataframe tbody tr th {\n",
       "        vertical-align: top;\n",
       "    }\n",
       "\n",
       "    .dataframe thead th {\n",
       "        text-align: right;\n",
       "    }\n",
       "</style>\n",
       "<table border=\"1\" class=\"dataframe\">\n",
       "  <thead>\n",
       "    <tr style=\"text-align: right;\">\n",
       "      <th></th>\n",
       "      <th>department_id</th>\n",
       "      <th>Count</th>\n",
       "    </tr>\n",
       "  </thead>\n",
       "  <tbody>\n",
       "    <tr>\n",
       "      <th>0</th>\n",
       "      <td>1</td>\n",
       "      <td>1181018</td>\n",
       "    </tr>\n",
       "    <tr>\n",
       "      <th>1</th>\n",
       "      <td>2</td>\n",
       "      <td>35056</td>\n",
       "    </tr>\n",
       "    <tr>\n",
       "      <th>2</th>\n",
       "      <td>3</td>\n",
       "      <td>881556</td>\n",
       "    </tr>\n",
       "    <tr>\n",
       "      <th>3</th>\n",
       "      <td>4</td>\n",
       "      <td>2409320</td>\n",
       "    </tr>\n",
       "    <tr>\n",
       "      <th>4</th>\n",
       "      <td>5</td>\n",
       "      <td>84689</td>\n",
       "    </tr>\n",
       "    <tr>\n",
       "      <th>5</th>\n",
       "      <td>6</td>\n",
       "      <td>221537</td>\n",
       "    </tr>\n",
       "    <tr>\n",
       "      <th>6</th>\n",
       "      <td>7</td>\n",
       "      <td>1457002</td>\n",
       "    </tr>\n",
       "    <tr>\n",
       "      <th>7</th>\n",
       "      <td>8</td>\n",
       "      <td>59282</td>\n",
       "    </tr>\n",
       "    <tr>\n",
       "      <th>8</th>\n",
       "      <td>9</td>\n",
       "      <td>597862</td>\n",
       "    </tr>\n",
       "    <tr>\n",
       "      <th>9</th>\n",
       "      <td>10</td>\n",
       "      <td>33802</td>\n",
       "    </tr>\n",
       "    <tr>\n",
       "      <th>10</th>\n",
       "      <td>11</td>\n",
       "      <td>319009</td>\n",
       "    </tr>\n",
       "    <tr>\n",
       "      <th>11</th>\n",
       "      <td>12</td>\n",
       "      <td>574731</td>\n",
       "    </tr>\n",
       "    <tr>\n",
       "      <th>12</th>\n",
       "      <td>13</td>\n",
       "      <td>1117892</td>\n",
       "    </tr>\n",
       "    <tr>\n",
       "      <th>13</th>\n",
       "      <td>14</td>\n",
       "      <td>525188</td>\n",
       "    </tr>\n",
       "    <tr>\n",
       "      <th>14</th>\n",
       "      <td>15</td>\n",
       "      <td>681305</td>\n",
       "    </tr>\n",
       "    <tr>\n",
       "      <th>15</th>\n",
       "      <td>16</td>\n",
       "      <td>2177338</td>\n",
       "    </tr>\n",
       "    <tr>\n",
       "      <th>16</th>\n",
       "      <td>17</td>\n",
       "      <td>470780</td>\n",
       "    </tr>\n",
       "    <tr>\n",
       "      <th>17</th>\n",
       "      <td>18</td>\n",
       "      <td>177712</td>\n",
       "    </tr>\n",
       "    <tr>\n",
       "      <th>18</th>\n",
       "      <td>19</td>\n",
       "      <td>1391447</td>\n",
       "    </tr>\n",
       "    <tr>\n",
       "      <th>19</th>\n",
       "      <td>20</td>\n",
       "      <td>770300</td>\n",
       "    </tr>\n",
       "    <tr>\n",
       "      <th>20</th>\n",
       "      <td>21</td>\n",
       "      <td>59477</td>\n",
       "    </tr>\n",
       "  </tbody>\n",
       "</table>\n",
       "</div>"
      ],
      "text/plain": [
       "    department_id    Count\n",
       "0               1  1181018\n",
       "1               2    35056\n",
       "2               3   881556\n",
       "3               4  2409320\n",
       "4               5    84689\n",
       "5               6   221537\n",
       "6               7  1457002\n",
       "7               8    59282\n",
       "8               9   597862\n",
       "9              10    33802\n",
       "10             11   319009\n",
       "11             12   574731\n",
       "12             13  1117892\n",
       "13             14   525188\n",
       "14             15   681305\n",
       "15             16  2177338\n",
       "16             17   470780\n",
       "17             18   177712\n",
       "18             19  1391447\n",
       "19             20   770300\n",
       "20             21    59477"
      ]
     },
     "execution_count": 33,
     "metadata": {},
     "output_type": "execute_result"
    }
   ],
   "source": [
    "# Look at resulting data\n",
    "orders_by_department"
   ]
  },
  {
   "cell_type": "code",
   "execution_count": 6,
   "id": "089421c7",
   "metadata": {},
   "outputs": [
    {
     "data": {
      "image/png": "[encoded data removed]",
      "text/plain": [
       "<Figure size 432x288 with 1 Axes>"
      ]
     },
     "metadata": {
      "needs_background": "light"
     },
     "output_type": "display_data"
    }
   ],
   "source": [
    "# Create bar graph of results\n",
    "pop_dept = orders_by_department.plot(kind = 'bar', x = 'department_id', title = 'Number of Orders from Each Department', color = '#269e46', xlabel = 'Department ID',ylabel = 'Number of Orders')"
   ]
  },
  {
   "cell_type": "code",
   "execution_count": 7,
   "id": "46423ed2",
   "metadata": {},
   "outputs": [],
   "source": [
    "# Export graph\n",
    "pop_dept.figure.savefig(os.path.join(path, 'Analysis', 'Visualizations', 'orders_by_dept.png'))"
   ]
  },
  {
   "cell_type": "code",
   "execution_count": 25,
   "id": "0dd66dd4",
   "metadata": {},
   "outputs": [],
   "source": [
    "# Check how many items are in each department as it likely affects the orders from them\n",
    "item_dept = df.groupby('department_id')['product_name'].nunique().reset_index(name = 'No_items')"
   ]
  },
  {
   "cell_type": "code",
   "execution_count": 26,
   "id": "9531227b",
   "metadata": {},
   "outputs": [
    {
     "data": {
      "text/html": [
       "<div>\n",
       "<style scoped>\n",
       "    .dataframe tbody tr th:only-of-type {\n",
       "        vertical-align: middle;\n",
       "    }\n",
       "\n",
       "    .dataframe tbody tr th {\n",
       "        vertical-align: top;\n",
       "    }\n",
       "\n",
       "    .dataframe thead th {\n",
       "        text-align: right;\n",
       "    }\n",
       "</style>\n",
       "<table border=\"1\" class=\"dataframe\">\n",
       "  <thead>\n",
       "    <tr style=\"text-align: right;\">\n",
       "      <th></th>\n",
       "      <th>department_id</th>\n",
       "      <th>No_items</th>\n",
       "    </tr>\n",
       "  </thead>\n",
       "  <tbody>\n",
       "    <tr>\n",
       "      <th>0</th>\n",
       "      <td>1</td>\n",
       "      <td>4006</td>\n",
       "    </tr>\n",
       "    <tr>\n",
       "      <th>1</th>\n",
       "      <td>2</td>\n",
       "      <td>548</td>\n",
       "    </tr>\n",
       "    <tr>\n",
       "      <th>2</th>\n",
       "      <td>3</td>\n",
       "      <td>1515</td>\n",
       "    </tr>\n",
       "    <tr>\n",
       "      <th>3</th>\n",
       "      <td>4</td>\n",
       "      <td>1684</td>\n",
       "    </tr>\n",
       "    <tr>\n",
       "      <th>4</th>\n",
       "      <td>5</td>\n",
       "      <td>1054</td>\n",
       "    </tr>\n",
       "    <tr>\n",
       "      <th>5</th>\n",
       "      <td>6</td>\n",
       "      <td>1139</td>\n",
       "    </tr>\n",
       "    <tr>\n",
       "      <th>6</th>\n",
       "      <td>7</td>\n",
       "      <td>4361</td>\n",
       "    </tr>\n",
       "    <tr>\n",
       "      <th>7</th>\n",
       "      <td>8</td>\n",
       "      <td>971</td>\n",
       "    </tr>\n",
       "    <tr>\n",
       "      <th>8</th>\n",
       "      <td>9</td>\n",
       "      <td>1858</td>\n",
       "    </tr>\n",
       "    <tr>\n",
       "      <th>9</th>\n",
       "      <td>10</td>\n",
       "      <td>38</td>\n",
       "    </tr>\n",
       "    <tr>\n",
       "      <th>10</th>\n",
       "      <td>11</td>\n",
       "      <td>6560</td>\n",
       "    </tr>\n",
       "    <tr>\n",
       "      <th>11</th>\n",
       "      <td>12</td>\n",
       "      <td>906</td>\n",
       "    </tr>\n",
       "    <tr>\n",
       "      <th>12</th>\n",
       "      <td>13</td>\n",
       "      <td>5368</td>\n",
       "    </tr>\n",
       "    <tr>\n",
       "      <th>13</th>\n",
       "      <td>14</td>\n",
       "      <td>1113</td>\n",
       "    </tr>\n",
       "    <tr>\n",
       "      <th>14</th>\n",
       "      <td>15</td>\n",
       "      <td>2092</td>\n",
       "    </tr>\n",
       "    <tr>\n",
       "      <th>15</th>\n",
       "      <td>16</td>\n",
       "      <td>3444</td>\n",
       "    </tr>\n",
       "    <tr>\n",
       "      <th>16</th>\n",
       "      <td>17</td>\n",
       "      <td>3083</td>\n",
       "    </tr>\n",
       "    <tr>\n",
       "      <th>17</th>\n",
       "      <td>18</td>\n",
       "      <td>1081</td>\n",
       "    </tr>\n",
       "    <tr>\n",
       "      <th>18</th>\n",
       "      <td>19</td>\n",
       "      <td>6263</td>\n",
       "    </tr>\n",
       "    <tr>\n",
       "      <th>19</th>\n",
       "      <td>20</td>\n",
       "      <td>1322</td>\n",
       "    </tr>\n",
       "    <tr>\n",
       "      <th>20</th>\n",
       "      <td>21</td>\n",
       "      <td>1255</td>\n",
       "    </tr>\n",
       "  </tbody>\n",
       "</table>\n",
       "</div>"
      ],
      "text/plain": [
       "    department_id  No_items\n",
       "0               1      4006\n",
       "1               2       548\n",
       "2               3      1515\n",
       "3               4      1684\n",
       "4               5      1054\n",
       "5               6      1139\n",
       "6               7      4361\n",
       "7               8       971\n",
       "8               9      1858\n",
       "9              10        38\n",
       "10             11      6560\n",
       "11             12       906\n",
       "12             13      5368\n",
       "13             14      1113\n",
       "14             15      2092\n",
       "15             16      3444\n",
       "16             17      3083\n",
       "17             18      1081\n",
       "18             19      6263\n",
       "19             20      1322\n",
       "20             21      1255"
      ]
     },
     "execution_count": 26,
     "metadata": {},
     "output_type": "execute_result"
    }
   ],
   "source": [
    "# Look at results\n",
    "item_dept"
   ]
  },
  {
   "cell_type": "code",
   "execution_count": 37,
   "id": "fbdb46ed",
   "metadata": {},
   "outputs": [
    {
     "data": {
      "image/png": "[encoded data removed]",
      "text/plain": [
       "<Figure size 432x288 with 1 Axes>"
      ]
     },
     "metadata": {
      "needs_background": "light"
     },
     "output_type": "display_data"
    }
   ],
   "source": [
    "# Create bar graph for each department\n",
    "item_per_dept = item_dept.plot(kind = 'bar', x = 'department_id', y = 'No_items', xlabel = 'Department', ylabel = 'Number of Items', title = 'Items Per Department', color = 'orange')"
   ]
  },
  {
   "cell_type": "code",
   "execution_count": 38,
   "id": "ceb073e8",
   "metadata": {},
   "outputs": [],
   "source": [
    "# Export the graph\n",
    "item_per_dept.figure.savefig(os.path.join(path, 'Analysis', 'Visualizations', 'items_per_dept.png'))"
   ]
  },
  {
   "cell_type": "code",
   "execution_count": 54,
   "id": "640b140e",
   "metadata": {},
   "outputs": [
    {
     "data": {
      "text/plain": [
       "count    3.243303e+07\n",
       "mean     1.501877e+00\n",
       "std      1.118870e+00\n",
       "min      0.000000e+00\n",
       "25%      1.000000e+00\n",
       "50%      2.000000e+00\n",
       "75%      3.000000e+00\n",
       "max      3.000000e+00\n",
       "Name: children, dtype: float64"
      ]
     },
     "execution_count": 54,
     "metadata": {},
     "output_type": "execute_result"
    }
   ],
   "source": [
    "# Create children stats to create groups\n",
    "df['children'].describe()"
   ]
  },
  {
   "cell_type": "code",
   "execution_count": 13,
   "id": "5e6e449a",
   "metadata": {},
   "outputs": [],
   "source": [
    "# Create a new column for those with or without children\n",
    "kids = []\n",
    "for value in df['children']:\n",
    "    if value == 0:\n",
    "        kids.append('No')\n",
    "    elif value != 0:\n",
    "        kids.append ('Yes')\n",
    "    else:\n",
    "        kids.append('Not enough data')"
   ]
  },
  {
   "cell_type": "code",
   "execution_count": 14,
   "id": "8321310b",
   "metadata": {},
   "outputs": [],
   "source": [
    "# Add new column to dataframe\n",
    "df['Dependents'] = kids"
   ]
  },
  {
   "cell_type": "code",
   "execution_count": 58,
   "id": "ef2fc681",
   "metadata": {},
   "outputs": [
    {
     "data": {
      "text/plain": [
       "Yes    24328189\n",
       "No      8104841\n",
       "Name: Dependents, dtype: int64"
      ]
     },
     "execution_count": 58,
     "metadata": {},
     "output_type": "execute_result"
    }
   ],
   "source": [
    "# Check results\n",
    "df['Dependents'].value_counts()"
   ]
  },
  {
   "cell_type": "code",
   "execution_count": 8,
   "id": "ccb0111f",
   "metadata": {},
   "outputs": [
    {
     "data": {
      "image/png": "[encoded data removed]",
      "text/plain": [
       "<Figure size 432x288 with 1 Axes>"
      ]
     },
     "metadata": {},
     "output_type": "display_data"
    }
   ],
   "source": [
    "# Create graph\n",
    "any_kids = df['Dependents'].value_counts().plot.pie(autopct = '%.2f', title = 'Customers With Dependents', ylabel = '', colors = ['blue', 'orange'])"
   ]
  },
  {
   "cell_type": "code",
   "execution_count": 9,
   "id": "0dc1e92c",
   "metadata": {},
   "outputs": [],
   "source": [
    "# Export Graph\n",
    "any_kids.figure.savefig(os.path.join(path, 'Analysis', 'Visualizations', 'dependents_pie.png'))"
   ]
  },
  {
   "cell_type": "code",
   "execution_count": 68,
   "id": "20dcaf5e",
   "metadata": {},
   "outputs": [],
   "source": [
    "# Export data frame\n",
    "df.to_pickle(os.path.join(path, 'Data', 'Prepared Data', 'exer_10.pkl'))"
   ]
  },
  {
   "cell_type": "code",
   "execution_count": 67,
   "id": "b0556696",
   "metadata": {},
   "outputs": [
    {
     "name": "stdout",
     "output_type": "stream",
     "text": [
      "<class 'pandas.core.frame.DataFrame'>\n",
      "Int64Index: 32433030 entries, 0 to 32433029\n",
      "Data columns (total 33 columns):\n",
      " #   Column                  Dtype  \n",
      "---  ------                  -----  \n",
      " 0   order_id                int64  \n",
      " 1   user_id                 int64  \n",
      " 2   order_number            int64  \n",
      " 3   orders_day_of_week      int64  \n",
      " 4   order_hour_of_day       int64  \n",
      " 5   days_since_prior_order  float64\n",
      " 6   product_id              int64  \n",
      " 7   add_to_cart_order       int64  \n",
      " 8   reordered               int64  \n",
      " 9   product_name            object \n",
      " 10  aisle_id                int64  \n",
      " 11  department_id           int64  \n",
      " 12  prices                  float64\n",
      " 13  price_ranges            object \n",
      " 14  shopping_days           object \n",
      " 15  busy_hours              object \n",
      " 16  max_order               int64  \n",
      " 17  loyalty_flag            object \n",
      " 18  avg_spent               float64\n",
      " 19  spenders                object \n",
      " 20  med_frequency           float64\n",
      " 21  frequent                object \n",
      " 22  Gender                  object \n",
      " 23  State                   object \n",
      " 24  Age                     int64  \n",
      " 25  date_joined             object \n",
      " 26  children                int64  \n",
      " 27  fam_status              object \n",
      " 28  income                  int64  \n",
      " 29  Region                  object \n",
      " 30  age_category            object \n",
      " 31  Income_bracket          object \n",
      " 32  Dependents              object \n",
      "dtypes: float64(4), int64(14), object(15)\n",
      "memory usage: 8.2+ GB\n"
     ]
    }
   ],
   "source": [
    "df.info()"
   ]
  },
  {
   "cell_type": "markdown",
   "id": "713a0e91",
   "metadata": {},
   "source": [
    "## Question 7\n",
    "<a id ='q7'></a>"
   ]
  },
  {
   "cell_type": "code",
   "execution_count": 12,
   "id": "54549e7c",
   "metadata": {},
   "outputs": [
    {
     "data": {
      "text/html": [
       "<div>\n",
       "<style scoped>\n",
       "    .dataframe tbody tr th:only-of-type {\n",
       "        vertical-align: middle;\n",
       "    }\n",
       "\n",
       "    .dataframe tbody tr th {\n",
       "        vertical-align: top;\n",
       "    }\n",
       "\n",
       "    .dataframe thead tr th {\n",
       "        text-align: left;\n",
       "    }\n",
       "\n",
       "    .dataframe thead tr:last-of-type th {\n",
       "        text-align: right;\n",
       "    }\n",
       "</style>\n",
       "<table border=\"1\" class=\"dataframe\">\n",
       "  <thead>\n",
       "    <tr>\n",
       "      <th></th>\n",
       "      <th colspan=\"3\" halign=\"left\">med_frequency</th>\n",
       "    </tr>\n",
       "    <tr>\n",
       "      <th></th>\n",
       "      <th>min</th>\n",
       "      <th>max</th>\n",
       "      <th>mean</th>\n",
       "    </tr>\n",
       "    <tr>\n",
       "      <th>Region</th>\n",
       "      <th></th>\n",
       "      <th></th>\n",
       "      <th></th>\n",
       "    </tr>\n",
       "  </thead>\n",
       "  <tbody>\n",
       "    <tr>\n",
       "      <th>Midwest</th>\n",
       "      <td>0.0</td>\n",
       "      <td>30.0</td>\n",
       "      <td>10.458179</td>\n",
       "    </tr>\n",
       "    <tr>\n",
       "      <th>Northeast</th>\n",
       "      <td>0.0</td>\n",
       "      <td>30.0</td>\n",
       "      <td>10.374217</td>\n",
       "    </tr>\n",
       "    <tr>\n",
       "      <th>South</th>\n",
       "      <td>0.0</td>\n",
       "      <td>30.0</td>\n",
       "      <td>10.397071</td>\n",
       "    </tr>\n",
       "    <tr>\n",
       "      <th>West</th>\n",
       "      <td>0.0</td>\n",
       "      <td>30.0</td>\n",
       "      <td>10.359767</td>\n",
       "    </tr>\n",
       "  </tbody>\n",
       "</table>\n",
       "</div>"
      ],
      "text/plain": [
       "          med_frequency                 \n",
       "                    min   max       mean\n",
       "Region                                  \n",
       "Midwest             0.0  30.0  10.458179\n",
       "Northeast           0.0  30.0  10.374217\n",
       "South               0.0  30.0  10.397071\n",
       "West                0.0  30.0  10.359767"
      ]
     },
     "execution_count": 12,
     "metadata": {},
     "output_type": "execute_result"
    }
   ],
   "source": [
    "# Aggregate max, mean, and min on customer profiles for usage frequency and expenditure.  Region frequency\n",
    "df.groupby('Region').agg({'med_frequency': ['min','max','mean']})"
   ]
  },
  {
   "cell_type": "code",
   "execution_count": 17,
   "id": "7645d606",
   "metadata": {},
   "outputs": [
    {
     "data": {
      "text/html": [
       "<div>\n",
       "<style scoped>\n",
       "    .dataframe tbody tr th:only-of-type {\n",
       "        vertical-align: middle;\n",
       "    }\n",
       "\n",
       "    .dataframe tbody tr th {\n",
       "        vertical-align: top;\n",
       "    }\n",
       "\n",
       "    .dataframe thead tr th {\n",
       "        text-align: left;\n",
       "    }\n",
       "\n",
       "    .dataframe thead tr:last-of-type th {\n",
       "        text-align: right;\n",
       "    }\n",
       "</style>\n",
       "<table border=\"1\" class=\"dataframe\">\n",
       "  <thead>\n",
       "    <tr>\n",
       "      <th></th>\n",
       "      <th colspan=\"3\" halign=\"left\">avg_spent</th>\n",
       "    </tr>\n",
       "    <tr>\n",
       "      <th></th>\n",
       "      <th>min</th>\n",
       "      <th>max</th>\n",
       "      <th>mean</th>\n",
       "    </tr>\n",
       "    <tr>\n",
       "      <th>Region</th>\n",
       "      <th></th>\n",
       "      <th></th>\n",
       "      <th></th>\n",
       "    </tr>\n",
       "  </thead>\n",
       "  <tbody>\n",
       "    <tr>\n",
       "      <th>Midwest</th>\n",
       "      <td>1.0</td>\n",
       "      <td>25005.425000</td>\n",
       "      <td>12.715947</td>\n",
       "    </tr>\n",
       "    <tr>\n",
       "      <th>Northeast</th>\n",
       "      <td>1.1</td>\n",
       "      <td>7414.485185</td>\n",
       "      <td>11.556554</td>\n",
       "    </tr>\n",
       "    <tr>\n",
       "      <th>South</th>\n",
       "      <td>1.0</td>\n",
       "      <td>15006.940000</td>\n",
       "      <td>12.196474</td>\n",
       "    </tr>\n",
       "    <tr>\n",
       "      <th>West</th>\n",
       "      <td>1.0</td>\n",
       "      <td>10209.987755</td>\n",
       "      <td>11.321539</td>\n",
       "    </tr>\n",
       "  </tbody>\n",
       "</table>\n",
       "</div>"
      ],
      "text/plain": [
       "          avg_spent                         \n",
       "                min           max       mean\n",
       "Region                                      \n",
       "Midwest         1.0  25005.425000  12.715947\n",
       "Northeast       1.1   7414.485185  11.556554\n",
       "South           1.0  15006.940000  12.196474\n",
       "West            1.0  10209.987755  11.321539"
      ]
     },
     "execution_count": 17,
     "metadata": {},
     "output_type": "execute_result"
    }
   ],
   "source": [
    "# Region expenditure\n",
    "df.groupby('Region').agg({'avg_spent': ['min', 'max', 'mean']})"
   ]
  },
  {
   "cell_type": "code",
   "execution_count": 19,
   "id": "68c4eec7",
   "metadata": {},
   "outputs": [
    {
     "data": {
      "text/html": [
       "<div>\n",
       "<style scoped>\n",
       "    .dataframe tbody tr th:only-of-type {\n",
       "        vertical-align: middle;\n",
       "    }\n",
       "\n",
       "    .dataframe tbody tr th {\n",
       "        vertical-align: top;\n",
       "    }\n",
       "\n",
       "    .dataframe thead tr th {\n",
       "        text-align: left;\n",
       "    }\n",
       "\n",
       "    .dataframe thead tr:last-of-type th {\n",
       "        text-align: right;\n",
       "    }\n",
       "</style>\n",
       "<table border=\"1\" class=\"dataframe\">\n",
       "  <thead>\n",
       "    <tr>\n",
       "      <th></th>\n",
       "      <th colspan=\"3\" halign=\"left\">med_frequency</th>\n",
       "    </tr>\n",
       "    <tr>\n",
       "      <th></th>\n",
       "      <th>min</th>\n",
       "      <th>max</th>\n",
       "      <th>mean</th>\n",
       "    </tr>\n",
       "    <tr>\n",
       "      <th>age_category</th>\n",
       "      <th></th>\n",
       "      <th></th>\n",
       "      <th></th>\n",
       "    </tr>\n",
       "  </thead>\n",
       "  <tbody>\n",
       "    <tr>\n",
       "      <th>18 - 37 years</th>\n",
       "      <td>0.0</td>\n",
       "      <td>30.0</td>\n",
       "      <td>10.411335</td>\n",
       "    </tr>\n",
       "    <tr>\n",
       "      <th>38 - 57 years</th>\n",
       "      <td>0.0</td>\n",
       "      <td>30.0</td>\n",
       "      <td>10.397121</td>\n",
       "    </tr>\n",
       "    <tr>\n",
       "      <th>58 - 77 years</th>\n",
       "      <td>0.0</td>\n",
       "      <td>30.0</td>\n",
       "      <td>10.390479</td>\n",
       "    </tr>\n",
       "    <tr>\n",
       "      <th>78 - 99 years</th>\n",
       "      <td>0.0</td>\n",
       "      <td>30.0</td>\n",
       "      <td>10.370230</td>\n",
       "    </tr>\n",
       "  </tbody>\n",
       "</table>\n",
       "</div>"
      ],
      "text/plain": [
       "              med_frequency                 \n",
       "                        min   max       mean\n",
       "age_category                                \n",
       "18 - 37 years           0.0  30.0  10.411335\n",
       "38 - 57 years           0.0  30.0  10.397121\n",
       "58 - 77 years           0.0  30.0  10.390479\n",
       "78 - 99 years           0.0  30.0  10.370230"
      ]
     },
     "execution_count": 19,
     "metadata": {},
     "output_type": "execute_result"
    }
   ],
   "source": [
    "# Age group frequency\n",
    "df.groupby('age_category').agg({'med_frequency':['min', 'max', 'mean']})"
   ]
  },
  {
   "cell_type": "code",
   "execution_count": 21,
   "id": "17ff5177",
   "metadata": {},
   "outputs": [
    {
     "data": {
      "text/html": [
       "<div>\n",
       "<style scoped>\n",
       "    .dataframe tbody tr th:only-of-type {\n",
       "        vertical-align: middle;\n",
       "    }\n",
       "\n",
       "    .dataframe tbody tr th {\n",
       "        vertical-align: top;\n",
       "    }\n",
       "\n",
       "    .dataframe thead tr th {\n",
       "        text-align: left;\n",
       "    }\n",
       "\n",
       "    .dataframe thead tr:last-of-type th {\n",
       "        text-align: right;\n",
       "    }\n",
       "</style>\n",
       "<table border=\"1\" class=\"dataframe\">\n",
       "  <thead>\n",
       "    <tr>\n",
       "      <th></th>\n",
       "      <th colspan=\"3\" halign=\"left\">avg_spent</th>\n",
       "    </tr>\n",
       "    <tr>\n",
       "      <th></th>\n",
       "      <th>min</th>\n",
       "      <th>max</th>\n",
       "      <th>mean</th>\n",
       "    </tr>\n",
       "    <tr>\n",
       "      <th>age_category</th>\n",
       "      <th></th>\n",
       "      <th></th>\n",
       "      <th></th>\n",
       "    </tr>\n",
       "  </thead>\n",
       "  <tbody>\n",
       "    <tr>\n",
       "      <th>18 - 37 years</th>\n",
       "      <td>1.0</td>\n",
       "      <td>12506.925000</td>\n",
       "      <td>11.986023</td>\n",
       "    </tr>\n",
       "    <tr>\n",
       "      <th>38 - 57 years</th>\n",
       "      <td>1.0</td>\n",
       "      <td>25005.425000</td>\n",
       "      <td>12.235182</td>\n",
       "    </tr>\n",
       "    <tr>\n",
       "      <th>58 - 77 years</th>\n",
       "      <td>1.0</td>\n",
       "      <td>8703.400000</td>\n",
       "      <td>11.847197</td>\n",
       "    </tr>\n",
       "    <tr>\n",
       "      <th>78 - 99 years</th>\n",
       "      <td>1.3</td>\n",
       "      <td>14042.512281</td>\n",
       "      <td>11.351693</td>\n",
       "    </tr>\n",
       "  </tbody>\n",
       "</table>\n",
       "</div>"
      ],
      "text/plain": [
       "              avg_spent                         \n",
       "                    min           max       mean\n",
       "age_category                                    \n",
       "18 - 37 years       1.0  12506.925000  11.986023\n",
       "38 - 57 years       1.0  25005.425000  12.235182\n",
       "58 - 77 years       1.0   8703.400000  11.847197\n",
       "78 - 99 years       1.3  14042.512281  11.351693"
      ]
     },
     "execution_count": 21,
     "metadata": {},
     "output_type": "execute_result"
    }
   ],
   "source": [
    "# Age group expenditure\n",
    "df.groupby('age_category').agg({'avg_spent': ['min', 'max', 'mean']})"
   ]
  },
  {
   "cell_type": "code",
   "execution_count": 23,
   "id": "89601674",
   "metadata": {},
   "outputs": [
    {
     "data": {
      "text/html": [
       "<div>\n",
       "<style scoped>\n",
       "    .dataframe tbody tr th:only-of-type {\n",
       "        vertical-align: middle;\n",
       "    }\n",
       "\n",
       "    .dataframe tbody tr th {\n",
       "        vertical-align: top;\n",
       "    }\n",
       "\n",
       "    .dataframe thead tr th {\n",
       "        text-align: left;\n",
       "    }\n",
       "\n",
       "    .dataframe thead tr:last-of-type th {\n",
       "        text-align: right;\n",
       "    }\n",
       "</style>\n",
       "<table border=\"1\" class=\"dataframe\">\n",
       "  <thead>\n",
       "    <tr>\n",
       "      <th></th>\n",
       "      <th colspan=\"3\" halign=\"left\">med_frequency</th>\n",
       "    </tr>\n",
       "    <tr>\n",
       "      <th></th>\n",
       "      <th>min</th>\n",
       "      <th>max</th>\n",
       "      <th>mean</th>\n",
       "    </tr>\n",
       "    <tr>\n",
       "      <th>Income_bracket</th>\n",
       "      <th></th>\n",
       "      <th></th>\n",
       "      <th></th>\n",
       "    </tr>\n",
       "  </thead>\n",
       "  <tbody>\n",
       "    <tr>\n",
       "      <th>Lower Middle Class</th>\n",
       "      <td>0.0</td>\n",
       "      <td>30.0</td>\n",
       "      <td>11.006693</td>\n",
       "    </tr>\n",
       "    <tr>\n",
       "      <th>Middle Class</th>\n",
       "      <td>0.0</td>\n",
       "      <td>30.0</td>\n",
       "      <td>10.318857</td>\n",
       "    </tr>\n",
       "    <tr>\n",
       "      <th>Poor</th>\n",
       "      <td>0.0</td>\n",
       "      <td>30.0</td>\n",
       "      <td>11.301386</td>\n",
       "    </tr>\n",
       "    <tr>\n",
       "      <th>Rich</th>\n",
       "      <td>1.0</td>\n",
       "      <td>30.0</td>\n",
       "      <td>9.581790</td>\n",
       "    </tr>\n",
       "    <tr>\n",
       "      <th>Upper Middle Class</th>\n",
       "      <td>0.0</td>\n",
       "      <td>30.0</td>\n",
       "      <td>10.279676</td>\n",
       "    </tr>\n",
       "  </tbody>\n",
       "</table>\n",
       "</div>"
      ],
      "text/plain": [
       "                   med_frequency                 \n",
       "                             min   max       mean\n",
       "Income_bracket                                   \n",
       "Lower Middle Class           0.0  30.0  11.006693\n",
       "Middle Class                 0.0  30.0  10.318857\n",
       "Poor                         0.0  30.0  11.301386\n",
       "Rich                         1.0  30.0   9.581790\n",
       "Upper Middle Class           0.0  30.0  10.279676"
      ]
     },
     "execution_count": 23,
     "metadata": {},
     "output_type": "execute_result"
    }
   ],
   "source": [
    "# Income bracket frequency\n",
    "df.groupby('Income_bracket').agg({'med_frequency': ['min', 'max', 'mean']})"
   ]
  },
  {
   "cell_type": "code",
   "execution_count": 25,
   "id": "447ccd0a",
   "metadata": {},
   "outputs": [
    {
     "data": {
      "text/html": [
       "<div>\n",
       "<style scoped>\n",
       "    .dataframe tbody tr th:only-of-type {\n",
       "        vertical-align: middle;\n",
       "    }\n",
       "\n",
       "    .dataframe tbody tr th {\n",
       "        vertical-align: top;\n",
       "    }\n",
       "\n",
       "    .dataframe thead tr th {\n",
       "        text-align: left;\n",
       "    }\n",
       "\n",
       "    .dataframe thead tr:last-of-type th {\n",
       "        text-align: right;\n",
       "    }\n",
       "</style>\n",
       "<table border=\"1\" class=\"dataframe\">\n",
       "  <thead>\n",
       "    <tr>\n",
       "      <th></th>\n",
       "      <th colspan=\"3\" halign=\"left\">avg_spent</th>\n",
       "    </tr>\n",
       "    <tr>\n",
       "      <th></th>\n",
       "      <th>min</th>\n",
       "      <th>max</th>\n",
       "      <th>mean</th>\n",
       "    </tr>\n",
       "    <tr>\n",
       "      <th>Income_bracket</th>\n",
       "      <th></th>\n",
       "      <th></th>\n",
       "      <th></th>\n",
       "    </tr>\n",
       "  </thead>\n",
       "  <tbody>\n",
       "    <tr>\n",
       "      <th>Lower Middle Class</th>\n",
       "      <td>1.000000</td>\n",
       "      <td>13.878571</td>\n",
       "      <td>6.875369</td>\n",
       "    </tr>\n",
       "    <tr>\n",
       "      <th>Middle Class</th>\n",
       "      <td>1.100000</td>\n",
       "      <td>12506.925000</td>\n",
       "      <td>8.710506</td>\n",
       "    </tr>\n",
       "    <tr>\n",
       "      <th>Poor</th>\n",
       "      <td>1.100000</td>\n",
       "      <td>7.466667</td>\n",
       "      <td>6.504934</td>\n",
       "    </tr>\n",
       "    <tr>\n",
       "      <th>Rich</th>\n",
       "      <td>25.423455</td>\n",
       "      <td>11772.100000</td>\n",
       "      <td>256.096852</td>\n",
       "    </tr>\n",
       "    <tr>\n",
       "      <th>Upper Middle Class</th>\n",
       "      <td>7.000000</td>\n",
       "      <td>25005.425000</td>\n",
       "      <td>16.474919</td>\n",
       "    </tr>\n",
       "  </tbody>\n",
       "</table>\n",
       "</div>"
      ],
      "text/plain": [
       "                    avg_spent                          \n",
       "                          min           max        mean\n",
       "Income_bracket                                         \n",
       "Lower Middle Class   1.000000     13.878571    6.875369\n",
       "Middle Class         1.100000  12506.925000    8.710506\n",
       "Poor                 1.100000      7.466667    6.504934\n",
       "Rich                25.423455  11772.100000  256.096852\n",
       "Upper Middle Class   7.000000  25005.425000   16.474919"
      ]
     },
     "execution_count": 25,
     "metadata": {},
     "output_type": "execute_result"
    }
   ],
   "source": [
    "# Income bracket expenditure\n",
    "df.groupby('Income_bracket').agg({'avg_spent' : ['min', 'max', 'mean']})"
   ]
  },
  {
   "cell_type": "code",
   "execution_count": 27,
   "id": "32f13960",
   "metadata": {},
   "outputs": [
    {
     "data": {
      "text/html": [
       "<div>\n",
       "<style scoped>\n",
       "    .dataframe tbody tr th:only-of-type {\n",
       "        vertical-align: middle;\n",
       "    }\n",
       "\n",
       "    .dataframe tbody tr th {\n",
       "        vertical-align: top;\n",
       "    }\n",
       "\n",
       "    .dataframe thead tr th {\n",
       "        text-align: left;\n",
       "    }\n",
       "\n",
       "    .dataframe thead tr:last-of-type th {\n",
       "        text-align: right;\n",
       "    }\n",
       "</style>\n",
       "<table border=\"1\" class=\"dataframe\">\n",
       "  <thead>\n",
       "    <tr>\n",
       "      <th></th>\n",
       "      <th colspan=\"3\" halign=\"left\">med_frequency</th>\n",
       "    </tr>\n",
       "    <tr>\n",
       "      <th></th>\n",
       "      <th>min</th>\n",
       "      <th>max</th>\n",
       "      <th>mean</th>\n",
       "    </tr>\n",
       "    <tr>\n",
       "      <th>Dependents</th>\n",
       "      <th></th>\n",
       "      <th></th>\n",
       "      <th></th>\n",
       "    </tr>\n",
       "  </thead>\n",
       "  <tbody>\n",
       "    <tr>\n",
       "      <th>No</th>\n",
       "      <td>0.0</td>\n",
       "      <td>30.0</td>\n",
       "      <td>10.367355</td>\n",
       "    </tr>\n",
       "    <tr>\n",
       "      <th>Yes</th>\n",
       "      <td>0.0</td>\n",
       "      <td>30.0</td>\n",
       "      <td>10.407961</td>\n",
       "    </tr>\n",
       "  </tbody>\n",
       "</table>\n",
       "</div>"
      ],
      "text/plain": [
       "           med_frequency                 \n",
       "                     min   max       mean\n",
       "Dependents                               \n",
       "No                   0.0  30.0  10.367355\n",
       "Yes                  0.0  30.0  10.407961"
      ]
     },
     "execution_count": 27,
     "metadata": {},
     "output_type": "execute_result"
    }
   ],
   "source": [
    "# Dependents frequency\n",
    "df.groupby('Dependents').agg({'med_frequency' : ['min', 'max', 'mean']})"
   ]
  },
  {
   "cell_type": "code",
   "execution_count": 29,
   "id": "fcff193f",
   "metadata": {},
   "outputs": [
    {
     "data": {
      "text/html": [
       "<div>\n",
       "<style scoped>\n",
       "    .dataframe tbody tr th:only-of-type {\n",
       "        vertical-align: middle;\n",
       "    }\n",
       "\n",
       "    .dataframe tbody tr th {\n",
       "        vertical-align: top;\n",
       "    }\n",
       "\n",
       "    .dataframe thead tr th {\n",
       "        text-align: left;\n",
       "    }\n",
       "\n",
       "    .dataframe thead tr:last-of-type th {\n",
       "        text-align: right;\n",
       "    }\n",
       "</style>\n",
       "<table border=\"1\" class=\"dataframe\">\n",
       "  <thead>\n",
       "    <tr>\n",
       "      <th></th>\n",
       "      <th colspan=\"3\" halign=\"left\">avg_spent</th>\n",
       "    </tr>\n",
       "    <tr>\n",
       "      <th></th>\n",
       "      <th>min</th>\n",
       "      <th>max</th>\n",
       "      <th>mean</th>\n",
       "    </tr>\n",
       "    <tr>\n",
       "      <th>Dependents</th>\n",
       "      <th></th>\n",
       "      <th></th>\n",
       "      <th></th>\n",
       "    </tr>\n",
       "  </thead>\n",
       "  <tbody>\n",
       "    <tr>\n",
       "      <th>No</th>\n",
       "      <td>1.0</td>\n",
       "      <td>25005.425</td>\n",
       "      <td>12.130265</td>\n",
       "    </tr>\n",
       "    <tr>\n",
       "      <th>Yes</th>\n",
       "      <td>1.0</td>\n",
       "      <td>12506.925</td>\n",
       "      <td>11.931712</td>\n",
       "    </tr>\n",
       "  </tbody>\n",
       "</table>\n",
       "</div>"
      ],
      "text/plain": [
       "           avg_spent                      \n",
       "                 min        max       mean\n",
       "Dependents                                \n",
       "No               1.0  25005.425  12.130265\n",
       "Yes              1.0  12506.925  11.931712"
      ]
     },
     "execution_count": 29,
     "metadata": {},
     "output_type": "execute_result"
    }
   ],
   "source": [
    "# Dependents expenditure\n",
    "df.groupby('Dependents').agg({'avg_spent' : ['min', 'max', 'mean']})"
   ]
  },
  {
   "cell_type": "markdown",
   "id": "cc7a8e44",
   "metadata": {},
   "source": [
    "## Question 8\n",
    "<a id='q8'></a>"
   ]
  },
  {
   "cell_type": "code",
   "execution_count": 8,
   "id": "3949f6bc",
   "metadata": {},
   "outputs": [],
   "source": [
    "# Compare customer profiles with regions and departments.  Age to region\n",
    "age_reg = pd.crosstab(df['age_category'], df['Region'], dropna = False)"
   ]
  },
  {
   "cell_type": "code",
   "execution_count": 33,
   "id": "948fa2ef",
   "metadata": {},
   "outputs": [
    {
     "data": {
      "text/html": [
       "<div>\n",
       "<style scoped>\n",
       "    .dataframe tbody tr th:only-of-type {\n",
       "        vertical-align: middle;\n",
       "    }\n",
       "\n",
       "    .dataframe tbody tr th {\n",
       "        vertical-align: top;\n",
       "    }\n",
       "\n",
       "    .dataframe thead th {\n",
       "        text-align: right;\n",
       "    }\n",
       "</style>\n",
       "<table border=\"1\" class=\"dataframe\">\n",
       "  <thead>\n",
       "    <tr style=\"text-align: right;\">\n",
       "      <th>Region</th>\n",
       "      <th>Midwest</th>\n",
       "      <th>Northeast</th>\n",
       "      <th>South</th>\n",
       "      <th>West</th>\n",
       "    </tr>\n",
       "    <tr>\n",
       "      <th>age_category</th>\n",
       "      <th></th>\n",
       "      <th></th>\n",
       "      <th></th>\n",
       "      <th></th>\n",
       "    </tr>\n",
       "  </thead>\n",
       "  <tbody>\n",
       "    <tr>\n",
       "      <th>18 - 37 years</th>\n",
       "      <td>2362542</td>\n",
       "      <td>1781875</td>\n",
       "      <td>3441994</td>\n",
       "      <td>2563154</td>\n",
       "    </tr>\n",
       "    <tr>\n",
       "      <th>38 - 57 years</th>\n",
       "      <td>2431380</td>\n",
       "      <td>1787095</td>\n",
       "      <td>3343788</td>\n",
       "      <td>2638435</td>\n",
       "    </tr>\n",
       "    <tr>\n",
       "      <th>58 - 77 years</th>\n",
       "      <td>2332717</td>\n",
       "      <td>1796376</td>\n",
       "      <td>3324175</td>\n",
       "      <td>2578192</td>\n",
       "    </tr>\n",
       "    <tr>\n",
       "      <th>78 - 99 years</th>\n",
       "      <td>476911</td>\n",
       "      <td>362798</td>\n",
       "      <td>691238</td>\n",
       "      <td>520360</td>\n",
       "    </tr>\n",
       "  </tbody>\n",
       "</table>\n",
       "</div>"
      ],
      "text/plain": [
       "Region         Midwest  Northeast    South     West\n",
       "age_category                                       \n",
       "18 - 37 years  2362542    1781875  3441994  2563154\n",
       "38 - 57 years  2431380    1787095  3343788  2638435\n",
       "58 - 77 years  2332717    1796376  3324175  2578192\n",
       "78 - 99 years   476911     362798   691238   520360"
      ]
     },
     "execution_count": 33,
     "metadata": {},
     "output_type": "execute_result"
    }
   ],
   "source": [
    "age_reg"
   ]
  },
  {
   "cell_type": "code",
   "execution_count": 9,
   "id": "75e8991b",
   "metadata": {},
   "outputs": [
    {
     "data": {
      "text/plain": [
       "(array([0, 1, 2, 3]),\n",
       " [Text(0, 0, '18 - 37 years'),\n",
       "  Text(1, 0, '38 - 57 years'),\n",
       "  Text(2, 0, '58 - 77 years'),\n",
       "  Text(3, 0, '78 - 99 years')])"
      ]
     },
     "execution_count": 9,
     "metadata": {},
     "output_type": "execute_result"
    },
    {
     "data": {
      "image/png": "[encoded data removed]",
      "text/plain": [
       "<Figure size 432x288 with 1 Axes>"
      ]
     },
     "metadata": {
      "needs_background": "light"
     },
     "output_type": "display_data"
    }
   ],
   "source": [
    "ar = age_reg.plot.bar(ylabel = 'Number of Orders in millions', xlabel = '', title = 'Customer Age Groups by Region')\n",
    "plt.xticks(rotation = 0, ha = 'center')"
   ]
  },
  {
   "cell_type": "code",
   "execution_count": 10,
   "id": "cd0635ba",
   "metadata": {},
   "outputs": [],
   "source": [
    "# Save graph\n",
    "ar.figure.savefig(os.path.join(path, 'Analysis', 'Visualizations', 'age_reg.png'))"
   ]
  },
  {
   "cell_type": "code",
   "execution_count": 18,
   "id": "0cc9cf0e",
   "metadata": {},
   "outputs": [],
   "source": [
    "# Age to department\n",
    "age_dept = pd.crosstab(df['department_id'], df['age_category'], dropna = False)"
   ]
  },
  {
   "cell_type": "code",
   "execution_count": 109,
   "id": "f6e40065",
   "metadata": {},
   "outputs": [
    {
     "data": {
      "text/html": [
       "<div>\n",
       "<style scoped>\n",
       "    .dataframe tbody tr th:only-of-type {\n",
       "        vertical-align: middle;\n",
       "    }\n",
       "\n",
       "    .dataframe tbody tr th {\n",
       "        vertical-align: top;\n",
       "    }\n",
       "\n",
       "    .dataframe thead th {\n",
       "        text-align: right;\n",
       "    }\n",
       "</style>\n",
       "<table border=\"1\" class=\"dataframe\">\n",
       "  <thead>\n",
       "    <tr style=\"text-align: right;\">\n",
       "      <th>age_category</th>\n",
       "      <th>18 - 37 years</th>\n",
       "      <th>38 - 57 years</th>\n",
       "      <th>58 - 77 years</th>\n",
       "      <th>78 - 99 years</th>\n",
       "    </tr>\n",
       "    <tr>\n",
       "      <th>department_id</th>\n",
       "      <th></th>\n",
       "      <th></th>\n",
       "      <th></th>\n",
       "      <th></th>\n",
       "    </tr>\n",
       "  </thead>\n",
       "  <tbody>\n",
       "    <tr>\n",
       "      <th>1</th>\n",
       "      <td>695625</td>\n",
       "      <td>704229</td>\n",
       "      <td>694191</td>\n",
       "      <td>142387</td>\n",
       "    </tr>\n",
       "    <tr>\n",
       "      <th>2</th>\n",
       "      <td>11535</td>\n",
       "      <td>11332</td>\n",
       "      <td>11210</td>\n",
       "      <td>2214</td>\n",
       "    </tr>\n",
       "    <tr>\n",
       "      <th>3</th>\n",
       "      <td>368448</td>\n",
       "      <td>371004</td>\n",
       "      <td>363350</td>\n",
       "      <td>73985</td>\n",
       "    </tr>\n",
       "    <tr>\n",
       "      <th>4</th>\n",
       "      <td>2963364</td>\n",
       "      <td>2978858</td>\n",
       "      <td>2933224</td>\n",
       "      <td>603845</td>\n",
       "    </tr>\n",
       "    <tr>\n",
       "      <th>5</th>\n",
       "      <td>49687</td>\n",
       "      <td>48099</td>\n",
       "      <td>46850</td>\n",
       "      <td>9060</td>\n",
       "    </tr>\n",
       "    <tr>\n",
       "      <th>6</th>\n",
       "      <td>84815</td>\n",
       "      <td>85005</td>\n",
       "      <td>82364</td>\n",
       "      <td>17069</td>\n",
       "    </tr>\n",
       "    <tr>\n",
       "      <th>7</th>\n",
       "      <td>833031</td>\n",
       "      <td>846618</td>\n",
       "      <td>838673</td>\n",
       "      <td>169837</td>\n",
       "    </tr>\n",
       "    <tr>\n",
       "      <th>8</th>\n",
       "      <td>30587</td>\n",
       "      <td>31018</td>\n",
       "      <td>29796</td>\n",
       "      <td>6323</td>\n",
       "    </tr>\n",
       "    <tr>\n",
       "      <th>9</th>\n",
       "      <td>271376</td>\n",
       "      <td>273253</td>\n",
       "      <td>267218</td>\n",
       "      <td>54780</td>\n",
       "    </tr>\n",
       "    <tr>\n",
       "      <th>10</th>\n",
       "      <td>10940</td>\n",
       "      <td>10836</td>\n",
       "      <td>10504</td>\n",
       "      <td>2293</td>\n",
       "    </tr>\n",
       "    <tr>\n",
       "      <th>11</th>\n",
       "      <td>138999</td>\n",
       "      <td>142620</td>\n",
       "      <td>138042</td>\n",
       "      <td>27973</td>\n",
       "    </tr>\n",
       "    <tr>\n",
       "      <th>12</th>\n",
       "      <td>220952</td>\n",
       "      <td>221412</td>\n",
       "      <td>220449</td>\n",
       "      <td>46118</td>\n",
       "    </tr>\n",
       "    <tr>\n",
       "      <th>13</th>\n",
       "      <td>585622</td>\n",
       "      <td>589239</td>\n",
       "      <td>582601</td>\n",
       "      <td>118115</td>\n",
       "    </tr>\n",
       "    <tr>\n",
       "      <th>14</th>\n",
       "      <td>223679</td>\n",
       "      <td>223585</td>\n",
       "      <td>217510</td>\n",
       "      <td>44795</td>\n",
       "    </tr>\n",
       "    <tr>\n",
       "      <th>15</th>\n",
       "      <td>335268</td>\n",
       "      <td>336167</td>\n",
       "      <td>328940</td>\n",
       "      <td>67683</td>\n",
       "    </tr>\n",
       "    <tr>\n",
       "      <th>16</th>\n",
       "      <td>1705100</td>\n",
       "      <td>1698251</td>\n",
       "      <td>1672705</td>\n",
       "      <td>337960</td>\n",
       "    </tr>\n",
       "    <tr>\n",
       "      <th>17</th>\n",
       "      <td>230147</td>\n",
       "      <td>232352</td>\n",
       "      <td>229001</td>\n",
       "      <td>47166</td>\n",
       "    </tr>\n",
       "    <tr>\n",
       "      <th>18</th>\n",
       "      <td>131743</td>\n",
       "      <td>136917</td>\n",
       "      <td>129280</td>\n",
       "      <td>25862</td>\n",
       "    </tr>\n",
       "    <tr>\n",
       "      <th>19</th>\n",
       "      <td>907412</td>\n",
       "      <td>908795</td>\n",
       "      <td>887657</td>\n",
       "      <td>183686</td>\n",
       "    </tr>\n",
       "    <tr>\n",
       "      <th>20</th>\n",
       "      <td>329222</td>\n",
       "      <td>329395</td>\n",
       "      <td>326769</td>\n",
       "      <td>65863</td>\n",
       "    </tr>\n",
       "    <tr>\n",
       "      <th>21</th>\n",
       "      <td>22013</td>\n",
       "      <td>21713</td>\n",
       "      <td>21126</td>\n",
       "      <td>4293</td>\n",
       "    </tr>\n",
       "  </tbody>\n",
       "</table>\n",
       "</div>"
      ],
      "text/plain": [
       "age_category   18 - 37 years  38 - 57 years  58 - 77 years  78 - 99 years\n",
       "department_id                                                            \n",
       "1                     695625         704229         694191         142387\n",
       "2                      11535          11332          11210           2214\n",
       "3                     368448         371004         363350          73985\n",
       "4                    2963364        2978858        2933224         603845\n",
       "5                      49687          48099          46850           9060\n",
       "6                      84815          85005          82364          17069\n",
       "7                     833031         846618         838673         169837\n",
       "8                      30587          31018          29796           6323\n",
       "9                     271376         273253         267218          54780\n",
       "10                     10940          10836          10504           2293\n",
       "11                    138999         142620         138042          27973\n",
       "12                    220952         221412         220449          46118\n",
       "13                    585622         589239         582601         118115\n",
       "14                    223679         223585         217510          44795\n",
       "15                    335268         336167         328940          67683\n",
       "16                   1705100        1698251        1672705         337960\n",
       "17                    230147         232352         229001          47166\n",
       "18                    131743         136917         129280          25862\n",
       "19                    907412         908795         887657         183686\n",
       "20                    329222         329395         326769          65863\n",
       "21                     22013          21713          21126           4293"
      ]
     },
     "execution_count": 109,
     "metadata": {},
     "output_type": "execute_result"
    }
   ],
   "source": [
    "age_dept"
   ]
  },
  {
   "cell_type": "code",
   "execution_count": 19,
   "id": "a8f4e0d9",
   "metadata": {},
   "outputs": [
    {
     "data": {
      "image/png": "[encoded data removed]",
      "text/plain": [
       "<Figure size 864x576 with 1 Axes>"
      ]
     },
     "metadata": {
      "needs_background": "light"
     },
     "output_type": "display_data"
    }
   ],
   "source": [
    "ad = age_dept.plot.bar(figsize = (12, 8), xlabel = 'Department ID', ylabel = 'Numbe of Orders in millions', title = 'Department Orders by Age Group')"
   ]
  },
  {
   "cell_type": "code",
   "execution_count": 20,
   "id": "13a1a3a4",
   "metadata": {},
   "outputs": [],
   "source": [
    "ad.figure.savefig(os.path.join(path, 'Analysis', 'Visualizations', 'age_dept.png'))"
   ]
  },
  {
   "cell_type": "code",
   "execution_count": 69,
   "id": "93c0979e",
   "metadata": {},
   "outputs": [],
   "source": [
    "# Age to average spent\n",
    "age_spent = df.groupby('age_category').agg({'avg_spent': ['min', 'max', 'mean']})"
   ]
  },
  {
   "cell_type": "code",
   "execution_count": 75,
   "id": "dcfbcaf8",
   "metadata": {},
   "outputs": [
    {
     "data": {
      "text/html": [
       "<div>\n",
       "<style scoped>\n",
       "    .dataframe tbody tr th:only-of-type {\n",
       "        vertical-align: middle;\n",
       "    }\n",
       "\n",
       "    .dataframe tbody tr th {\n",
       "        vertical-align: top;\n",
       "    }\n",
       "\n",
       "    .dataframe thead tr th {\n",
       "        text-align: left;\n",
       "    }\n",
       "\n",
       "    .dataframe thead tr:last-of-type th {\n",
       "        text-align: right;\n",
       "    }\n",
       "</style>\n",
       "<table border=\"1\" class=\"dataframe\">\n",
       "  <thead>\n",
       "    <tr>\n",
       "      <th></th>\n",
       "      <th colspan=\"3\" halign=\"left\">avg_spent</th>\n",
       "    </tr>\n",
       "    <tr>\n",
       "      <th></th>\n",
       "      <th>min</th>\n",
       "      <th>max</th>\n",
       "      <th>mean</th>\n",
       "    </tr>\n",
       "    <tr>\n",
       "      <th>age_category</th>\n",
       "      <th></th>\n",
       "      <th></th>\n",
       "      <th></th>\n",
       "    </tr>\n",
       "  </thead>\n",
       "  <tbody>\n",
       "    <tr>\n",
       "      <th>18 - 37 years</th>\n",
       "      <td>1.0</td>\n",
       "      <td>12506.925000</td>\n",
       "      <td>11.986023</td>\n",
       "    </tr>\n",
       "    <tr>\n",
       "      <th>38 - 57 years</th>\n",
       "      <td>1.0</td>\n",
       "      <td>25005.425000</td>\n",
       "      <td>12.235182</td>\n",
       "    </tr>\n",
       "    <tr>\n",
       "      <th>58 - 77 years</th>\n",
       "      <td>1.0</td>\n",
       "      <td>8703.400000</td>\n",
       "      <td>11.847197</td>\n",
       "    </tr>\n",
       "    <tr>\n",
       "      <th>78 - 99 years</th>\n",
       "      <td>1.3</td>\n",
       "      <td>14042.512281</td>\n",
       "      <td>11.351693</td>\n",
       "    </tr>\n",
       "  </tbody>\n",
       "</table>\n",
       "</div>"
      ],
      "text/plain": [
       "              avg_spent                         \n",
       "                    min           max       mean\n",
       "age_category                                    \n",
       "18 - 37 years       1.0  12506.925000  11.986023\n",
       "38 - 57 years       1.0  25005.425000  12.235182\n",
       "58 - 77 years       1.0   8703.400000  11.847197\n",
       "78 - 99 years       1.3  14042.512281  11.351693"
      ]
     },
     "execution_count": 75,
     "metadata": {},
     "output_type": "execute_result"
    }
   ],
   "source": [
    "# Check results\n",
    "age_spent"
   ]
  },
  {
   "cell_type": "code",
   "execution_count": 4,
   "id": "f1214dc0",
   "metadata": {},
   "outputs": [],
   "source": [
    "# Create just one stat for graphing\n",
    "age_spent_mean = df.groupby('age_category').agg({'avg_spent':['mean']})"
   ]
  },
  {
   "cell_type": "code",
   "execution_count": 5,
   "id": "4e624062",
   "metadata": {},
   "outputs": [
    {
     "data": {
      "text/plain": [
       "(array([0, 1, 2, 3]),\n",
       " [Text(0, 0, '18 - 37 years'),\n",
       "  Text(1, 0, '38 - 57 years'),\n",
       "  Text(2, 0, '58 - 77 years'),\n",
       "  Text(3, 0, '78 - 99 years')])"
      ]
     },
     "execution_count": 5,
     "metadata": {},
     "output_type": "execute_result"
    },
    {
     "data": {
      "image/png": "[encoded data removed]",
      "text/plain": [
       "<Figure size 432x288 with 1 Axes>"
      ]
     },
     "metadata": {
      "needs_background": "light"
     },
     "output_type": "display_data"
    }
   ],
   "source": [
    "# Bar graph of data\n",
    "asm = age_spent_mean.plot(kind = 'bar', title = 'Average Spent Per Order by Age Category', xlabel = '', color = 'green')\n",
    "plt.xticks(rotation = 0, ha = 'center')"
   ]
  },
  {
   "cell_type": "code",
   "execution_count": 6,
   "id": "2edf448b",
   "metadata": {},
   "outputs": [],
   "source": [
    "# Save graph\n",
    "asm.figure.savefig(os.path.join(path, 'Analysis', 'Visualizations', 'age_spent.png'))"
   ]
  },
  {
   "cell_type": "code",
   "execution_count": 7,
   "id": "62d2ad1a",
   "metadata": {},
   "outputs": [],
   "source": [
    "# Income to Region\n",
    "inc_reg = pd.crosstab(df['Income_bracket'], df['Region'], dropna = False)"
   ]
  },
  {
   "cell_type": "code",
   "execution_count": 39,
   "id": "6259f22f",
   "metadata": {},
   "outputs": [
    {
     "data": {
      "text/html": [
       "<div>\n",
       "<style scoped>\n",
       "    .dataframe tbody tr th:only-of-type {\n",
       "        vertical-align: middle;\n",
       "    }\n",
       "\n",
       "    .dataframe tbody tr th {\n",
       "        vertical-align: top;\n",
       "    }\n",
       "\n",
       "    .dataframe thead th {\n",
       "        text-align: right;\n",
       "    }\n",
       "</style>\n",
       "<table border=\"1\" class=\"dataframe\">\n",
       "  <thead>\n",
       "    <tr style=\"text-align: right;\">\n",
       "      <th>Region</th>\n",
       "      <th>Midwest</th>\n",
       "      <th>Northeast</th>\n",
       "      <th>South</th>\n",
       "      <th>West</th>\n",
       "    </tr>\n",
       "    <tr>\n",
       "      <th>Income_bracket</th>\n",
       "      <th></th>\n",
       "      <th></th>\n",
       "      <th></th>\n",
       "      <th></th>\n",
       "    </tr>\n",
       "  </thead>\n",
       "  <tbody>\n",
       "    <tr>\n",
       "      <th>Lower Middle Class</th>\n",
       "      <td>875488</td>\n",
       "      <td>678415</td>\n",
       "      <td>1270606</td>\n",
       "      <td>943280</td>\n",
       "    </tr>\n",
       "    <tr>\n",
       "      <th>Middle Class</th>\n",
       "      <td>3532362</td>\n",
       "      <td>2672381</td>\n",
       "      <td>5101184</td>\n",
       "      <td>3953777</td>\n",
       "    </tr>\n",
       "    <tr>\n",
       "      <th>Poor</th>\n",
       "      <td>125645</td>\n",
       "      <td>85866</td>\n",
       "      <td>183266</td>\n",
       "      <td>129443</td>\n",
       "    </tr>\n",
       "    <tr>\n",
       "      <th>Rich</th>\n",
       "      <td>19561</td>\n",
       "      <td>9781</td>\n",
       "      <td>14843</td>\n",
       "      <td>14814</td>\n",
       "    </tr>\n",
       "    <tr>\n",
       "      <th>Upper Middle Class</th>\n",
       "      <td>3050494</td>\n",
       "      <td>2281701</td>\n",
       "      <td>4231296</td>\n",
       "      <td>3258827</td>\n",
       "    </tr>\n",
       "  </tbody>\n",
       "</table>\n",
       "</div>"
      ],
      "text/plain": [
       "Region              Midwest  Northeast    South     West\n",
       "Income_bracket                                          \n",
       "Lower Middle Class   875488     678415  1270606   943280\n",
       "Middle Class        3532362    2672381  5101184  3953777\n",
       "Poor                 125645      85866   183266   129443\n",
       "Rich                  19561       9781    14843    14814\n",
       "Upper Middle Class  3050494    2281701  4231296  3258827"
      ]
     },
     "execution_count": 39,
     "metadata": {},
     "output_type": "execute_result"
    }
   ],
   "source": [
    "inc_reg"
   ]
  },
  {
   "cell_type": "code",
   "execution_count": 10,
   "id": "bdb4be45",
   "metadata": {},
   "outputs": [
    {
     "data": {
      "image/png": "[encoded data removed]",
      "text/plain": [
       "<Figure size 432x288 with 1 Axes>"
      ]
     },
     "metadata": {
      "needs_background": "light"
     },
     "output_type": "display_data"
    }
   ],
   "source": [
    "ir = inc_reg.plot.bar(title = 'Orders by Income and Region', ylabel = 'Orders', xlabel = '')\n",
    "plt.xticks(rotation = 45, ha = 'center')\n",
    "plt.tight_layout()"
   ]
  },
  {
   "cell_type": "code",
   "execution_count": 11,
   "id": "91e72179",
   "metadata": {},
   "outputs": [],
   "source": [
    "# Export graph\n",
    "ir.figure.savefig(os.path.join(path, 'Analysis', 'Visualizations', 'inc_reg.png'))"
   ]
  },
  {
   "cell_type": "code",
   "execution_count": 16,
   "id": "f05fe502",
   "metadata": {},
   "outputs": [],
   "source": [
    "# Income to average spent\n",
    "inc_spent = df.groupby('Income_bracket').agg({'avg_spent': ['min', 'max', 'mean']})"
   ]
  },
  {
   "cell_type": "code",
   "execution_count": 17,
   "id": "b7d01a44",
   "metadata": {},
   "outputs": [
    {
     "data": {
      "text/html": [
       "<div>\n",
       "<style scoped>\n",
       "    .dataframe tbody tr th:only-of-type {\n",
       "        vertical-align: middle;\n",
       "    }\n",
       "\n",
       "    .dataframe tbody tr th {\n",
       "        vertical-align: top;\n",
       "    }\n",
       "\n",
       "    .dataframe thead tr th {\n",
       "        text-align: left;\n",
       "    }\n",
       "\n",
       "    .dataframe thead tr:last-of-type th {\n",
       "        text-align: right;\n",
       "    }\n",
       "</style>\n",
       "<table border=\"1\" class=\"dataframe\">\n",
       "  <thead>\n",
       "    <tr>\n",
       "      <th></th>\n",
       "      <th colspan=\"3\" halign=\"left\">avg_spent</th>\n",
       "    </tr>\n",
       "    <tr>\n",
       "      <th></th>\n",
       "      <th>min</th>\n",
       "      <th>max</th>\n",
       "      <th>mean</th>\n",
       "    </tr>\n",
       "    <tr>\n",
       "      <th>Income_bracket</th>\n",
       "      <th></th>\n",
       "      <th></th>\n",
       "      <th></th>\n",
       "    </tr>\n",
       "  </thead>\n",
       "  <tbody>\n",
       "    <tr>\n",
       "      <th>Lower Middle Class</th>\n",
       "      <td>1.000000</td>\n",
       "      <td>13.878571</td>\n",
       "      <td>6.875369</td>\n",
       "    </tr>\n",
       "    <tr>\n",
       "      <th>Middle Class</th>\n",
       "      <td>1.100000</td>\n",
       "      <td>12506.925000</td>\n",
       "      <td>8.710506</td>\n",
       "    </tr>\n",
       "    <tr>\n",
       "      <th>Poor</th>\n",
       "      <td>1.100000</td>\n",
       "      <td>7.466667</td>\n",
       "      <td>6.504934</td>\n",
       "    </tr>\n",
       "    <tr>\n",
       "      <th>Rich</th>\n",
       "      <td>25.423455</td>\n",
       "      <td>11772.100000</td>\n",
       "      <td>256.096852</td>\n",
       "    </tr>\n",
       "    <tr>\n",
       "      <th>Upper Middle Class</th>\n",
       "      <td>7.000000</td>\n",
       "      <td>25005.425000</td>\n",
       "      <td>16.474919</td>\n",
       "    </tr>\n",
       "  </tbody>\n",
       "</table>\n",
       "</div>"
      ],
      "text/plain": [
       "                    avg_spent                          \n",
       "                          min           max        mean\n",
       "Income_bracket                                         \n",
       "Lower Middle Class   1.000000     13.878571    6.875369\n",
       "Middle Class         1.100000  12506.925000    8.710506\n",
       "Poor                 1.100000      7.466667    6.504934\n",
       "Rich                25.423455  11772.100000  256.096852\n",
       "Upper Middle Class   7.000000  25005.425000   16.474919"
      ]
     },
     "execution_count": 17,
     "metadata": {},
     "output_type": "execute_result"
    }
   ],
   "source": [
    "# Check results\n",
    "inc_spent"
   ]
  },
  {
   "cell_type": "code",
   "execution_count": 12,
   "id": "8a660e06",
   "metadata": {},
   "outputs": [],
   "source": [
    "inc_spent_mean = df.groupby('Income_bracket').agg({'avg_spent':['mean']})"
   ]
  },
  {
   "cell_type": "code",
   "execution_count": 13,
   "id": "1bf3fa0b",
   "metadata": {},
   "outputs": [
    {
     "data": {
      "image/png": "[encoded data removed]",
      "text/plain": [
       "<Figure size 432x288 with 1 Axes>"
      ]
     },
     "metadata": {
      "needs_background": "light"
     },
     "output_type": "display_data"
    }
   ],
   "source": [
    "ism = inc_spent_mean.plot(kind = 'bar', color = 'green', title = 'Average Spent Per Order by Income Bracket', xlabel = '')\n",
    "plt.xticks(rotation = 45, ha = 'center')\n",
    "plt.tight_layout()"
   ]
  },
  {
   "cell_type": "code",
   "execution_count": 14,
   "id": "02b5a04f",
   "metadata": {},
   "outputs": [],
   "source": [
    "# Export graph\n",
    "ism.figure.savefig(os.path.join(path, 'Analysis', 'Visualizations', 'inc_spent.png'))"
   ]
  },
  {
   "cell_type": "code",
   "execution_count": 106,
   "id": "25b7e9c1",
   "metadata": {},
   "outputs": [],
   "source": [
    "# Income to department\n",
    "inc_dept = pd.crosstab(df['department_id'], df['Income_bracket'], dropna = False)"
   ]
  },
  {
   "cell_type": "code",
   "execution_count": 84,
   "id": "5c23d859",
   "metadata": {},
   "outputs": [
    {
     "data": {
      "text/html": [
       "<div>\n",
       "<style scoped>\n",
       "    .dataframe tbody tr th:only-of-type {\n",
       "        vertical-align: middle;\n",
       "    }\n",
       "\n",
       "    .dataframe tbody tr th {\n",
       "        vertical-align: top;\n",
       "    }\n",
       "\n",
       "    .dataframe thead th {\n",
       "        text-align: right;\n",
       "    }\n",
       "</style>\n",
       "<table border=\"1\" class=\"dataframe\">\n",
       "  <thead>\n",
       "    <tr style=\"text-align: right;\">\n",
       "      <th>Income_bracket</th>\n",
       "      <th>Lower Middle Class</th>\n",
       "      <th>Middle Class</th>\n",
       "      <th>Poor</th>\n",
       "      <th>Rich</th>\n",
       "      <th>Upper Middle Class</th>\n",
       "    </tr>\n",
       "    <tr>\n",
       "      <th>department_id</th>\n",
       "      <th></th>\n",
       "      <th></th>\n",
       "      <th></th>\n",
       "      <th></th>\n",
       "      <th></th>\n",
       "    </tr>\n",
       "  </thead>\n",
       "  <tbody>\n",
       "    <tr>\n",
       "      <th>1</th>\n",
       "      <td>246478</td>\n",
       "      <td>1055728</td>\n",
       "      <td>34167</td>\n",
       "      <td>4201</td>\n",
       "      <td>895858</td>\n",
       "    </tr>\n",
       "    <tr>\n",
       "      <th>2</th>\n",
       "      <td>4212</td>\n",
       "      <td>16950</td>\n",
       "      <td>690</td>\n",
       "      <td>107</td>\n",
       "      <td>14332</td>\n",
       "    </tr>\n",
       "    <tr>\n",
       "      <th>3</th>\n",
       "      <td>123700</td>\n",
       "      <td>558132</td>\n",
       "      <td>16609</td>\n",
       "      <td>2624</td>\n",
       "      <td>475722</td>\n",
       "    </tr>\n",
       "    <tr>\n",
       "      <th>4</th>\n",
       "      <td>954056</td>\n",
       "      <td>4573204</td>\n",
       "      <td>124709</td>\n",
       "      <td>11956</td>\n",
       "      <td>3815366</td>\n",
       "    </tr>\n",
       "    <tr>\n",
       "      <th>5</th>\n",
       "      <td>19734</td>\n",
       "      <td>66711</td>\n",
       "      <td>2878</td>\n",
       "      <td>1871</td>\n",
       "      <td>62502</td>\n",
       "    </tr>\n",
       "    <tr>\n",
       "      <th>6</th>\n",
       "      <td>25289</td>\n",
       "      <td>131519</td>\n",
       "      <td>3533</td>\n",
       "      <td>524</td>\n",
       "      <td>108388</td>\n",
       "    </tr>\n",
       "    <tr>\n",
       "      <th>7</th>\n",
       "      <td>406008</td>\n",
       "      <td>1200438</td>\n",
       "      <td>61761</td>\n",
       "      <td>5618</td>\n",
       "      <td>1014334</td>\n",
       "    </tr>\n",
       "    <tr>\n",
       "      <th>8</th>\n",
       "      <td>10254</td>\n",
       "      <td>45573</td>\n",
       "      <td>1194</td>\n",
       "      <td>480</td>\n",
       "      <td>40223</td>\n",
       "    </tr>\n",
       "    <tr>\n",
       "      <th>9</th>\n",
       "      <td>78695</td>\n",
       "      <td>421030</td>\n",
       "      <td>9850</td>\n",
       "      <td>1791</td>\n",
       "      <td>355261</td>\n",
       "    </tr>\n",
       "    <tr>\n",
       "      <th>10</th>\n",
       "      <td>4914</td>\n",
       "      <td>16382</td>\n",
       "      <td>764</td>\n",
       "      <td>4</td>\n",
       "      <td>12509</td>\n",
       "    </tr>\n",
       "    <tr>\n",
       "      <th>11</th>\n",
       "      <td>54015</td>\n",
       "      <td>209466</td>\n",
       "      <td>7303</td>\n",
       "      <td>898</td>\n",
       "      <td>175952</td>\n",
       "    </tr>\n",
       "    <tr>\n",
       "      <th>12</th>\n",
       "      <td>45450</td>\n",
       "      <td>353897</td>\n",
       "      <td>4183</td>\n",
       "      <td>1405</td>\n",
       "      <td>303996</td>\n",
       "    </tr>\n",
       "    <tr>\n",
       "      <th>13</th>\n",
       "      <td>192512</td>\n",
       "      <td>892340</td>\n",
       "      <td>25055</td>\n",
       "      <td>3691</td>\n",
       "      <td>761979</td>\n",
       "    </tr>\n",
       "    <tr>\n",
       "      <th>14</th>\n",
       "      <td>99967</td>\n",
       "      <td>322813</td>\n",
       "      <td>14386</td>\n",
       "      <td>1341</td>\n",
       "      <td>271062</td>\n",
       "    </tr>\n",
       "    <tr>\n",
       "      <th>15</th>\n",
       "      <td>95888</td>\n",
       "      <td>516659</td>\n",
       "      <td>12055</td>\n",
       "      <td>2201</td>\n",
       "      <td>441255</td>\n",
       "    </tr>\n",
       "    <tr>\n",
       "      <th>16</th>\n",
       "      <td>572625</td>\n",
       "      <td>2580519</td>\n",
       "      <td>75897</td>\n",
       "      <td>9948</td>\n",
       "      <td>2175027</td>\n",
       "    </tr>\n",
       "    <tr>\n",
       "      <th>17</th>\n",
       "      <td>95964</td>\n",
       "      <td>335060</td>\n",
       "      <td>13785</td>\n",
       "      <td>2895</td>\n",
       "      <td>290962</td>\n",
       "    </tr>\n",
       "    <tr>\n",
       "      <th>18</th>\n",
       "      <td>35918</td>\n",
       "      <td>211287</td>\n",
       "      <td>3683</td>\n",
       "      <td>463</td>\n",
       "      <td>172451</td>\n",
       "    </tr>\n",
       "    <tr>\n",
       "      <th>19</th>\n",
       "      <td>575005</td>\n",
       "      <td>1222152</td>\n",
       "      <td>93485</td>\n",
       "      <td>5334</td>\n",
       "      <td>991574</td>\n",
       "    </tr>\n",
       "    <tr>\n",
       "      <th>20</th>\n",
       "      <td>119346</td>\n",
       "      <td>496671</td>\n",
       "      <td>17200</td>\n",
       "      <td>1586</td>\n",
       "      <td>416446</td>\n",
       "    </tr>\n",
       "    <tr>\n",
       "      <th>21</th>\n",
       "      <td>7759</td>\n",
       "      <td>33173</td>\n",
       "      <td>1033</td>\n",
       "      <td>61</td>\n",
       "      <td>27119</td>\n",
       "    </tr>\n",
       "  </tbody>\n",
       "</table>\n",
       "</div>"
      ],
      "text/plain": [
       "Income_bracket  Lower Middle Class  Middle Class    Poor   Rich  \\\n",
       "department_id                                                     \n",
       "1                           246478       1055728   34167   4201   \n",
       "2                             4212         16950     690    107   \n",
       "3                           123700        558132   16609   2624   \n",
       "4                           954056       4573204  124709  11956   \n",
       "5                            19734         66711    2878   1871   \n",
       "6                            25289        131519    3533    524   \n",
       "7                           406008       1200438   61761   5618   \n",
       "8                            10254         45573    1194    480   \n",
       "9                            78695        421030    9850   1791   \n",
       "10                            4914         16382     764      4   \n",
       "11                           54015        209466    7303    898   \n",
       "12                           45450        353897    4183   1405   \n",
       "13                          192512        892340   25055   3691   \n",
       "14                           99967        322813   14386   1341   \n",
       "15                           95888        516659   12055   2201   \n",
       "16                          572625       2580519   75897   9948   \n",
       "17                           95964        335060   13785   2895   \n",
       "18                           35918        211287    3683    463   \n",
       "19                          575005       1222152   93485   5334   \n",
       "20                          119346        496671   17200   1586   \n",
       "21                            7759         33173    1033     61   \n",
       "\n",
       "Income_bracket  Upper Middle Class  \n",
       "department_id                       \n",
       "1                           895858  \n",
       "2                            14332  \n",
       "3                           475722  \n",
       "4                          3815366  \n",
       "5                            62502  \n",
       "6                           108388  \n",
       "7                          1014334  \n",
       "8                            40223  \n",
       "9                           355261  \n",
       "10                           12509  \n",
       "11                          175952  \n",
       "12                          303996  \n",
       "13                          761979  \n",
       "14                          271062  \n",
       "15                          441255  \n",
       "16                         2175027  \n",
       "17                          290962  \n",
       "18                          172451  \n",
       "19                          991574  \n",
       "20                          416446  \n",
       "21                           27119  "
      ]
     },
     "execution_count": 84,
     "metadata": {},
     "output_type": "execute_result"
    }
   ],
   "source": [
    "inc_dept"
   ]
  },
  {
   "cell_type": "code",
   "execution_count": 97,
   "id": "e99f1b2d",
   "metadata": {},
   "outputs": [
    {
     "data": {
      "image/png": "[encoded data removed]",
      "text/plain": [
       "<Figure size 864x576 with 1 Axes>"
      ]
     },
     "metadata": {
      "needs_background": "light"
     },
     "output_type": "display_data"
    }
   ],
   "source": [
    "incd = inc_dept.plot.bar(figsize = (12,8), title = 'Income Bracket Department Orders', xlabel = 'Department ID', ylabel = 'Number of Orders')"
   ]
  },
  {
   "cell_type": "code",
   "execution_count": 98,
   "id": "66b22d31",
   "metadata": {},
   "outputs": [],
   "source": [
    "# Export graph\n",
    "incd.figure.savefig(os.path.join(path, 'Analysis', 'Visualizations', 'inc_dept.png'))"
   ]
  },
  {
   "cell_type": "code",
   "execution_count": 21,
   "id": "be75eec6",
   "metadata": {},
   "outputs": [],
   "source": [
    "# Dependents to Region\n",
    "dep_reg = pd.crosstab(df['Dependents'], df['Region'], dropna = False)"
   ]
  },
  {
   "cell_type": "code",
   "execution_count": 71,
   "id": "f6c9d182",
   "metadata": {},
   "outputs": [
    {
     "data": {
      "text/html": [
       "<div>\n",
       "<style scoped>\n",
       "    .dataframe tbody tr th:only-of-type {\n",
       "        vertical-align: middle;\n",
       "    }\n",
       "\n",
       "    .dataframe tbody tr th {\n",
       "        vertical-align: top;\n",
       "    }\n",
       "\n",
       "    .dataframe thead th {\n",
       "        text-align: right;\n",
       "    }\n",
       "</style>\n",
       "<table border=\"1\" class=\"dataframe\">\n",
       "  <thead>\n",
       "    <tr style=\"text-align: right;\">\n",
       "      <th>Region</th>\n",
       "      <th>Midwest</th>\n",
       "      <th>Northeast</th>\n",
       "      <th>South</th>\n",
       "      <th>West</th>\n",
       "    </tr>\n",
       "    <tr>\n",
       "      <th>Dependents</th>\n",
       "      <th></th>\n",
       "      <th></th>\n",
       "      <th></th>\n",
       "      <th></th>\n",
       "    </tr>\n",
       "  </thead>\n",
       "  <tbody>\n",
       "    <tr>\n",
       "      <th>No</th>\n",
       "      <td>1906881</td>\n",
       "      <td>1419629</td>\n",
       "      <td>2704064</td>\n",
       "      <td>2074267</td>\n",
       "    </tr>\n",
       "    <tr>\n",
       "      <th>Yes</th>\n",
       "      <td>5696669</td>\n",
       "      <td>4308515</td>\n",
       "      <td>8097131</td>\n",
       "      <td>6225874</td>\n",
       "    </tr>\n",
       "  </tbody>\n",
       "</table>\n",
       "</div>"
      ],
      "text/plain": [
       "Region      Midwest  Northeast    South     West\n",
       "Dependents                                      \n",
       "No          1906881    1419629  2704064  2074267\n",
       "Yes         5696669    4308515  8097131  6225874"
      ]
     },
     "execution_count": 71,
     "metadata": {},
     "output_type": "execute_result"
    }
   ],
   "source": [
    "dep_reg"
   ]
  },
  {
   "cell_type": "code",
   "execution_count": 22,
   "id": "dce606f1",
   "metadata": {},
   "outputs": [
    {
     "data": {
      "image/png": "[encoded data removed]",
      "text/plain": [
       "<Figure size 432x288 with 1 Axes>"
      ]
     },
     "metadata": {
      "needs_background": "light"
     },
     "output_type": "display_data"
    }
   ],
   "source": [
    "dr = dep_reg.plot.bar(title = 'Orders by Customers with Dependents by Region', ylabel = 'Orders', xlabel = '')"
   ]
  },
  {
   "cell_type": "code",
   "execution_count": 23,
   "id": "696d4734",
   "metadata": {},
   "outputs": [],
   "source": [
    "# Export graph\n",
    "dr.figure.savefig(os.path.join(path, 'Analysis', 'Visualizations', 'dep_reg.png'))"
   ]
  },
  {
   "cell_type": "code",
   "execution_count": 4,
   "id": "03c54488",
   "metadata": {},
   "outputs": [],
   "source": [
    "# Dependents to department\n",
    "dep_dept = pd.crosstab(df['department_id'], df['Dependents'], dropna = False)"
   ]
  },
  {
   "cell_type": "code",
   "execution_count": 81,
   "id": "4d8a2f58",
   "metadata": {},
   "outputs": [
    {
     "data": {
      "text/html": [
       "<div>\n",
       "<style scoped>\n",
       "    .dataframe tbody tr th:only-of-type {\n",
       "        vertical-align: middle;\n",
       "    }\n",
       "\n",
       "    .dataframe tbody tr th {\n",
       "        vertical-align: top;\n",
       "    }\n",
       "\n",
       "    .dataframe thead th {\n",
       "        text-align: right;\n",
       "    }\n",
       "</style>\n",
       "<table border=\"1\" class=\"dataframe\">\n",
       "  <thead>\n",
       "    <tr style=\"text-align: right;\">\n",
       "      <th>Dependents</th>\n",
       "      <th>No</th>\n",
       "      <th>Yes</th>\n",
       "    </tr>\n",
       "    <tr>\n",
       "      <th>department_id</th>\n",
       "      <th></th>\n",
       "      <th></th>\n",
       "    </tr>\n",
       "  </thead>\n",
       "  <tbody>\n",
       "    <tr>\n",
       "      <th>1</th>\n",
       "      <td>557584</td>\n",
       "      <td>1678848</td>\n",
       "    </tr>\n",
       "    <tr>\n",
       "      <th>2</th>\n",
       "      <td>9175</td>\n",
       "      <td>27116</td>\n",
       "    </tr>\n",
       "    <tr>\n",
       "      <th>3</th>\n",
       "      <td>295538</td>\n",
       "      <td>881249</td>\n",
       "    </tr>\n",
       "    <tr>\n",
       "      <th>4</th>\n",
       "      <td>2375445</td>\n",
       "      <td>7103846</td>\n",
       "    </tr>\n",
       "    <tr>\n",
       "      <th>5</th>\n",
       "      <td>39118</td>\n",
       "      <td>114578</td>\n",
       "    </tr>\n",
       "    <tr>\n",
       "      <th>6</th>\n",
       "      <td>67713</td>\n",
       "      <td>201540</td>\n",
       "    </tr>\n",
       "    <tr>\n",
       "      <th>7</th>\n",
       "      <td>674450</td>\n",
       "      <td>2013709</td>\n",
       "    </tr>\n",
       "    <tr>\n",
       "      <th>8</th>\n",
       "      <td>24583</td>\n",
       "      <td>73141</td>\n",
       "    </tr>\n",
       "    <tr>\n",
       "      <th>9</th>\n",
       "      <td>215262</td>\n",
       "      <td>651365</td>\n",
       "    </tr>\n",
       "    <tr>\n",
       "      <th>10</th>\n",
       "      <td>8278</td>\n",
       "      <td>26295</td>\n",
       "    </tr>\n",
       "    <tr>\n",
       "      <th>11</th>\n",
       "      <td>112016</td>\n",
       "      <td>335618</td>\n",
       "    </tr>\n",
       "    <tr>\n",
       "      <th>12</th>\n",
       "      <td>174085</td>\n",
       "      <td>534846</td>\n",
       "    </tr>\n",
       "    <tr>\n",
       "      <th>13</th>\n",
       "      <td>466822</td>\n",
       "      <td>1408755</td>\n",
       "    </tr>\n",
       "    <tr>\n",
       "      <th>14</th>\n",
       "      <td>176248</td>\n",
       "      <td>533321</td>\n",
       "    </tr>\n",
       "    <tr>\n",
       "      <th>15</th>\n",
       "      <td>264838</td>\n",
       "      <td>803220</td>\n",
       "    </tr>\n",
       "    <tr>\n",
       "      <th>16</th>\n",
       "      <td>1353388</td>\n",
       "      <td>4060628</td>\n",
       "    </tr>\n",
       "    <tr>\n",
       "      <th>17</th>\n",
       "      <td>180773</td>\n",
       "      <td>557893</td>\n",
       "    </tr>\n",
       "    <tr>\n",
       "      <th>18</th>\n",
       "      <td>106494</td>\n",
       "      <td>317308</td>\n",
       "    </tr>\n",
       "    <tr>\n",
       "      <th>19</th>\n",
       "      <td>720798</td>\n",
       "      <td>2166752</td>\n",
       "    </tr>\n",
       "    <tr>\n",
       "      <th>20</th>\n",
       "      <td>265145</td>\n",
       "      <td>786104</td>\n",
       "    </tr>\n",
       "    <tr>\n",
       "      <th>21</th>\n",
       "      <td>17088</td>\n",
       "      <td>52057</td>\n",
       "    </tr>\n",
       "  </tbody>\n",
       "</table>\n",
       "</div>"
      ],
      "text/plain": [
       "Dependents          No      Yes\n",
       "department_id                  \n",
       "1               557584  1678848\n",
       "2                 9175    27116\n",
       "3               295538   881249\n",
       "4              2375445  7103846\n",
       "5                39118   114578\n",
       "6                67713   201540\n",
       "7               674450  2013709\n",
       "8                24583    73141\n",
       "9               215262   651365\n",
       "10                8278    26295\n",
       "11              112016   335618\n",
       "12              174085   534846\n",
       "13              466822  1408755\n",
       "14              176248   533321\n",
       "15              264838   803220\n",
       "16             1353388  4060628\n",
       "17              180773   557893\n",
       "18              106494   317308\n",
       "19              720798  2166752\n",
       "20              265145   786104\n",
       "21               17088    52057"
      ]
     },
     "execution_count": 81,
     "metadata": {},
     "output_type": "execute_result"
    }
   ],
   "source": [
    "dep_dept"
   ]
  },
  {
   "cell_type": "code",
   "execution_count": 5,
   "id": "0f6b5722",
   "metadata": {},
   "outputs": [
    {
     "data": {
      "image/png": "[encoded data removed]",
      "text/plain": [
       "<Figure size 864x576 with 1 Axes>"
      ]
     },
     "metadata": {
      "needs_background": "light"
     },
     "output_type": "display_data"
    }
   ],
   "source": [
    "dd = dep_dept.plot.bar(figsize = (12, 8), title = 'Orders by Customers with Dependents by Department', ylabel = 'Number of Orders (in millions)', xlabel = 'Department ID', color = ['orange', 'blue'] )"
   ]
  },
  {
   "cell_type": "code",
   "execution_count": 6,
   "id": "0abb3699",
   "metadata": {},
   "outputs": [],
   "source": [
    "# Export graph\n",
    "dd.figure.savefig(os.path.join(path, 'Analysis', 'Visualizations', 'dep_dept.png'))"
   ]
  },
  {
   "cell_type": "code",
   "execution_count": 114,
   "id": "861893e9",
   "metadata": {},
   "outputs": [],
   "source": [
    "# Dependents to average spent\n",
    "dep_spent = df.groupby('Dependents').agg({'avg_spent': ['min', 'max', 'mean']})"
   ]
  },
  {
   "cell_type": "code",
   "execution_count": 117,
   "id": "1b6cae44",
   "metadata": {},
   "outputs": [
    {
     "data": {
      "text/html": [
       "<div>\n",
       "<style scoped>\n",
       "    .dataframe tbody tr th:only-of-type {\n",
       "        vertical-align: middle;\n",
       "    }\n",
       "\n",
       "    .dataframe tbody tr th {\n",
       "        vertical-align: top;\n",
       "    }\n",
       "\n",
       "    .dataframe thead tr th {\n",
       "        text-align: left;\n",
       "    }\n",
       "\n",
       "    .dataframe thead tr:last-of-type th {\n",
       "        text-align: right;\n",
       "    }\n",
       "</style>\n",
       "<table border=\"1\" class=\"dataframe\">\n",
       "  <thead>\n",
       "    <tr>\n",
       "      <th></th>\n",
       "      <th colspan=\"3\" halign=\"left\">avg_spent</th>\n",
       "    </tr>\n",
       "    <tr>\n",
       "      <th></th>\n",
       "      <th>min</th>\n",
       "      <th>max</th>\n",
       "      <th>mean</th>\n",
       "    </tr>\n",
       "    <tr>\n",
       "      <th>Dependents</th>\n",
       "      <th></th>\n",
       "      <th></th>\n",
       "      <th></th>\n",
       "    </tr>\n",
       "  </thead>\n",
       "  <tbody>\n",
       "    <tr>\n",
       "      <th>No</th>\n",
       "      <td>1.0</td>\n",
       "      <td>25005.425</td>\n",
       "      <td>12.130265</td>\n",
       "    </tr>\n",
       "    <tr>\n",
       "      <th>Yes</th>\n",
       "      <td>1.0</td>\n",
       "      <td>12506.925</td>\n",
       "      <td>11.931712</td>\n",
       "    </tr>\n",
       "  </tbody>\n",
       "</table>\n",
       "</div>"
      ],
      "text/plain": [
       "           avg_spent                      \n",
       "                 min        max       mean\n",
       "Dependents                                \n",
       "No               1.0  25005.425  12.130265\n",
       "Yes              1.0  12506.925  11.931712"
      ]
     },
     "execution_count": 117,
     "metadata": {},
     "output_type": "execute_result"
    }
   ],
   "source": [
    "# Check results\n",
    "dep_spent"
   ]
  },
  {
   "cell_type": "code",
   "execution_count": 24,
   "id": "a828b313",
   "metadata": {},
   "outputs": [],
   "source": [
    "dep_spent_mean = df.groupby('Dependents').agg({'avg_spent' : ['mean']})"
   ]
  },
  {
   "cell_type": "code",
   "execution_count": 25,
   "id": "122029d2",
   "metadata": {},
   "outputs": [
    {
     "data": {
      "image/png": "[encoded data removed]",
      "text/plain": [
       "<Figure size 432x288 with 1 Axes>"
      ]
     },
     "metadata": {
      "needs_background": "light"
     },
     "output_type": "display_data"
    }
   ],
   "source": [
    "dsm = dep_spent_mean.plot(kind = 'bar', title = 'Average Spent Per Order by Customers with Dependents', color = 'green')"
   ]
  },
  {
   "cell_type": "code",
   "execution_count": 26,
   "id": "cd22db0c",
   "metadata": {},
   "outputs": [],
   "source": [
    "# Export graph\n",
    "dsm.figure.savefig(os.path.join(path, 'Analysis', 'Visualizations', 'dep_spent.png'))"
   ]
  },
  {
   "cell_type": "markdown",
   "id": "e2e25655",
   "metadata": {},
   "source": [
    "#### Due to different numbers of customers in each category statistical analysis would need to be done to determine if the differences are significant.  The crosstabs have all been copied into Excel to make the statistical analysis easier and the plots saved to the visualization folder in Analysis."
   ]
  },
  {
   "cell_type": "markdown",
   "id": "49bc07cc",
   "metadata": {},
   "source": [
    "## More data for Project Brief questions\n",
    "<a id ='more_data'></a>"
   ]
  },
  {
   "cell_type": "code",
   "execution_count": 12,
   "id": "528b213b",
   "metadata": {},
   "outputs": [],
   "source": [
    "# Average spent based on loyalty\n",
    "loy_spent = df.groupby('loyalty_flag').agg({'avg_spent': ['mean']})"
   ]
  },
  {
   "cell_type": "code",
   "execution_count": 13,
   "id": "9b82d77d",
   "metadata": {},
   "outputs": [
    {
     "data": {
      "text/html": [
       "<div>\n",
       "<style scoped>\n",
       "    .dataframe tbody tr th:only-of-type {\n",
       "        vertical-align: middle;\n",
       "    }\n",
       "\n",
       "    .dataframe tbody tr th {\n",
       "        vertical-align: top;\n",
       "    }\n",
       "\n",
       "    .dataframe thead tr th {\n",
       "        text-align: left;\n",
       "    }\n",
       "\n",
       "    .dataframe thead tr:last-of-type th {\n",
       "        text-align: right;\n",
       "    }\n",
       "</style>\n",
       "<table border=\"1\" class=\"dataframe\">\n",
       "  <thead>\n",
       "    <tr>\n",
       "      <th></th>\n",
       "      <th>avg_spent</th>\n",
       "    </tr>\n",
       "    <tr>\n",
       "      <th></th>\n",
       "      <th>mean</th>\n",
       "    </tr>\n",
       "    <tr>\n",
       "      <th>loyalty_flag</th>\n",
       "      <th></th>\n",
       "    </tr>\n",
       "  </thead>\n",
       "  <tbody>\n",
       "    <tr>\n",
       "      <th>Loyal Customer</th>\n",
       "      <td>10.388854</td>\n",
       "    </tr>\n",
       "    <tr>\n",
       "      <th>New Customer</th>\n",
       "      <td>13.294634</td>\n",
       "    </tr>\n",
       "    <tr>\n",
       "      <th>Regular Customer</th>\n",
       "      <td>12.496419</td>\n",
       "    </tr>\n",
       "  </tbody>\n",
       "</table>\n",
       "</div>"
      ],
      "text/plain": [
       "                  avg_spent\n",
       "                       mean\n",
       "loyalty_flag               \n",
       "Loyal Customer    10.388854\n",
       "New Customer      13.294634\n",
       "Regular Customer  12.496419"
      ]
     },
     "execution_count": 13,
     "metadata": {},
     "output_type": "execute_result"
    }
   ],
   "source": [
    "loy_spent"
   ]
  },
  {
   "cell_type": "code",
   "execution_count": 28,
   "id": "b8368edd",
   "metadata": {},
   "outputs": [
    {
     "data": {
      "text/plain": [
       "(array([0, 1, 2]),\n",
       " [Text(0, 0, 'Loyal Customer'),\n",
       "  Text(1, 0, 'New Customer'),\n",
       "  Text(2, 0, 'Regular Customer')])"
      ]
     },
     "execution_count": 28,
     "metadata": {},
     "output_type": "execute_result"
    },
    {
     "data": {
      "image/png": "[encoded data removed]",
      "text/plain": [
       "<Figure size 432x288 with 1 Axes>"
      ]
     },
     "metadata": {
      "needs_background": "light"
     },
     "output_type": "display_data"
    }
   ],
   "source": [
    "lsg = loy_spent.plot(kind = 'bar', ylabel = 'Average Spent', xlabel = '', title = 'Average Spent Per Order By Customers', color = 'green')\n",
    "plt.xticks(rotation = 0, ha = 'center')"
   ]
  },
  {
   "cell_type": "code",
   "execution_count": 29,
   "id": "f43e2d58",
   "metadata": {},
   "outputs": [],
   "source": [
    "# Export graph\n",
    "lsg.figure.savefig(os.path.join(path, 'Analysis', 'Visualizations', 'loy_spent.png'))"
   ]
  },
  {
   "cell_type": "code",
   "execution_count": 17,
   "id": "01ca7729",
   "metadata": {},
   "outputs": [],
   "source": [
    "# Departments orders by loyal customers\n",
    "loy_dept = pd.crosstab(df['department_id'], df['loyalty_flag'], dropna = False)"
   ]
  },
  {
   "cell_type": "code",
   "execution_count": 18,
   "id": "8aff512b",
   "metadata": {},
   "outputs": [
    {
     "data": {
      "text/html": [
       "<div>\n",
       "<style scoped>\n",
       "    .dataframe tbody tr th:only-of-type {\n",
       "        vertical-align: middle;\n",
       "    }\n",
       "\n",
       "    .dataframe tbody tr th {\n",
       "        vertical-align: top;\n",
       "    }\n",
       "\n",
       "    .dataframe thead th {\n",
       "        text-align: right;\n",
       "    }\n",
       "</style>\n",
       "<table border=\"1\" class=\"dataframe\">\n",
       "  <thead>\n",
       "    <tr style=\"text-align: right;\">\n",
       "      <th>loyalty_flag</th>\n",
       "      <th>Loyal Customer</th>\n",
       "      <th>New Customer</th>\n",
       "      <th>Regular Customer</th>\n",
       "    </tr>\n",
       "    <tr>\n",
       "      <th>department_id</th>\n",
       "      <th></th>\n",
       "      <th></th>\n",
       "      <th></th>\n",
       "    </tr>\n",
       "  </thead>\n",
       "  <tbody>\n",
       "    <tr>\n",
       "      <th>1</th>\n",
       "      <td>609954</td>\n",
       "      <td>485655</td>\n",
       "      <td>1140823</td>\n",
       "    </tr>\n",
       "    <tr>\n",
       "      <th>2</th>\n",
       "      <td>10715</td>\n",
       "      <td>7719</td>\n",
       "      <td>17857</td>\n",
       "    </tr>\n",
       "    <tr>\n",
       "      <th>3</th>\n",
       "      <td>381686</td>\n",
       "      <td>224397</td>\n",
       "      <td>570704</td>\n",
       "    </tr>\n",
       "    <tr>\n",
       "      <th>4</th>\n",
       "      <td>3147376</td>\n",
       "      <td>1736622</td>\n",
       "      <td>4595293</td>\n",
       "    </tr>\n",
       "    <tr>\n",
       "      <th>5</th>\n",
       "      <td>38723</td>\n",
       "      <td>37698</td>\n",
       "      <td>77275</td>\n",
       "    </tr>\n",
       "    <tr>\n",
       "      <th>6</th>\n",
       "      <td>78394</td>\n",
       "      <td>57103</td>\n",
       "      <td>133756</td>\n",
       "    </tr>\n",
       "    <tr>\n",
       "      <th>7</th>\n",
       "      <td>855024</td>\n",
       "      <td>512883</td>\n",
       "      <td>1320252</td>\n",
       "    </tr>\n",
       "    <tr>\n",
       "      <th>8</th>\n",
       "      <td>25470</td>\n",
       "      <td>20540</td>\n",
       "      <td>51714</td>\n",
       "    </tr>\n",
       "    <tr>\n",
       "      <th>9</th>\n",
       "      <td>242580</td>\n",
       "      <td>189327</td>\n",
       "      <td>434720</td>\n",
       "    </tr>\n",
       "    <tr>\n",
       "      <th>10</th>\n",
       "      <td>13834</td>\n",
       "      <td>5271</td>\n",
       "      <td>15468</td>\n",
       "    </tr>\n",
       "    <tr>\n",
       "      <th>11</th>\n",
       "      <td>123371</td>\n",
       "      <td>98725</td>\n",
       "      <td>225538</td>\n",
       "    </tr>\n",
       "    <tr>\n",
       "      <th>12</th>\n",
       "      <td>202481</td>\n",
       "      <td>146612</td>\n",
       "      <td>359838</td>\n",
       "    </tr>\n",
       "    <tr>\n",
       "      <th>13</th>\n",
       "      <td>560452</td>\n",
       "      <td>392306</td>\n",
       "      <td>922819</td>\n",
       "    </tr>\n",
       "    <tr>\n",
       "      <th>14</th>\n",
       "      <td>223577</td>\n",
       "      <td>139676</td>\n",
       "      <td>346316</td>\n",
       "    </tr>\n",
       "    <tr>\n",
       "      <th>15</th>\n",
       "      <td>294594</td>\n",
       "      <td>236180</td>\n",
       "      <td>537284</td>\n",
       "    </tr>\n",
       "    <tr>\n",
       "      <th>16</th>\n",
       "      <td>1835676</td>\n",
       "      <td>974289</td>\n",
       "      <td>2604051</td>\n",
       "    </tr>\n",
       "    <tr>\n",
       "      <th>17</th>\n",
       "      <td>196873</td>\n",
       "      <td>166926</td>\n",
       "      <td>374867</td>\n",
       "    </tr>\n",
       "    <tr>\n",
       "      <th>18</th>\n",
       "      <td>167108</td>\n",
       "      <td>60118</td>\n",
       "      <td>196576</td>\n",
       "    </tr>\n",
       "    <tr>\n",
       "      <th>19</th>\n",
       "      <td>943150</td>\n",
       "      <td>534251</td>\n",
       "      <td>1410149</td>\n",
       "    </tr>\n",
       "    <tr>\n",
       "      <th>20</th>\n",
       "      <td>324046</td>\n",
       "      <td>205750</td>\n",
       "      <td>521453</td>\n",
       "    </tr>\n",
       "    <tr>\n",
       "      <th>21</th>\n",
       "      <td>18350</td>\n",
       "      <td>17090</td>\n",
       "      <td>33705</td>\n",
       "    </tr>\n",
       "  </tbody>\n",
       "</table>\n",
       "</div>"
      ],
      "text/plain": [
       "loyalty_flag   Loyal Customer  New Customer  Regular Customer\n",
       "department_id                                                \n",
       "1                      609954        485655           1140823\n",
       "2                       10715          7719             17857\n",
       "3                      381686        224397            570704\n",
       "4                     3147376       1736622           4595293\n",
       "5                       38723         37698             77275\n",
       "6                       78394         57103            133756\n",
       "7                      855024        512883           1320252\n",
       "8                       25470         20540             51714\n",
       "9                      242580        189327            434720\n",
       "10                      13834          5271             15468\n",
       "11                     123371         98725            225538\n",
       "12                     202481        146612            359838\n",
       "13                     560452        392306            922819\n",
       "14                     223577        139676            346316\n",
       "15                     294594        236180            537284\n",
       "16                    1835676        974289           2604051\n",
       "17                     196873        166926            374867\n",
       "18                     167108         60118            196576\n",
       "19                     943150        534251           1410149\n",
       "20                     324046        205750            521453\n",
       "21                      18350         17090             33705"
      ]
     },
     "execution_count": 18,
     "metadata": {},
     "output_type": "execute_result"
    }
   ],
   "source": [
    "loy_dept"
   ]
  },
  {
   "cell_type": "code",
   "execution_count": 21,
   "id": "e882c055",
   "metadata": {},
   "outputs": [
    {
     "data": {
      "image/png": "[encoded data removed]",
      "text/plain": [
       "<Figure size 864x576 with 1 Axes>"
      ]
     },
     "metadata": {
      "needs_background": "light"
     },
     "output_type": "display_data"
    }
   ],
   "source": [
    "ldp = loy_dept.plot(figsize = (12, 8), kind = 'bar', xlabel = 'Department ID', ylabel = 'Number of Orders', title = 'Orders by Department from Loyal Customers')"
   ]
  },
  {
   "cell_type": "code",
   "execution_count": 22,
   "id": "975922fb",
   "metadata": {},
   "outputs": [],
   "source": [
    "# Export graph\n",
    "ldp.figure.savefig(os.path.join(path, 'Analysis', 'Visualizations', 'loy_dept.png'))"
   ]
  },
  {
   "cell_type": "code",
   "execution_count": 30,
   "id": "9fa96edb",
   "metadata": {},
   "outputs": [
    {
     "data": {
      "text/plain": [
       "(array([0, 1, 2]),\n",
       " [Text(0, 0, 'Regular Customer'),\n",
       "  Text(1, 0, 'Loyal Customer'),\n",
       "  Text(2, 0, 'New Customer')])"
      ]
     },
     "execution_count": 30,
     "metadata": {},
     "output_type": "execute_result"
    },
    {
     "data": {
      "image/png": "[encoded data removed]",
      "text/plain": [
       "<Figure size 432x288 with 1 Axes>"
      ]
     },
     "metadata": {
      "needs_background": "light"
     },
     "output_type": "display_data"
    }
   ],
   "source": [
    "# Graph of count of loyal customers\n",
    "loy_cnt = df['loyalty_flag'].value_counts().plot(kind = 'bar', xlabel = '', ylabel = 'Orders', title = 'Orders By Loyal Customers')\n",
    "plt.xticks(rotation = 0, ha = 'center')"
   ]
  },
  {
   "cell_type": "code",
   "execution_count": 31,
   "id": "9bb9e091",
   "metadata": {},
   "outputs": [],
   "source": [
    "# Export graph\n",
    "loy_cnt.figure.savefig(os.path.join(path, 'Analysis', 'Visualizations', 'loyal_cust.png'))"
   ]
  },
  {
   "cell_type": "code",
   "execution_count": 32,
   "id": "0c93a038",
   "metadata": {},
   "outputs": [],
   "source": [
    "# Average spent by region\n",
    "reg_spent = df.groupby('Region').agg({'avg_spent': ['mean']})"
   ]
  },
  {
   "cell_type": "code",
   "execution_count": 28,
   "id": "95de5f95",
   "metadata": {},
   "outputs": [
    {
     "data": {
      "text/html": [
       "<div>\n",
       "<style scoped>\n",
       "    .dataframe tbody tr th:only-of-type {\n",
       "        vertical-align: middle;\n",
       "    }\n",
       "\n",
       "    .dataframe tbody tr th {\n",
       "        vertical-align: top;\n",
       "    }\n",
       "\n",
       "    .dataframe thead tr th {\n",
       "        text-align: left;\n",
       "    }\n",
       "\n",
       "    .dataframe thead tr:last-of-type th {\n",
       "        text-align: right;\n",
       "    }\n",
       "</style>\n",
       "<table border=\"1\" class=\"dataframe\">\n",
       "  <thead>\n",
       "    <tr>\n",
       "      <th></th>\n",
       "      <th>avg_spent</th>\n",
       "    </tr>\n",
       "    <tr>\n",
       "      <th></th>\n",
       "      <th>mean</th>\n",
       "    </tr>\n",
       "    <tr>\n",
       "      <th>Region</th>\n",
       "      <th></th>\n",
       "    </tr>\n",
       "  </thead>\n",
       "  <tbody>\n",
       "    <tr>\n",
       "      <th>Midwest</th>\n",
       "      <td>12.715947</td>\n",
       "    </tr>\n",
       "    <tr>\n",
       "      <th>Northeast</th>\n",
       "      <td>11.556554</td>\n",
       "    </tr>\n",
       "    <tr>\n",
       "      <th>South</th>\n",
       "      <td>12.196474</td>\n",
       "    </tr>\n",
       "    <tr>\n",
       "      <th>West</th>\n",
       "      <td>11.321539</td>\n",
       "    </tr>\n",
       "  </tbody>\n",
       "</table>\n",
       "</div>"
      ],
      "text/plain": [
       "           avg_spent\n",
       "                mean\n",
       "Region              \n",
       "Midwest    12.715947\n",
       "Northeast  11.556554\n",
       "South      12.196474\n",
       "West       11.321539"
      ]
     },
     "execution_count": 28,
     "metadata": {},
     "output_type": "execute_result"
    }
   ],
   "source": [
    "reg_spent"
   ]
  },
  {
   "cell_type": "code",
   "execution_count": 33,
   "id": "a4183f0b",
   "metadata": {},
   "outputs": [
    {
     "data": {
      "text/plain": [
       "(array([0, 1, 2, 3]),\n",
       " [Text(0, 0, 'Midwest'),\n",
       "  Text(1, 0, 'Northeast'),\n",
       "  Text(2, 0, 'South'),\n",
       "  Text(3, 0, 'West')])"
      ]
     },
     "execution_count": 33,
     "metadata": {},
     "output_type": "execute_result"
    },
    {
     "data": {
      "image/png": "[encoded data removed]",
      "text/plain": [
       "<Figure size 432x288 with 1 Axes>"
      ]
     },
     "metadata": {
      "needs_background": "light"
     },
     "output_type": "display_data"
    }
   ],
   "source": [
    "rsg = reg_spent.plot(kind = 'bar', ylabel = 'Average Spent', title = 'Average Spent Per Order by Region', color = 'green')\n",
    "plt.xticks(rotation = 0, ha = 'center')"
   ]
  },
  {
   "cell_type": "code",
   "execution_count": 34,
   "id": "801edf7f",
   "metadata": {},
   "outputs": [],
   "source": [
    "# Export graph\n",
    "rsg.figure.savefig(os.path.join(path, 'Analysis', 'Visualizations', 'reg_spent.png'))"
   ]
  },
  {
   "cell_type": "code",
   "execution_count": 32,
   "id": "8ae4afc4",
   "metadata": {},
   "outputs": [],
   "source": [
    "# Department orders by region\n",
    "reg_dept = pd.crosstab(df['department_id'], df['Region'], dropna = False)"
   ]
  },
  {
   "cell_type": "code",
   "execution_count": 33,
   "id": "d51f582c",
   "metadata": {},
   "outputs": [
    {
     "data": {
      "text/html": [
       "<div>\n",
       "<style scoped>\n",
       "    .dataframe tbody tr th:only-of-type {\n",
       "        vertical-align: middle;\n",
       "    }\n",
       "\n",
       "    .dataframe tbody tr th {\n",
       "        vertical-align: top;\n",
       "    }\n",
       "\n",
       "    .dataframe thead th {\n",
       "        text-align: right;\n",
       "    }\n",
       "</style>\n",
       "<table border=\"1\" class=\"dataframe\">\n",
       "  <thead>\n",
       "    <tr style=\"text-align: right;\">\n",
       "      <th>Region</th>\n",
       "      <th>Midwest</th>\n",
       "      <th>Northeast</th>\n",
       "      <th>South</th>\n",
       "      <th>West</th>\n",
       "    </tr>\n",
       "    <tr>\n",
       "      <th>department_id</th>\n",
       "      <th></th>\n",
       "      <th></th>\n",
       "      <th></th>\n",
       "      <th></th>\n",
       "    </tr>\n",
       "  </thead>\n",
       "  <tbody>\n",
       "    <tr>\n",
       "      <th>1</th>\n",
       "      <td>524404</td>\n",
       "      <td>391311</td>\n",
       "      <td>748463</td>\n",
       "      <td>572254</td>\n",
       "    </tr>\n",
       "    <tr>\n",
       "      <th>2</th>\n",
       "      <td>8420</td>\n",
       "      <td>6585</td>\n",
       "      <td>12212</td>\n",
       "      <td>9074</td>\n",
       "    </tr>\n",
       "    <tr>\n",
       "      <th>3</th>\n",
       "      <td>274777</td>\n",
       "      <td>209468</td>\n",
       "      <td>390294</td>\n",
       "      <td>302248</td>\n",
       "    </tr>\n",
       "    <tr>\n",
       "      <th>4</th>\n",
       "      <td>2227937</td>\n",
       "      <td>1665839</td>\n",
       "      <td>3160551</td>\n",
       "      <td>2424964</td>\n",
       "    </tr>\n",
       "    <tr>\n",
       "      <th>5</th>\n",
       "      <td>36186</td>\n",
       "      <td>26542</td>\n",
       "      <td>51624</td>\n",
       "      <td>39344</td>\n",
       "    </tr>\n",
       "    <tr>\n",
       "      <th>6</th>\n",
       "      <td>63736</td>\n",
       "      <td>46891</td>\n",
       "      <td>89142</td>\n",
       "      <td>69484</td>\n",
       "    </tr>\n",
       "    <tr>\n",
       "      <th>7</th>\n",
       "      <td>625585</td>\n",
       "      <td>483422</td>\n",
       "      <td>898957</td>\n",
       "      <td>680195</td>\n",
       "    </tr>\n",
       "    <tr>\n",
       "      <th>8</th>\n",
       "      <td>22356</td>\n",
       "      <td>18601</td>\n",
       "      <td>31272</td>\n",
       "      <td>25495</td>\n",
       "    </tr>\n",
       "    <tr>\n",
       "      <th>9</th>\n",
       "      <td>203769</td>\n",
       "      <td>151816</td>\n",
       "      <td>287444</td>\n",
       "      <td>223598</td>\n",
       "    </tr>\n",
       "    <tr>\n",
       "      <th>10</th>\n",
       "      <td>8193</td>\n",
       "      <td>5802</td>\n",
       "      <td>11533</td>\n",
       "      <td>9045</td>\n",
       "    </tr>\n",
       "    <tr>\n",
       "      <th>11</th>\n",
       "      <td>105758</td>\n",
       "      <td>78824</td>\n",
       "      <td>150386</td>\n",
       "      <td>112666</td>\n",
       "    </tr>\n",
       "    <tr>\n",
       "      <th>12</th>\n",
       "      <td>166130</td>\n",
       "      <td>124621</td>\n",
       "      <td>235754</td>\n",
       "      <td>182426</td>\n",
       "    </tr>\n",
       "    <tr>\n",
       "      <th>13</th>\n",
       "      <td>442134</td>\n",
       "      <td>329479</td>\n",
       "      <td>622529</td>\n",
       "      <td>481435</td>\n",
       "    </tr>\n",
       "    <tr>\n",
       "      <th>14</th>\n",
       "      <td>165032</td>\n",
       "      <td>124889</td>\n",
       "      <td>236371</td>\n",
       "      <td>183277</td>\n",
       "    </tr>\n",
       "    <tr>\n",
       "      <th>15</th>\n",
       "      <td>250702</td>\n",
       "      <td>186755</td>\n",
       "      <td>356015</td>\n",
       "      <td>274586</td>\n",
       "    </tr>\n",
       "    <tr>\n",
       "      <th>16</th>\n",
       "      <td>1267696</td>\n",
       "      <td>956809</td>\n",
       "      <td>1801966</td>\n",
       "      <td>1387545</td>\n",
       "    </tr>\n",
       "    <tr>\n",
       "      <th>17</th>\n",
       "      <td>175824</td>\n",
       "      <td>131485</td>\n",
       "      <td>243070</td>\n",
       "      <td>188287</td>\n",
       "    </tr>\n",
       "    <tr>\n",
       "      <th>18</th>\n",
       "      <td>98983</td>\n",
       "      <td>75139</td>\n",
       "      <td>143654</td>\n",
       "      <td>106026</td>\n",
       "    </tr>\n",
       "    <tr>\n",
       "      <th>19</th>\n",
       "      <td>673715</td>\n",
       "      <td>514675</td>\n",
       "      <td>957346</td>\n",
       "      <td>741814</td>\n",
       "    </tr>\n",
       "    <tr>\n",
       "      <th>20</th>\n",
       "      <td>245678</td>\n",
       "      <td>186817</td>\n",
       "      <td>349419</td>\n",
       "      <td>269335</td>\n",
       "    </tr>\n",
       "    <tr>\n",
       "      <th>21</th>\n",
       "      <td>16535</td>\n",
       "      <td>12374</td>\n",
       "      <td>23193</td>\n",
       "      <td>17043</td>\n",
       "    </tr>\n",
       "  </tbody>\n",
       "</table>\n",
       "</div>"
      ],
      "text/plain": [
       "Region         Midwest  Northeast    South     West\n",
       "department_id                                      \n",
       "1               524404     391311   748463   572254\n",
       "2                 8420       6585    12212     9074\n",
       "3               274777     209468   390294   302248\n",
       "4              2227937    1665839  3160551  2424964\n",
       "5                36186      26542    51624    39344\n",
       "6                63736      46891    89142    69484\n",
       "7               625585     483422   898957   680195\n",
       "8                22356      18601    31272    25495\n",
       "9               203769     151816   287444   223598\n",
       "10                8193       5802    11533     9045\n",
       "11              105758      78824   150386   112666\n",
       "12              166130     124621   235754   182426\n",
       "13              442134     329479   622529   481435\n",
       "14              165032     124889   236371   183277\n",
       "15              250702     186755   356015   274586\n",
       "16             1267696     956809  1801966  1387545\n",
       "17              175824     131485   243070   188287\n",
       "18               98983      75139   143654   106026\n",
       "19              673715     514675   957346   741814\n",
       "20              245678     186817   349419   269335\n",
       "21               16535      12374    23193    17043"
      ]
     },
     "execution_count": 33,
     "metadata": {},
     "output_type": "execute_result"
    }
   ],
   "source": [
    "reg_dept"
   ]
  },
  {
   "cell_type": "code",
   "execution_count": 35,
   "id": "33e2e87c",
   "metadata": {},
   "outputs": [
    {
     "data": {
      "image/png": "[encoded data removed]",
      "text/plain": [
       "<Figure size 864x576 with 1 Axes>"
      ]
     },
     "metadata": {
      "needs_background": "light"
     },
     "output_type": "display_data"
    }
   ],
   "source": [
    "rdg = reg_dept.plot(figsize = (12, 8), kind = 'bar', title = 'Department Orders by Region', ylabel = 'Number of Orders', xlabel = 'Department ID')"
   ]
  },
  {
   "cell_type": "code",
   "execution_count": 36,
   "id": "31285d12",
   "metadata": {},
   "outputs": [],
   "source": [
    "# Export graph\n",
    "rdg.figure.savefig(os.path.join(path, 'Analysis', 'Visualizations', 'reg_dept.png'))"
   ]
  },
  {
   "cell_type": "code",
   "execution_count": 35,
   "id": "d6e10557",
   "metadata": {},
   "outputs": [
    {
     "data": {
      "text/plain": [
       "(array([0, 1, 2, 3]),\n",
       " [Text(0, 0, 'South'),\n",
       "  Text(1, 0, 'West'),\n",
       "  Text(2, 0, 'Midwest'),\n",
       "  Text(3, 0, 'Northeast')])"
      ]
     },
     "execution_count": 35,
     "metadata": {},
     "output_type": "execute_result"
    },
    {
     "data": {
      "image/png": "[encoded data removed]",
      "text/plain": [
       "<Figure size 432x288 with 1 Axes>"
      ]
     },
     "metadata": {
      "needs_background": "light"
     },
     "output_type": "display_data"
    }
   ],
   "source": [
    "# Graph of number of customers per region\n",
    "reg_cust=df['Region'].value_counts().plot(kind = 'bar', title = 'Customers Orders Per Region', ylabel = 'Orders in 10 millions')\n",
    "plt.xticks(rotation = 0, ha = 'center')"
   ]
  },
  {
   "cell_type": "code",
   "execution_count": 36,
   "id": "a5555587",
   "metadata": {},
   "outputs": [],
   "source": [
    "# Export graph\n",
    "reg_cust.figure.savefig(os.path.join(path, 'Analysis', 'Visualizations', 'reg_cust.png'))"
   ]
  },
  {
   "cell_type": "markdown",
   "id": "c6c9f9f9",
   "metadata": {},
   "source": [
    "<a id = '5'></a>"
   ]
  },
  {
   "cell_type": "markdown",
   "id": "1f1635e5",
   "metadata": {},
   "source": [
    "## Create some customer number information for each category\n",
    "<a id='customer_data'></a>"
   ]
  },
  {
   "cell_type": "code",
   "execution_count": 24,
   "id": "c1df5f53",
   "metadata": {},
   "outputs": [
    {
     "data": {
      "text/plain": [
       "206209"
      ]
     },
     "execution_count": 24,
     "metadata": {},
     "output_type": "execute_result"
    }
   ],
   "source": [
    "# Number of customers:\n",
    "df['user_id'].nunique()"
   ]
  },
  {
   "cell_type": "code",
   "execution_count": 25,
   "id": "27814cb7",
   "metadata": {},
   "outputs": [
    {
     "data": {
      "text/plain": [
       "age_category\n",
       "18 - 37 years    64396\n",
       "38 - 57 years    64718\n",
       "58 - 77 years    64156\n",
       "78 - 99 years    12939\n",
       "Name: user_id, dtype: int64"
      ]
     },
     "execution_count": 25,
     "metadata": {},
     "output_type": "execute_result"
    }
   ],
   "source": [
    "# Number of customers in each age category\n",
    "df.groupby('age_category')['user_id'].nunique()"
   ]
  },
  {
   "cell_type": "code",
   "execution_count": 26,
   "id": "40c42f18",
   "metadata": {},
   "outputs": [
    {
     "data": {
      "text/plain": [
       "Region\n",
       "Midwest      48519\n",
       "Northeast    36388\n",
       "South        68737\n",
       "West         52565\n",
       "Name: user_id, dtype: int64"
      ]
     },
     "execution_count": 26,
     "metadata": {},
     "output_type": "execute_result"
    }
   ],
   "source": [
    "# Number of customers per region\n",
    "df.groupby('Region')['user_id'].nunique()"
   ]
  },
  {
   "cell_type": "code",
   "execution_count": 31,
   "id": "5c266b1c",
   "metadata": {},
   "outputs": [
    {
     "data": {
      "text/plain": [
       "Dependents\n",
       "No      51602\n",
       "Yes    154607\n",
       "Name: user_id, dtype: int64"
      ]
     },
     "execution_count": 31,
     "metadata": {},
     "output_type": "execute_result"
    }
   ],
   "source": [
    "# Number of customers with dependents\n",
    "df.groupby('Dependents')['user_id'].nunique()"
   ]
  },
  {
   "cell_type": "code",
   "execution_count": 33,
   "id": "ed7a310d",
   "metadata": {},
   "outputs": [
    {
     "data": {
      "text/plain": [
       "Income_bracket\n",
       "Lower Middle Class    33796\n",
       "Middle Class          91441\n",
       "Poor                   5208\n",
       "Rich                    230\n",
       "Upper Middle Class    75534\n",
       "Name: user_id, dtype: int64"
      ]
     },
     "execution_count": 33,
     "metadata": {},
     "output_type": "execute_result"
    }
   ],
   "source": [
    "# Number of customers in each income bracket\n",
    "df.groupby('Income_bracket')['user_id'].nunique()"
   ]
  },
  {
   "cell_type": "code",
   "execution_count": 8,
   "id": "08381fe2",
   "metadata": {},
   "outputs": [],
   "source": [
    "# Crosstab loyalty flag with frequent flag\n",
    "loy_freq = pd.crosstab(df['loyalty_flag'], df['frequent'], dropna = False)"
   ]
  },
  {
   "cell_type": "code",
   "execution_count": 9,
   "id": "2969646d",
   "metadata": {},
   "outputs": [
    {
     "data": {
      "text/html": [
       "<div>\n",
       "<style scoped>\n",
       "    .dataframe tbody tr th:only-of-type {\n",
       "        vertical-align: middle;\n",
       "    }\n",
       "\n",
       "    .dataframe tbody tr th {\n",
       "        vertical-align: top;\n",
       "    }\n",
       "\n",
       "    .dataframe thead th {\n",
       "        text-align: right;\n",
       "    }\n",
       "</style>\n",
       "<table border=\"1\" class=\"dataframe\">\n",
       "  <thead>\n",
       "    <tr style=\"text-align: right;\">\n",
       "      <th>frequent</th>\n",
       "      <th>Frequent Customer</th>\n",
       "      <th>Non-Frequent Customer</th>\n",
       "      <th>Regular Customer</th>\n",
       "    </tr>\n",
       "    <tr>\n",
       "      <th>loyalty_flag</th>\n",
       "      <th></th>\n",
       "      <th></th>\n",
       "      <th></th>\n",
       "    </tr>\n",
       "  </thead>\n",
       "  <tbody>\n",
       "    <tr>\n",
       "      <th>Loyal Customer</th>\n",
       "      <td>10289301</td>\n",
       "      <td>0</td>\n",
       "      <td>4133</td>\n",
       "    </tr>\n",
       "    <tr>\n",
       "      <th>New Customer</th>\n",
       "      <td>1649818</td>\n",
       "      <td>2727229</td>\n",
       "      <td>1872091</td>\n",
       "    </tr>\n",
       "    <tr>\n",
       "      <th>Regular Customer</th>\n",
       "      <td>9637844</td>\n",
       "      <td>912194</td>\n",
       "      <td>5340420</td>\n",
       "    </tr>\n",
       "  </tbody>\n",
       "</table>\n",
       "</div>"
      ],
      "text/plain": [
       "frequent          Frequent Customer  Non-Frequent Customer  Regular Customer\n",
       "loyalty_flag                                                                \n",
       "Loyal Customer             10289301                      0              4133\n",
       "New Customer                1649818                2727229           1872091\n",
       "Regular Customer            9637844                 912194           5340420"
      ]
     },
     "execution_count": 9,
     "metadata": {},
     "output_type": "execute_result"
    }
   ],
   "source": [
    "loy_freq"
   ]
  },
  {
   "cell_type": "code",
   "execution_count": 12,
   "id": "d53f29eb",
   "metadata": {},
   "outputs": [
    {
     "data": {
      "text/plain": [
       "(array([0, 1, 2]),\n",
       " [Text(0, 0, 'Loyal Customer'),\n",
       "  Text(1, 0, 'New Customer'),\n",
       "  Text(2, 0, 'Regular Customer')])"
      ]
     },
     "execution_count": 12,
     "metadata": {},
     "output_type": "execute_result"
    },
    {
     "data": {
      "image/png": "[encoded data removed]",
      "text/plain": [
       "<Figure size 432x288 with 1 Axes>"
      ]
     },
     "metadata": {
      "needs_background": "light"
     },
     "output_type": "display_data"
    }
   ],
   "source": [
    "lfg = loy_freq.plot(kind = 'bar', title = 'Orders by Loyal and Frequent Customers', xlabel = '', ylabel = 'Orders in 10 millions')\n",
    "plt.xticks(rotation = 0, ha = 'center')"
   ]
  },
  {
   "cell_type": "code",
   "execution_count": 13,
   "id": "472f5352",
   "metadata": {},
   "outputs": [],
   "source": [
    "#Export Graph\n",
    "lfg.figure.savefig(os.path.join(path, 'Analysis', 'Visualizations', 'loy_freq.png'))"
   ]
  },
  {
   "cell_type": "code",
   "execution_count": 14,
   "id": "fbf769d5",
   "metadata": {},
   "outputs": [],
   "source": [
    "# Number of items in the price range category\n",
    "item_range = df.groupby('price_ranges')['product_id'].nunique()"
   ]
  },
  {
   "cell_type": "code",
   "execution_count": 17,
   "id": "701ea6a3",
   "metadata": {},
   "outputs": [
    {
     "data": {
      "text/plain": [
       "price_ranges\n",
       "High-range product      690\n",
       "Low-range product     16292\n",
       "Mid-range product     32694\n",
       "Name: product_id, dtype: int64"
      ]
     },
     "execution_count": 17,
     "metadata": {},
     "output_type": "execute_result"
    }
   ],
   "source": [
    "item_range"
   ]
  },
  {
   "cell_type": "code",
   "execution_count": 18,
   "id": "da050e71",
   "metadata": {},
   "outputs": [],
   "source": [
    "# Number of customers in loyalty category, 206209 total customers\n",
    "cust_loy = df.groupby('loyalty_flag')['user_id'].nunique()"
   ]
  },
  {
   "cell_type": "code",
   "execution_count": 20,
   "id": "71a91943",
   "metadata": {},
   "outputs": [],
   "source": [
    "cust_loy.to_clipboard(excel = True)"
   ]
  },
  {
   "cell_type": "code",
   "execution_count": 21,
   "id": "1807945a",
   "metadata": {},
   "outputs": [],
   "source": [
    "# of customers in frequent category\n",
    "cust_freq = df.groupby('frequent')['user_id'].nunique()"
   ]
  },
  {
   "cell_type": "code",
   "execution_count": 23,
   "id": "031c5e89",
   "metadata": {},
   "outputs": [],
   "source": [
    "cust_freq.to_clipboard(excel = True)"
   ]
  },
  {
   "cell_type": "code",
   "execution_count": null,
   "id": "c11c791b",
   "metadata": {},
   "outputs": [],
   "source": []
  }
 ],
 "metadata": {
  "kernelspec": {
   "display_name": "Python 3 (ipykernel)",
   "language": "python",
   "name": "python3"
  },
  "language_info": {
   "codemirror_mode": {
    "name": "ipython",
    "version": 3
   },
   "file_extension": ".py",
   "mimetype": "text/x-python",
   "name": "python",
   "nbconvert_exporter": "python",
   "pygments_lexer": "ipython3",
   "version": "3.9.12"
  }
 },
 "nbformat": 4,
 "nbformat_minor": 5
}
